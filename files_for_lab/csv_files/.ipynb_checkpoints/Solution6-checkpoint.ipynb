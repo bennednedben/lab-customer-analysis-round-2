{
 "cells": [
  {
   "cell_type": "markdown",
   "id": "f4343719",
   "metadata": {},
   "source": [
    "# Lab | Customer Analysis Round 2"
   ]
  },
  {
   "cell_type": "code",
   "execution_count": 1,
   "id": "aa5f15f2",
   "metadata": {},
   "outputs": [],
   "source": [
    "import pandas as pd\n",
    "import numpy as np\n",
    "import matplotlib.pyplot as plt\n",
    "import seaborn as sns"
   ]
  },
  {
   "cell_type": "markdown",
   "id": "ea086824",
   "metadata": {},
   "source": [
    "### store table (marketing_customer_analysis.csv) into a variable (data) and display \n",
    "#### next time use name \"df\" instead od \"data\" df=dataframe (Datensatz)"
   ]
  },
  {
   "cell_type": "code",
   "execution_count": 2,
   "id": "0a1db6cc",
   "metadata": {},
   "outputs": [
    {
     "data": {
      "text/html": [
       "<div>\n",
       "<style scoped>\n",
       "    .dataframe tbody tr th:only-of-type {\n",
       "        vertical-align: middle;\n",
       "    }\n",
       "\n",
       "    .dataframe tbody tr th {\n",
       "        vertical-align: top;\n",
       "    }\n",
       "\n",
       "    .dataframe thead th {\n",
       "        text-align: right;\n",
       "    }\n",
       "</style>\n",
       "<table border=\"1\" class=\"dataframe\">\n",
       "  <thead>\n",
       "    <tr style=\"text-align: right;\">\n",
       "      <th></th>\n",
       "      <th>Unnamed: 0</th>\n",
       "      <th>Customer</th>\n",
       "      <th>State</th>\n",
       "      <th>Customer Lifetime Value</th>\n",
       "      <th>Response</th>\n",
       "      <th>Coverage</th>\n",
       "      <th>Education</th>\n",
       "      <th>Effective To Date</th>\n",
       "      <th>EmploymentStatus</th>\n",
       "      <th>Gender</th>\n",
       "      <th>...</th>\n",
       "      <th>Number of Open Complaints</th>\n",
       "      <th>Number of Policies</th>\n",
       "      <th>Policy Type</th>\n",
       "      <th>Policy</th>\n",
       "      <th>Renew Offer Type</th>\n",
       "      <th>Sales Channel</th>\n",
       "      <th>Total Claim Amount</th>\n",
       "      <th>Vehicle Class</th>\n",
       "      <th>Vehicle Size</th>\n",
       "      <th>Vehicle Type</th>\n",
       "    </tr>\n",
       "  </thead>\n",
       "  <tbody>\n",
       "    <tr>\n",
       "      <th>0</th>\n",
       "      <td>0</td>\n",
       "      <td>DK49336</td>\n",
       "      <td>Arizona</td>\n",
       "      <td>4809.216960</td>\n",
       "      <td>No</td>\n",
       "      <td>Basic</td>\n",
       "      <td>College</td>\n",
       "      <td>2/18/11</td>\n",
       "      <td>Employed</td>\n",
       "      <td>M</td>\n",
       "      <td>...</td>\n",
       "      <td>0.0</td>\n",
       "      <td>9</td>\n",
       "      <td>Corporate Auto</td>\n",
       "      <td>Corporate L3</td>\n",
       "      <td>Offer3</td>\n",
       "      <td>Agent</td>\n",
       "      <td>292.800000</td>\n",
       "      <td>Four-Door Car</td>\n",
       "      <td>Medsize</td>\n",
       "      <td>NaN</td>\n",
       "    </tr>\n",
       "    <tr>\n",
       "      <th>1</th>\n",
       "      <td>1</td>\n",
       "      <td>KX64629</td>\n",
       "      <td>California</td>\n",
       "      <td>2228.525238</td>\n",
       "      <td>No</td>\n",
       "      <td>Basic</td>\n",
       "      <td>College</td>\n",
       "      <td>1/18/11</td>\n",
       "      <td>Unemployed</td>\n",
       "      <td>F</td>\n",
       "      <td>...</td>\n",
       "      <td>0.0</td>\n",
       "      <td>1</td>\n",
       "      <td>Personal Auto</td>\n",
       "      <td>Personal L3</td>\n",
       "      <td>Offer4</td>\n",
       "      <td>Call Center</td>\n",
       "      <td>744.924331</td>\n",
       "      <td>Four-Door Car</td>\n",
       "      <td>Medsize</td>\n",
       "      <td>NaN</td>\n",
       "    </tr>\n",
       "    <tr>\n",
       "      <th>2</th>\n",
       "      <td>2</td>\n",
       "      <td>LZ68649</td>\n",
       "      <td>Washington</td>\n",
       "      <td>14947.917300</td>\n",
       "      <td>No</td>\n",
       "      <td>Basic</td>\n",
       "      <td>Bachelor</td>\n",
       "      <td>2/10/11</td>\n",
       "      <td>Employed</td>\n",
       "      <td>M</td>\n",
       "      <td>...</td>\n",
       "      <td>0.0</td>\n",
       "      <td>2</td>\n",
       "      <td>Personal Auto</td>\n",
       "      <td>Personal L3</td>\n",
       "      <td>Offer3</td>\n",
       "      <td>Call Center</td>\n",
       "      <td>480.000000</td>\n",
       "      <td>SUV</td>\n",
       "      <td>Medsize</td>\n",
       "      <td>A</td>\n",
       "    </tr>\n",
       "    <tr>\n",
       "      <th>3</th>\n",
       "      <td>3</td>\n",
       "      <td>XL78013</td>\n",
       "      <td>Oregon</td>\n",
       "      <td>22332.439460</td>\n",
       "      <td>Yes</td>\n",
       "      <td>Extended</td>\n",
       "      <td>College</td>\n",
       "      <td>1/11/11</td>\n",
       "      <td>Employed</td>\n",
       "      <td>M</td>\n",
       "      <td>...</td>\n",
       "      <td>0.0</td>\n",
       "      <td>2</td>\n",
       "      <td>Corporate Auto</td>\n",
       "      <td>Corporate L3</td>\n",
       "      <td>Offer2</td>\n",
       "      <td>Branch</td>\n",
       "      <td>484.013411</td>\n",
       "      <td>Four-Door Car</td>\n",
       "      <td>Medsize</td>\n",
       "      <td>A</td>\n",
       "    </tr>\n",
       "    <tr>\n",
       "      <th>4</th>\n",
       "      <td>4</td>\n",
       "      <td>QA50777</td>\n",
       "      <td>Oregon</td>\n",
       "      <td>9025.067525</td>\n",
       "      <td>No</td>\n",
       "      <td>Premium</td>\n",
       "      <td>Bachelor</td>\n",
       "      <td>1/17/11</td>\n",
       "      <td>Medical Leave</td>\n",
       "      <td>F</td>\n",
       "      <td>...</td>\n",
       "      <td>NaN</td>\n",
       "      <td>7</td>\n",
       "      <td>Personal Auto</td>\n",
       "      <td>Personal L2</td>\n",
       "      <td>Offer1</td>\n",
       "      <td>Branch</td>\n",
       "      <td>707.925645</td>\n",
       "      <td>Four-Door Car</td>\n",
       "      <td>Medsize</td>\n",
       "      <td>NaN</td>\n",
       "    </tr>\n",
       "    <tr>\n",
       "      <th>...</th>\n",
       "      <td>...</td>\n",
       "      <td>...</td>\n",
       "      <td>...</td>\n",
       "      <td>...</td>\n",
       "      <td>...</td>\n",
       "      <td>...</td>\n",
       "      <td>...</td>\n",
       "      <td>...</td>\n",
       "      <td>...</td>\n",
       "      <td>...</td>\n",
       "      <td>...</td>\n",
       "      <td>...</td>\n",
       "      <td>...</td>\n",
       "      <td>...</td>\n",
       "      <td>...</td>\n",
       "      <td>...</td>\n",
       "      <td>...</td>\n",
       "      <td>...</td>\n",
       "      <td>...</td>\n",
       "      <td>...</td>\n",
       "      <td>...</td>\n",
       "    </tr>\n",
       "    <tr>\n",
       "      <th>10905</th>\n",
       "      <td>10905</td>\n",
       "      <td>FE99816</td>\n",
       "      <td>Nevada</td>\n",
       "      <td>15563.369440</td>\n",
       "      <td>No</td>\n",
       "      <td>Premium</td>\n",
       "      <td>Bachelor</td>\n",
       "      <td>1/19/11</td>\n",
       "      <td>Unemployed</td>\n",
       "      <td>F</td>\n",
       "      <td>...</td>\n",
       "      <td>NaN</td>\n",
       "      <td>7</td>\n",
       "      <td>Personal Auto</td>\n",
       "      <td>Personal L1</td>\n",
       "      <td>Offer3</td>\n",
       "      <td>Web</td>\n",
       "      <td>1214.400000</td>\n",
       "      <td>Luxury Car</td>\n",
       "      <td>Medsize</td>\n",
       "      <td>A</td>\n",
       "    </tr>\n",
       "    <tr>\n",
       "      <th>10906</th>\n",
       "      <td>10906</td>\n",
       "      <td>KX53892</td>\n",
       "      <td>Oregon</td>\n",
       "      <td>5259.444853</td>\n",
       "      <td>No</td>\n",
       "      <td>Basic</td>\n",
       "      <td>College</td>\n",
       "      <td>1/6/11</td>\n",
       "      <td>Employed</td>\n",
       "      <td>F</td>\n",
       "      <td>...</td>\n",
       "      <td>0.0</td>\n",
       "      <td>6</td>\n",
       "      <td>Personal Auto</td>\n",
       "      <td>Personal L3</td>\n",
       "      <td>Offer2</td>\n",
       "      <td>Branch</td>\n",
       "      <td>273.018929</td>\n",
       "      <td>Four-Door Car</td>\n",
       "      <td>Medsize</td>\n",
       "      <td>A</td>\n",
       "    </tr>\n",
       "    <tr>\n",
       "      <th>10907</th>\n",
       "      <td>10907</td>\n",
       "      <td>TL39050</td>\n",
       "      <td>Arizona</td>\n",
       "      <td>23893.304100</td>\n",
       "      <td>No</td>\n",
       "      <td>Extended</td>\n",
       "      <td>Bachelor</td>\n",
       "      <td>2/6/11</td>\n",
       "      <td>Employed</td>\n",
       "      <td>F</td>\n",
       "      <td>...</td>\n",
       "      <td>0.0</td>\n",
       "      <td>2</td>\n",
       "      <td>Corporate Auto</td>\n",
       "      <td>Corporate L3</td>\n",
       "      <td>Offer1</td>\n",
       "      <td>Web</td>\n",
       "      <td>381.306996</td>\n",
       "      <td>Luxury SUV</td>\n",
       "      <td>Medsize</td>\n",
       "      <td>NaN</td>\n",
       "    </tr>\n",
       "    <tr>\n",
       "      <th>10908</th>\n",
       "      <td>10908</td>\n",
       "      <td>WA60547</td>\n",
       "      <td>California</td>\n",
       "      <td>11971.977650</td>\n",
       "      <td>No</td>\n",
       "      <td>Premium</td>\n",
       "      <td>College</td>\n",
       "      <td>2/13/11</td>\n",
       "      <td>Employed</td>\n",
       "      <td>F</td>\n",
       "      <td>...</td>\n",
       "      <td>4.0</td>\n",
       "      <td>6</td>\n",
       "      <td>Personal Auto</td>\n",
       "      <td>Personal L1</td>\n",
       "      <td>Offer1</td>\n",
       "      <td>Branch</td>\n",
       "      <td>618.288849</td>\n",
       "      <td>SUV</td>\n",
       "      <td>Medsize</td>\n",
       "      <td>A</td>\n",
       "    </tr>\n",
       "    <tr>\n",
       "      <th>10909</th>\n",
       "      <td>10909</td>\n",
       "      <td>IV32877</td>\n",
       "      <td>NaN</td>\n",
       "      <td>6857.519928</td>\n",
       "      <td>NaN</td>\n",
       "      <td>Basic</td>\n",
       "      <td>Bachelor</td>\n",
       "      <td>1/8/11</td>\n",
       "      <td>Unemployed</td>\n",
       "      <td>M</td>\n",
       "      <td>...</td>\n",
       "      <td>0.0</td>\n",
       "      <td>3</td>\n",
       "      <td>Personal Auto</td>\n",
       "      <td>Personal L1</td>\n",
       "      <td>Offer4</td>\n",
       "      <td>Web</td>\n",
       "      <td>1021.719397</td>\n",
       "      <td>SUV</td>\n",
       "      <td>Medsize</td>\n",
       "      <td>NaN</td>\n",
       "    </tr>\n",
       "  </tbody>\n",
       "</table>\n",
       "<p>10910 rows × 26 columns</p>\n",
       "</div>"
      ],
      "text/plain": [
       "       Unnamed: 0 Customer       State  Customer Lifetime Value Response  \\\n",
       "0               0  DK49336     Arizona              4809.216960       No   \n",
       "1               1  KX64629  California              2228.525238       No   \n",
       "2               2  LZ68649  Washington             14947.917300       No   \n",
       "3               3  XL78013      Oregon             22332.439460      Yes   \n",
       "4               4  QA50777      Oregon              9025.067525       No   \n",
       "...           ...      ...         ...                      ...      ...   \n",
       "10905       10905  FE99816      Nevada             15563.369440       No   \n",
       "10906       10906  KX53892      Oregon              5259.444853       No   \n",
       "10907       10907  TL39050     Arizona             23893.304100       No   \n",
       "10908       10908  WA60547  California             11971.977650       No   \n",
       "10909       10909  IV32877         NaN              6857.519928      NaN   \n",
       "\n",
       "       Coverage Education Effective To Date EmploymentStatus Gender  ...  \\\n",
       "0         Basic   College           2/18/11         Employed      M  ...   \n",
       "1         Basic   College           1/18/11       Unemployed      F  ...   \n",
       "2         Basic  Bachelor           2/10/11         Employed      M  ...   \n",
       "3      Extended   College           1/11/11         Employed      M  ...   \n",
       "4       Premium  Bachelor           1/17/11    Medical Leave      F  ...   \n",
       "...         ...       ...               ...              ...    ...  ...   \n",
       "10905   Premium  Bachelor           1/19/11       Unemployed      F  ...   \n",
       "10906     Basic   College            1/6/11         Employed      F  ...   \n",
       "10907  Extended  Bachelor            2/6/11         Employed      F  ...   \n",
       "10908   Premium   College           2/13/11         Employed      F  ...   \n",
       "10909     Basic  Bachelor            1/8/11       Unemployed      M  ...   \n",
       "\n",
       "       Number of Open Complaints Number of Policies     Policy Type  \\\n",
       "0                            0.0                  9  Corporate Auto   \n",
       "1                            0.0                  1   Personal Auto   \n",
       "2                            0.0                  2   Personal Auto   \n",
       "3                            0.0                  2  Corporate Auto   \n",
       "4                            NaN                  7   Personal Auto   \n",
       "...                          ...                ...             ...   \n",
       "10905                        NaN                  7   Personal Auto   \n",
       "10906                        0.0                  6   Personal Auto   \n",
       "10907                        0.0                  2  Corporate Auto   \n",
       "10908                        4.0                  6   Personal Auto   \n",
       "10909                        0.0                  3   Personal Auto   \n",
       "\n",
       "             Policy  Renew Offer Type  Sales Channel  Total Claim Amount  \\\n",
       "0      Corporate L3            Offer3          Agent          292.800000   \n",
       "1       Personal L3            Offer4    Call Center          744.924331   \n",
       "2       Personal L3            Offer3    Call Center          480.000000   \n",
       "3      Corporate L3            Offer2         Branch          484.013411   \n",
       "4       Personal L2            Offer1         Branch          707.925645   \n",
       "...             ...               ...            ...                 ...   \n",
       "10905   Personal L1            Offer3            Web         1214.400000   \n",
       "10906   Personal L3            Offer2         Branch          273.018929   \n",
       "10907  Corporate L3            Offer1            Web          381.306996   \n",
       "10908   Personal L1            Offer1         Branch          618.288849   \n",
       "10909   Personal L1            Offer4            Web         1021.719397   \n",
       "\n",
       "       Vehicle Class Vehicle Size Vehicle Type  \n",
       "0      Four-Door Car      Medsize          NaN  \n",
       "1      Four-Door Car      Medsize          NaN  \n",
       "2                SUV      Medsize            A  \n",
       "3      Four-Door Car      Medsize            A  \n",
       "4      Four-Door Car      Medsize          NaN  \n",
       "...              ...          ...          ...  \n",
       "10905     Luxury Car      Medsize            A  \n",
       "10906  Four-Door Car      Medsize            A  \n",
       "10907     Luxury SUV      Medsize          NaN  \n",
       "10908            SUV      Medsize            A  \n",
       "10909            SUV      Medsize          NaN  \n",
       "\n",
       "[10910 rows x 26 columns]"
      ]
     },
     "metadata": {},
     "output_type": "display_data"
    }
   ],
   "source": [
    "data = pd.read_csv('./marketing_customer_analysis.csv')\n",
    "display(data)\n"
   ]
  },
  {
   "cell_type": "markdown",
   "id": "d6e850a2",
   "metadata": {},
   "source": [
    "### Show the dataframe shape (10910 rows/26 columns)"
   ]
  },
  {
   "cell_type": "code",
   "execution_count": 3,
   "id": "30cd9363",
   "metadata": {},
   "outputs": [
    {
     "data": {
      "text/plain": [
       "(10910, 26)"
      ]
     },
     "execution_count": 3,
     "metadata": {},
     "output_type": "execute_result"
    }
   ],
   "source": [
    "data.shape"
   ]
  },
  {
   "cell_type": "markdown",
   "id": "d8544664",
   "metadata": {},
   "source": [
    "### Show the data types in each column"
   ]
  },
  {
   "cell_type": "code",
   "execution_count": 4,
   "id": "ad759d14",
   "metadata": {},
   "outputs": [
    {
     "data": {
      "text/plain": [
       "Unnamed: 0                         int64\n",
       "Customer                          object\n",
       "State                             object\n",
       "Customer Lifetime Value          float64\n",
       "Response                          object\n",
       "Coverage                          object\n",
       "Education                         object\n",
       "Effective To Date                 object\n",
       "EmploymentStatus                  object\n",
       "Gender                            object\n",
       "Income                             int64\n",
       "Location Code                     object\n",
       "Marital Status                    object\n",
       "Monthly Premium Auto               int64\n",
       "Months Since Last Claim          float64\n",
       "Months Since Policy Inception      int64\n",
       "Number of Open Complaints        float64\n",
       "Number of Policies                 int64\n",
       "Policy Type                       object\n",
       "Policy                            object\n",
       "Renew Offer Type                  object\n",
       "Sales Channel                     object\n",
       "Total Claim Amount               float64\n",
       "Vehicle Class                     object\n",
       "Vehicle Size                      object\n",
       "Vehicle Type                      object\n",
       "dtype: object"
      ]
     },
     "execution_count": 4,
     "metadata": {},
     "output_type": "execute_result"
    }
   ],
   "source": [
    "data.dtypes"
   ]
  },
  {
   "cell_type": "markdown",
   "id": "d78a7043",
   "metadata": {},
   "source": [
    "### Which columns are numerical?"
   ]
  },
  {
   "cell_type": "code",
   "execution_count": 5,
   "id": "5e07ea19",
   "metadata": {},
   "outputs": [
    {
     "data": {
      "text/plain": [
       "['Unnamed: 0',\n",
       " 'Customer Lifetime Value',\n",
       " 'Income',\n",
       " 'Monthly Premium Auto',\n",
       " 'Months Since Last Claim',\n",
       " 'Months Since Policy Inception',\n",
       " 'Number of Open Complaints',\n",
       " 'Number of Policies',\n",
       " 'Total Claim Amount']"
      ]
     },
     "execution_count": 5,
     "metadata": {},
     "output_type": "execute_result"
    }
   ],
   "source": [
    "numerical_cols = data.select_dtypes(include=['float', 'int']).columns.tolist()\n",
    "numerical_cols"
   ]
  },
  {
   "cell_type": "code",
   "execution_count": 6,
   "id": "c4e81e32",
   "metadata": {},
   "outputs": [
    {
     "data": {
      "text/html": [
       "<div>\n",
       "<style scoped>\n",
       "    .dataframe tbody tr th:only-of-type {\n",
       "        vertical-align: middle;\n",
       "    }\n",
       "\n",
       "    .dataframe tbody tr th {\n",
       "        vertical-align: top;\n",
       "    }\n",
       "\n",
       "    .dataframe thead th {\n",
       "        text-align: right;\n",
       "    }\n",
       "</style>\n",
       "<table border=\"1\" class=\"dataframe\">\n",
       "  <thead>\n",
       "    <tr style=\"text-align: right;\">\n",
       "      <th></th>\n",
       "      <th>Unnamed: 0</th>\n",
       "      <th>Customer Lifetime Value</th>\n",
       "      <th>Income</th>\n",
       "      <th>Monthly Premium Auto</th>\n",
       "      <th>Months Since Last Claim</th>\n",
       "      <th>Months Since Policy Inception</th>\n",
       "      <th>Number of Open Complaints</th>\n",
       "      <th>Number of Policies</th>\n",
       "      <th>Total Claim Amount</th>\n",
       "    </tr>\n",
       "  </thead>\n",
       "  <tbody>\n",
       "    <tr>\n",
       "      <th>0</th>\n",
       "      <td>0</td>\n",
       "      <td>4809.216960</td>\n",
       "      <td>48029</td>\n",
       "      <td>61</td>\n",
       "      <td>7.0</td>\n",
       "      <td>52</td>\n",
       "      <td>0.0</td>\n",
       "      <td>9</td>\n",
       "      <td>292.800000</td>\n",
       "    </tr>\n",
       "    <tr>\n",
       "      <th>1</th>\n",
       "      <td>1</td>\n",
       "      <td>2228.525238</td>\n",
       "      <td>0</td>\n",
       "      <td>64</td>\n",
       "      <td>3.0</td>\n",
       "      <td>26</td>\n",
       "      <td>0.0</td>\n",
       "      <td>1</td>\n",
       "      <td>744.924331</td>\n",
       "    </tr>\n",
       "    <tr>\n",
       "      <th>2</th>\n",
       "      <td>2</td>\n",
       "      <td>14947.917300</td>\n",
       "      <td>22139</td>\n",
       "      <td>100</td>\n",
       "      <td>34.0</td>\n",
       "      <td>31</td>\n",
       "      <td>0.0</td>\n",
       "      <td>2</td>\n",
       "      <td>480.000000</td>\n",
       "    </tr>\n",
       "    <tr>\n",
       "      <th>3</th>\n",
       "      <td>3</td>\n",
       "      <td>22332.439460</td>\n",
       "      <td>49078</td>\n",
       "      <td>97</td>\n",
       "      <td>10.0</td>\n",
       "      <td>3</td>\n",
       "      <td>0.0</td>\n",
       "      <td>2</td>\n",
       "      <td>484.013411</td>\n",
       "    </tr>\n",
       "    <tr>\n",
       "      <th>4</th>\n",
       "      <td>4</td>\n",
       "      <td>9025.067525</td>\n",
       "      <td>23675</td>\n",
       "      <td>117</td>\n",
       "      <td>NaN</td>\n",
       "      <td>31</td>\n",
       "      <td>NaN</td>\n",
       "      <td>7</td>\n",
       "      <td>707.925645</td>\n",
       "    </tr>\n",
       "    <tr>\n",
       "      <th>...</th>\n",
       "      <td>...</td>\n",
       "      <td>...</td>\n",
       "      <td>...</td>\n",
       "      <td>...</td>\n",
       "      <td>...</td>\n",
       "      <td>...</td>\n",
       "      <td>...</td>\n",
       "      <td>...</td>\n",
       "      <td>...</td>\n",
       "    </tr>\n",
       "    <tr>\n",
       "      <th>10905</th>\n",
       "      <td>10905</td>\n",
       "      <td>15563.369440</td>\n",
       "      <td>0</td>\n",
       "      <td>253</td>\n",
       "      <td>NaN</td>\n",
       "      <td>40</td>\n",
       "      <td>NaN</td>\n",
       "      <td>7</td>\n",
       "      <td>1214.400000</td>\n",
       "    </tr>\n",
       "    <tr>\n",
       "      <th>10906</th>\n",
       "      <td>10906</td>\n",
       "      <td>5259.444853</td>\n",
       "      <td>61146</td>\n",
       "      <td>65</td>\n",
       "      <td>7.0</td>\n",
       "      <td>68</td>\n",
       "      <td>0.0</td>\n",
       "      <td>6</td>\n",
       "      <td>273.018929</td>\n",
       "    </tr>\n",
       "    <tr>\n",
       "      <th>10907</th>\n",
       "      <td>10907</td>\n",
       "      <td>23893.304100</td>\n",
       "      <td>39837</td>\n",
       "      <td>201</td>\n",
       "      <td>11.0</td>\n",
       "      <td>63</td>\n",
       "      <td>0.0</td>\n",
       "      <td>2</td>\n",
       "      <td>381.306996</td>\n",
       "    </tr>\n",
       "    <tr>\n",
       "      <th>10908</th>\n",
       "      <td>10908</td>\n",
       "      <td>11971.977650</td>\n",
       "      <td>64195</td>\n",
       "      <td>158</td>\n",
       "      <td>0.0</td>\n",
       "      <td>27</td>\n",
       "      <td>4.0</td>\n",
       "      <td>6</td>\n",
       "      <td>618.288849</td>\n",
       "    </tr>\n",
       "    <tr>\n",
       "      <th>10909</th>\n",
       "      <td>10909</td>\n",
       "      <td>6857.519928</td>\n",
       "      <td>0</td>\n",
       "      <td>101</td>\n",
       "      <td>31.0</td>\n",
       "      <td>1</td>\n",
       "      <td>0.0</td>\n",
       "      <td>3</td>\n",
       "      <td>1021.719397</td>\n",
       "    </tr>\n",
       "  </tbody>\n",
       "</table>\n",
       "<p>10910 rows × 9 columns</p>\n",
       "</div>"
      ],
      "text/plain": [
       "       Unnamed: 0  Customer Lifetime Value  Income  Monthly Premium Auto  \\\n",
       "0               0              4809.216960   48029                    61   \n",
       "1               1              2228.525238       0                    64   \n",
       "2               2             14947.917300   22139                   100   \n",
       "3               3             22332.439460   49078                    97   \n",
       "4               4              9025.067525   23675                   117   \n",
       "...           ...                      ...     ...                   ...   \n",
       "10905       10905             15563.369440       0                   253   \n",
       "10906       10906              5259.444853   61146                    65   \n",
       "10907       10907             23893.304100   39837                   201   \n",
       "10908       10908             11971.977650   64195                   158   \n",
       "10909       10909              6857.519928       0                   101   \n",
       "\n",
       "       Months Since Last Claim  Months Since Policy Inception  \\\n",
       "0                          7.0                             52   \n",
       "1                          3.0                             26   \n",
       "2                         34.0                             31   \n",
       "3                         10.0                              3   \n",
       "4                          NaN                             31   \n",
       "...                        ...                            ...   \n",
       "10905                      NaN                             40   \n",
       "10906                      7.0                             68   \n",
       "10907                     11.0                             63   \n",
       "10908                      0.0                             27   \n",
       "10909                     31.0                              1   \n",
       "\n",
       "       Number of Open Complaints  Number of Policies  Total Claim Amount  \n",
       "0                            0.0                   9          292.800000  \n",
       "1                            0.0                   1          744.924331  \n",
       "2                            0.0                   2          480.000000  \n",
       "3                            0.0                   2          484.013411  \n",
       "4                            NaN                   7          707.925645  \n",
       "...                          ...                 ...                 ...  \n",
       "10905                        NaN                   7         1214.400000  \n",
       "10906                        0.0                   6          273.018929  \n",
       "10907                        0.0                   2          381.306996  \n",
       "10908                        4.0                   6          618.288849  \n",
       "10909                        0.0                   3         1021.719397  \n",
       "\n",
       "[10910 rows x 9 columns]"
      ]
     },
     "execution_count": 6,
     "metadata": {},
     "output_type": "execute_result"
    }
   ],
   "source": [
    "data.select_dtypes(['int', 'float'])"
   ]
  },
  {
   "cell_type": "markdown",
   "id": "10f56733",
   "metadata": {},
   "source": [
    "### Which columns are categorical?"
   ]
  },
  {
   "cell_type": "code",
   "execution_count": 7,
   "id": "0ce553e1",
   "metadata": {},
   "outputs": [
    {
     "data": {
      "text/plain": [
       "['Customer',\n",
       " 'State',\n",
       " 'Response',\n",
       " 'Coverage',\n",
       " 'Education',\n",
       " 'Effective To Date',\n",
       " 'EmploymentStatus',\n",
       " 'Gender',\n",
       " 'Location Code',\n",
       " 'Marital Status',\n",
       " 'Policy Type',\n",
       " 'Policy',\n",
       " 'Renew Offer Type',\n",
       " 'Sales Channel',\n",
       " 'Vehicle Class',\n",
       " 'Vehicle Size',\n",
       " 'Vehicle Type']"
      ]
     },
     "execution_count": 7,
     "metadata": {},
     "output_type": "execute_result"
    }
   ],
   "source": [
    "categorical_cols = data.select_dtypes(include=['object']).columns.tolist()\n",
    "categorical_cols"
   ]
  },
  {
   "cell_type": "code",
   "execution_count": 8,
   "id": "72ee3657",
   "metadata": {},
   "outputs": [
    {
     "data": {
      "text/html": [
       "<div>\n",
       "<style scoped>\n",
       "    .dataframe tbody tr th:only-of-type {\n",
       "        vertical-align: middle;\n",
       "    }\n",
       "\n",
       "    .dataframe tbody tr th {\n",
       "        vertical-align: top;\n",
       "    }\n",
       "\n",
       "    .dataframe thead th {\n",
       "        text-align: right;\n",
       "    }\n",
       "</style>\n",
       "<table border=\"1\" class=\"dataframe\">\n",
       "  <thead>\n",
       "    <tr style=\"text-align: right;\">\n",
       "      <th></th>\n",
       "      <th>Customer</th>\n",
       "      <th>State</th>\n",
       "      <th>Response</th>\n",
       "      <th>Coverage</th>\n",
       "      <th>Education</th>\n",
       "      <th>Effective To Date</th>\n",
       "      <th>EmploymentStatus</th>\n",
       "      <th>Gender</th>\n",
       "      <th>Location Code</th>\n",
       "      <th>Marital Status</th>\n",
       "      <th>Policy Type</th>\n",
       "      <th>Policy</th>\n",
       "      <th>Renew Offer Type</th>\n",
       "      <th>Sales Channel</th>\n",
       "      <th>Vehicle Class</th>\n",
       "      <th>Vehicle Size</th>\n",
       "      <th>Vehicle Type</th>\n",
       "    </tr>\n",
       "  </thead>\n",
       "  <tbody>\n",
       "    <tr>\n",
       "      <th>0</th>\n",
       "      <td>DK49336</td>\n",
       "      <td>Arizona</td>\n",
       "      <td>No</td>\n",
       "      <td>Basic</td>\n",
       "      <td>College</td>\n",
       "      <td>2/18/11</td>\n",
       "      <td>Employed</td>\n",
       "      <td>M</td>\n",
       "      <td>Suburban</td>\n",
       "      <td>Married</td>\n",
       "      <td>Corporate Auto</td>\n",
       "      <td>Corporate L3</td>\n",
       "      <td>Offer3</td>\n",
       "      <td>Agent</td>\n",
       "      <td>Four-Door Car</td>\n",
       "      <td>Medsize</td>\n",
       "      <td>NaN</td>\n",
       "    </tr>\n",
       "    <tr>\n",
       "      <th>1</th>\n",
       "      <td>KX64629</td>\n",
       "      <td>California</td>\n",
       "      <td>No</td>\n",
       "      <td>Basic</td>\n",
       "      <td>College</td>\n",
       "      <td>1/18/11</td>\n",
       "      <td>Unemployed</td>\n",
       "      <td>F</td>\n",
       "      <td>Suburban</td>\n",
       "      <td>Single</td>\n",
       "      <td>Personal Auto</td>\n",
       "      <td>Personal L3</td>\n",
       "      <td>Offer4</td>\n",
       "      <td>Call Center</td>\n",
       "      <td>Four-Door Car</td>\n",
       "      <td>Medsize</td>\n",
       "      <td>NaN</td>\n",
       "    </tr>\n",
       "    <tr>\n",
       "      <th>2</th>\n",
       "      <td>LZ68649</td>\n",
       "      <td>Washington</td>\n",
       "      <td>No</td>\n",
       "      <td>Basic</td>\n",
       "      <td>Bachelor</td>\n",
       "      <td>2/10/11</td>\n",
       "      <td>Employed</td>\n",
       "      <td>M</td>\n",
       "      <td>Suburban</td>\n",
       "      <td>Single</td>\n",
       "      <td>Personal Auto</td>\n",
       "      <td>Personal L3</td>\n",
       "      <td>Offer3</td>\n",
       "      <td>Call Center</td>\n",
       "      <td>SUV</td>\n",
       "      <td>Medsize</td>\n",
       "      <td>A</td>\n",
       "    </tr>\n",
       "    <tr>\n",
       "      <th>3</th>\n",
       "      <td>XL78013</td>\n",
       "      <td>Oregon</td>\n",
       "      <td>Yes</td>\n",
       "      <td>Extended</td>\n",
       "      <td>College</td>\n",
       "      <td>1/11/11</td>\n",
       "      <td>Employed</td>\n",
       "      <td>M</td>\n",
       "      <td>Suburban</td>\n",
       "      <td>Single</td>\n",
       "      <td>Corporate Auto</td>\n",
       "      <td>Corporate L3</td>\n",
       "      <td>Offer2</td>\n",
       "      <td>Branch</td>\n",
       "      <td>Four-Door Car</td>\n",
       "      <td>Medsize</td>\n",
       "      <td>A</td>\n",
       "    </tr>\n",
       "    <tr>\n",
       "      <th>4</th>\n",
       "      <td>QA50777</td>\n",
       "      <td>Oregon</td>\n",
       "      <td>No</td>\n",
       "      <td>Premium</td>\n",
       "      <td>Bachelor</td>\n",
       "      <td>1/17/11</td>\n",
       "      <td>Medical Leave</td>\n",
       "      <td>F</td>\n",
       "      <td>Suburban</td>\n",
       "      <td>Married</td>\n",
       "      <td>Personal Auto</td>\n",
       "      <td>Personal L2</td>\n",
       "      <td>Offer1</td>\n",
       "      <td>Branch</td>\n",
       "      <td>Four-Door Car</td>\n",
       "      <td>Medsize</td>\n",
       "      <td>NaN</td>\n",
       "    </tr>\n",
       "    <tr>\n",
       "      <th>...</th>\n",
       "      <td>...</td>\n",
       "      <td>...</td>\n",
       "      <td>...</td>\n",
       "      <td>...</td>\n",
       "      <td>...</td>\n",
       "      <td>...</td>\n",
       "      <td>...</td>\n",
       "      <td>...</td>\n",
       "      <td>...</td>\n",
       "      <td>...</td>\n",
       "      <td>...</td>\n",
       "      <td>...</td>\n",
       "      <td>...</td>\n",
       "      <td>...</td>\n",
       "      <td>...</td>\n",
       "      <td>...</td>\n",
       "      <td>...</td>\n",
       "    </tr>\n",
       "    <tr>\n",
       "      <th>10905</th>\n",
       "      <td>FE99816</td>\n",
       "      <td>Nevada</td>\n",
       "      <td>No</td>\n",
       "      <td>Premium</td>\n",
       "      <td>Bachelor</td>\n",
       "      <td>1/19/11</td>\n",
       "      <td>Unemployed</td>\n",
       "      <td>F</td>\n",
       "      <td>Suburban</td>\n",
       "      <td>Married</td>\n",
       "      <td>Personal Auto</td>\n",
       "      <td>Personal L1</td>\n",
       "      <td>Offer3</td>\n",
       "      <td>Web</td>\n",
       "      <td>Luxury Car</td>\n",
       "      <td>Medsize</td>\n",
       "      <td>A</td>\n",
       "    </tr>\n",
       "    <tr>\n",
       "      <th>10906</th>\n",
       "      <td>KX53892</td>\n",
       "      <td>Oregon</td>\n",
       "      <td>No</td>\n",
       "      <td>Basic</td>\n",
       "      <td>College</td>\n",
       "      <td>1/6/11</td>\n",
       "      <td>Employed</td>\n",
       "      <td>F</td>\n",
       "      <td>Urban</td>\n",
       "      <td>Married</td>\n",
       "      <td>Personal Auto</td>\n",
       "      <td>Personal L3</td>\n",
       "      <td>Offer2</td>\n",
       "      <td>Branch</td>\n",
       "      <td>Four-Door Car</td>\n",
       "      <td>Medsize</td>\n",
       "      <td>A</td>\n",
       "    </tr>\n",
       "    <tr>\n",
       "      <th>10907</th>\n",
       "      <td>TL39050</td>\n",
       "      <td>Arizona</td>\n",
       "      <td>No</td>\n",
       "      <td>Extended</td>\n",
       "      <td>Bachelor</td>\n",
       "      <td>2/6/11</td>\n",
       "      <td>Employed</td>\n",
       "      <td>F</td>\n",
       "      <td>Rural</td>\n",
       "      <td>Married</td>\n",
       "      <td>Corporate Auto</td>\n",
       "      <td>Corporate L3</td>\n",
       "      <td>Offer1</td>\n",
       "      <td>Web</td>\n",
       "      <td>Luxury SUV</td>\n",
       "      <td>Medsize</td>\n",
       "      <td>NaN</td>\n",
       "    </tr>\n",
       "    <tr>\n",
       "      <th>10908</th>\n",
       "      <td>WA60547</td>\n",
       "      <td>California</td>\n",
       "      <td>No</td>\n",
       "      <td>Premium</td>\n",
       "      <td>College</td>\n",
       "      <td>2/13/11</td>\n",
       "      <td>Employed</td>\n",
       "      <td>F</td>\n",
       "      <td>Urban</td>\n",
       "      <td>Divorced</td>\n",
       "      <td>Personal Auto</td>\n",
       "      <td>Personal L1</td>\n",
       "      <td>Offer1</td>\n",
       "      <td>Branch</td>\n",
       "      <td>SUV</td>\n",
       "      <td>Medsize</td>\n",
       "      <td>A</td>\n",
       "    </tr>\n",
       "    <tr>\n",
       "      <th>10909</th>\n",
       "      <td>IV32877</td>\n",
       "      <td>NaN</td>\n",
       "      <td>NaN</td>\n",
       "      <td>Basic</td>\n",
       "      <td>Bachelor</td>\n",
       "      <td>1/8/11</td>\n",
       "      <td>Unemployed</td>\n",
       "      <td>M</td>\n",
       "      <td>Suburban</td>\n",
       "      <td>Single</td>\n",
       "      <td>Personal Auto</td>\n",
       "      <td>Personal L1</td>\n",
       "      <td>Offer4</td>\n",
       "      <td>Web</td>\n",
       "      <td>SUV</td>\n",
       "      <td>Medsize</td>\n",
       "      <td>NaN</td>\n",
       "    </tr>\n",
       "  </tbody>\n",
       "</table>\n",
       "<p>10910 rows × 17 columns</p>\n",
       "</div>"
      ],
      "text/plain": [
       "      Customer       State Response  Coverage Education Effective To Date  \\\n",
       "0      DK49336     Arizona       No     Basic   College           2/18/11   \n",
       "1      KX64629  California       No     Basic   College           1/18/11   \n",
       "2      LZ68649  Washington       No     Basic  Bachelor           2/10/11   \n",
       "3      XL78013      Oregon      Yes  Extended   College           1/11/11   \n",
       "4      QA50777      Oregon       No   Premium  Bachelor           1/17/11   \n",
       "...        ...         ...      ...       ...       ...               ...   \n",
       "10905  FE99816      Nevada       No   Premium  Bachelor           1/19/11   \n",
       "10906  KX53892      Oregon       No     Basic   College            1/6/11   \n",
       "10907  TL39050     Arizona       No  Extended  Bachelor            2/6/11   \n",
       "10908  WA60547  California       No   Premium   College           2/13/11   \n",
       "10909  IV32877         NaN      NaN     Basic  Bachelor            1/8/11   \n",
       "\n",
       "      EmploymentStatus Gender Location Code Marital Status     Policy Type  \\\n",
       "0             Employed      M      Suburban        Married  Corporate Auto   \n",
       "1           Unemployed      F      Suburban         Single   Personal Auto   \n",
       "2             Employed      M      Suburban         Single   Personal Auto   \n",
       "3             Employed      M      Suburban         Single  Corporate Auto   \n",
       "4        Medical Leave      F      Suburban        Married   Personal Auto   \n",
       "...                ...    ...           ...            ...             ...   \n",
       "10905       Unemployed      F      Suburban        Married   Personal Auto   \n",
       "10906         Employed      F         Urban        Married   Personal Auto   \n",
       "10907         Employed      F         Rural        Married  Corporate Auto   \n",
       "10908         Employed      F         Urban       Divorced   Personal Auto   \n",
       "10909       Unemployed      M      Suburban         Single   Personal Auto   \n",
       "\n",
       "             Policy Renew Offer Type Sales Channel  Vehicle Class  \\\n",
       "0      Corporate L3           Offer3         Agent  Four-Door Car   \n",
       "1       Personal L3           Offer4   Call Center  Four-Door Car   \n",
       "2       Personal L3           Offer3   Call Center            SUV   \n",
       "3      Corporate L3           Offer2        Branch  Four-Door Car   \n",
       "4       Personal L2           Offer1        Branch  Four-Door Car   \n",
       "...             ...              ...           ...            ...   \n",
       "10905   Personal L1           Offer3           Web     Luxury Car   \n",
       "10906   Personal L3           Offer2        Branch  Four-Door Car   \n",
       "10907  Corporate L3           Offer1           Web     Luxury SUV   \n",
       "10908   Personal L1           Offer1        Branch            SUV   \n",
       "10909   Personal L1           Offer4           Web            SUV   \n",
       "\n",
       "      Vehicle Size Vehicle Type  \n",
       "0          Medsize          NaN  \n",
       "1          Medsize          NaN  \n",
       "2          Medsize            A  \n",
       "3          Medsize            A  \n",
       "4          Medsize          NaN  \n",
       "...            ...          ...  \n",
       "10905      Medsize            A  \n",
       "10906      Medsize            A  \n",
       "10907      Medsize          NaN  \n",
       "10908      Medsize            A  \n",
       "10909      Medsize          NaN  \n",
       "\n",
       "[10910 rows x 17 columns]"
      ]
     },
     "execution_count": 8,
     "metadata": {},
     "output_type": "execute_result"
    }
   ],
   "source": [
    "data.select_dtypes(['object'])"
   ]
  },
  {
   "cell_type": "markdown",
   "id": "70a9b62b",
   "metadata": {},
   "source": [
    "### drop index column (Unnamed: 0)"
   ]
  },
  {
   "cell_type": "code",
   "execution_count": 9,
   "id": "bedf7530",
   "metadata": {},
   "outputs": [
    {
     "data": {
      "text/html": [
       "<div>\n",
       "<style scoped>\n",
       "    .dataframe tbody tr th:only-of-type {\n",
       "        vertical-align: middle;\n",
       "    }\n",
       "\n",
       "    .dataframe tbody tr th {\n",
       "        vertical-align: top;\n",
       "    }\n",
       "\n",
       "    .dataframe thead th {\n",
       "        text-align: right;\n",
       "    }\n",
       "</style>\n",
       "<table border=\"1\" class=\"dataframe\">\n",
       "  <thead>\n",
       "    <tr style=\"text-align: right;\">\n",
       "      <th></th>\n",
       "      <th>Customer</th>\n",
       "      <th>State</th>\n",
       "      <th>Customer Lifetime Value</th>\n",
       "      <th>Response</th>\n",
       "      <th>Coverage</th>\n",
       "      <th>Education</th>\n",
       "      <th>Effective To Date</th>\n",
       "      <th>EmploymentStatus</th>\n",
       "      <th>Gender</th>\n",
       "      <th>Income</th>\n",
       "      <th>...</th>\n",
       "      <th>Number of Open Complaints</th>\n",
       "      <th>Number of Policies</th>\n",
       "      <th>Policy Type</th>\n",
       "      <th>Policy</th>\n",
       "      <th>Renew Offer Type</th>\n",
       "      <th>Sales Channel</th>\n",
       "      <th>Total Claim Amount</th>\n",
       "      <th>Vehicle Class</th>\n",
       "      <th>Vehicle Size</th>\n",
       "      <th>Vehicle Type</th>\n",
       "    </tr>\n",
       "  </thead>\n",
       "  <tbody>\n",
       "    <tr>\n",
       "      <th>0</th>\n",
       "      <td>DK49336</td>\n",
       "      <td>Arizona</td>\n",
       "      <td>4809.216960</td>\n",
       "      <td>No</td>\n",
       "      <td>Basic</td>\n",
       "      <td>College</td>\n",
       "      <td>2/18/11</td>\n",
       "      <td>Employed</td>\n",
       "      <td>M</td>\n",
       "      <td>48029</td>\n",
       "      <td>...</td>\n",
       "      <td>0.0</td>\n",
       "      <td>9</td>\n",
       "      <td>Corporate Auto</td>\n",
       "      <td>Corporate L3</td>\n",
       "      <td>Offer3</td>\n",
       "      <td>Agent</td>\n",
       "      <td>292.800000</td>\n",
       "      <td>Four-Door Car</td>\n",
       "      <td>Medsize</td>\n",
       "      <td>NaN</td>\n",
       "    </tr>\n",
       "    <tr>\n",
       "      <th>1</th>\n",
       "      <td>KX64629</td>\n",
       "      <td>California</td>\n",
       "      <td>2228.525238</td>\n",
       "      <td>No</td>\n",
       "      <td>Basic</td>\n",
       "      <td>College</td>\n",
       "      <td>1/18/11</td>\n",
       "      <td>Unemployed</td>\n",
       "      <td>F</td>\n",
       "      <td>0</td>\n",
       "      <td>...</td>\n",
       "      <td>0.0</td>\n",
       "      <td>1</td>\n",
       "      <td>Personal Auto</td>\n",
       "      <td>Personal L3</td>\n",
       "      <td>Offer4</td>\n",
       "      <td>Call Center</td>\n",
       "      <td>744.924331</td>\n",
       "      <td>Four-Door Car</td>\n",
       "      <td>Medsize</td>\n",
       "      <td>NaN</td>\n",
       "    </tr>\n",
       "    <tr>\n",
       "      <th>2</th>\n",
       "      <td>LZ68649</td>\n",
       "      <td>Washington</td>\n",
       "      <td>14947.917300</td>\n",
       "      <td>No</td>\n",
       "      <td>Basic</td>\n",
       "      <td>Bachelor</td>\n",
       "      <td>2/10/11</td>\n",
       "      <td>Employed</td>\n",
       "      <td>M</td>\n",
       "      <td>22139</td>\n",
       "      <td>...</td>\n",
       "      <td>0.0</td>\n",
       "      <td>2</td>\n",
       "      <td>Personal Auto</td>\n",
       "      <td>Personal L3</td>\n",
       "      <td>Offer3</td>\n",
       "      <td>Call Center</td>\n",
       "      <td>480.000000</td>\n",
       "      <td>SUV</td>\n",
       "      <td>Medsize</td>\n",
       "      <td>A</td>\n",
       "    </tr>\n",
       "    <tr>\n",
       "      <th>3</th>\n",
       "      <td>XL78013</td>\n",
       "      <td>Oregon</td>\n",
       "      <td>22332.439460</td>\n",
       "      <td>Yes</td>\n",
       "      <td>Extended</td>\n",
       "      <td>College</td>\n",
       "      <td>1/11/11</td>\n",
       "      <td>Employed</td>\n",
       "      <td>M</td>\n",
       "      <td>49078</td>\n",
       "      <td>...</td>\n",
       "      <td>0.0</td>\n",
       "      <td>2</td>\n",
       "      <td>Corporate Auto</td>\n",
       "      <td>Corporate L3</td>\n",
       "      <td>Offer2</td>\n",
       "      <td>Branch</td>\n",
       "      <td>484.013411</td>\n",
       "      <td>Four-Door Car</td>\n",
       "      <td>Medsize</td>\n",
       "      <td>A</td>\n",
       "    </tr>\n",
       "    <tr>\n",
       "      <th>4</th>\n",
       "      <td>QA50777</td>\n",
       "      <td>Oregon</td>\n",
       "      <td>9025.067525</td>\n",
       "      <td>No</td>\n",
       "      <td>Premium</td>\n",
       "      <td>Bachelor</td>\n",
       "      <td>1/17/11</td>\n",
       "      <td>Medical Leave</td>\n",
       "      <td>F</td>\n",
       "      <td>23675</td>\n",
       "      <td>...</td>\n",
       "      <td>NaN</td>\n",
       "      <td>7</td>\n",
       "      <td>Personal Auto</td>\n",
       "      <td>Personal L2</td>\n",
       "      <td>Offer1</td>\n",
       "      <td>Branch</td>\n",
       "      <td>707.925645</td>\n",
       "      <td>Four-Door Car</td>\n",
       "      <td>Medsize</td>\n",
       "      <td>NaN</td>\n",
       "    </tr>\n",
       "  </tbody>\n",
       "</table>\n",
       "<p>5 rows × 25 columns</p>\n",
       "</div>"
      ],
      "text/plain": [
       "  Customer       State  Customer Lifetime Value Response  Coverage Education  \\\n",
       "0  DK49336     Arizona              4809.216960       No     Basic   College   \n",
       "1  KX64629  California              2228.525238       No     Basic   College   \n",
       "2  LZ68649  Washington             14947.917300       No     Basic  Bachelor   \n",
       "3  XL78013      Oregon             22332.439460      Yes  Extended   College   \n",
       "4  QA50777      Oregon              9025.067525       No   Premium  Bachelor   \n",
       "\n",
       "  Effective To Date EmploymentStatus Gender  Income  ...  \\\n",
       "0           2/18/11         Employed      M   48029  ...   \n",
       "1           1/18/11       Unemployed      F       0  ...   \n",
       "2           2/10/11         Employed      M   22139  ...   \n",
       "3           1/11/11         Employed      M   49078  ...   \n",
       "4           1/17/11    Medical Leave      F   23675  ...   \n",
       "\n",
       "  Number of Open Complaints Number of Policies     Policy Type        Policy  \\\n",
       "0                       0.0                  9  Corporate Auto  Corporate L3   \n",
       "1                       0.0                  1   Personal Auto   Personal L3   \n",
       "2                       0.0                  2   Personal Auto   Personal L3   \n",
       "3                       0.0                  2  Corporate Auto  Corporate L3   \n",
       "4                       NaN                  7   Personal Auto   Personal L2   \n",
       "\n",
       "   Renew Offer Type  Sales Channel  Total Claim Amount  Vehicle Class  \\\n",
       "0            Offer3          Agent          292.800000  Four-Door Car   \n",
       "1            Offer4    Call Center          744.924331  Four-Door Car   \n",
       "2            Offer3    Call Center          480.000000            SUV   \n",
       "3            Offer2         Branch          484.013411  Four-Door Car   \n",
       "4            Offer1         Branch          707.925645  Four-Door Car   \n",
       "\n",
       "  Vehicle Size Vehicle Type  \n",
       "0      Medsize          NaN  \n",
       "1      Medsize          NaN  \n",
       "2      Medsize            A  \n",
       "3      Medsize            A  \n",
       "4      Medsize          NaN  \n",
       "\n",
       "[5 rows x 25 columns]"
      ]
     },
     "execution_count": 9,
     "metadata": {},
     "output_type": "execute_result"
    }
   ],
   "source": [
    "data = data.drop(['Unnamed: 0'], axis=1)\n",
    "data.head()"
   ]
  },
  {
   "cell_type": "markdown",
   "id": "7f781f13",
   "metadata": {},
   "source": [
    "### convert column names to \"snake format\" (kleingedruckt)(lower)\n",
    "#### hashed out! (since added later) /append=anhängen\n",
    "#### https://www.programiz.com/python-programming/methods/list/append"
   ]
  },
  {
   "cell_type": "code",
   "execution_count": 10,
   "id": "86a88d70",
   "metadata": {},
   "outputs": [],
   "source": [
    "cols = []\n",
    "for column in data.columns:\n",
    "    cols.append(column.lower())\n",
    "data.columns = cols"
   ]
  },
  {
   "cell_type": "markdown",
   "id": "9fe8cdb5",
   "metadata": {},
   "source": [
    "### replace spaces in column names with \"_\"\n",
    "#### hashed out! (since added later)"
   ]
  },
  {
   "cell_type": "code",
   "execution_count": 11,
   "id": "9c4a1380",
   "metadata": {},
   "outputs": [],
   "source": [
    "cols = []\n",
    "for column in data.columns:\n",
    "    cols.append(column.replace(' ', '_'))\n",
    "data.columns = cols"
   ]
  },
  {
   "attachments": {
    "image.png": {
     "image/png": "[encoded data removed]"
    }
   },
   "cell_type": "markdown",
   "id": "249bbfbd",
   "metadata": {},
   "source": [
    "![image.png](attachment:image.png)"
   ]
  },
  {
   "cell_type": "markdown",
   "id": "a327d820",
   "metadata": {},
   "source": [
    "### show names of columns"
   ]
  },
  {
   "cell_type": "code",
   "execution_count": 12,
   "id": "2b2584a4",
   "metadata": {},
   "outputs": [
    {
     "data": {
      "text/plain": [
       "Index(['customer', 'state', 'customer_lifetime_value', 'response', 'coverage',\n",
       "       'education', 'effective_to_date', 'employmentstatus', 'gender',\n",
       "       'income', 'location_code', 'marital_status', 'monthly_premium_auto',\n",
       "       'months_since_last_claim', 'months_since_policy_inception',\n",
       "       'number_of_open_complaints', 'number_of_policies', 'policy_type',\n",
       "       'policy', 'renew_offer_type', 'sales_channel', 'total_claim_amount',\n",
       "       'vehicle_class', 'vehicle_size', 'vehicle_type'],\n",
       "      dtype='object')"
      ]
     },
     "execution_count": 12,
     "metadata": {},
     "output_type": "execute_result"
    }
   ],
   "source": [
    "data.columns"
   ]
  },
  {
   "cell_type": "markdown",
   "id": "0ba35332",
   "metadata": {},
   "source": [
    "### show/count NaN values in every column"
   ]
  },
  {
   "cell_type": "code",
   "execution_count": 13,
   "id": "cbac9deb",
   "metadata": {},
   "outputs": [
    {
     "data": {
      "text/plain": [
       "customer                            0\n",
       "state                             631\n",
       "customer_lifetime_value             0\n",
       "response                          631\n",
       "coverage                            0\n",
       "education                           0\n",
       "effective_to_date                   0\n",
       "employmentstatus                    0\n",
       "gender                              0\n",
       "income                              0\n",
       "location_code                       0\n",
       "marital_status                      0\n",
       "monthly_premium_auto                0\n",
       "months_since_last_claim           633\n",
       "months_since_policy_inception       0\n",
       "number_of_open_complaints         633\n",
       "number_of_policies                  0\n",
       "policy_type                         0\n",
       "policy                              0\n",
       "renew_offer_type                    0\n",
       "sales_channel                       0\n",
       "total_claim_amount                  0\n",
       "vehicle_class                     622\n",
       "vehicle_size                      622\n",
       "vehicle_type                     5482\n",
       "dtype: int64"
      ]
     },
     "execution_count": 13,
     "metadata": {},
     "output_type": "execute_result"
    }
   ],
   "source": [
    "data.isna().sum()"
   ]
  },
  {
   "cell_type": "markdown",
   "id": "d0d27f9d",
   "metadata": {},
   "source": [
    "### Create new dataframe (df2) from the old dataframe (data), where all rows are droped if they have a NaN-value in the column 'Response'. Why?--> Because maybe we get rid of the most NaN-values in the whole dataframe."
   ]
  },
  {
   "cell_type": "code",
   "execution_count": 14,
   "id": "80dca7ef",
   "metadata": {},
   "outputs": [],
   "source": [
    "df2 = data[data['response'].isna()==False]"
   ]
  },
  {
   "cell_type": "code",
   "execution_count": 15,
   "id": "ae0f27a3",
   "metadata": {},
   "outputs": [
    {
     "data": {
      "text/plain": [
       "customer                            0\n",
       "state                               0\n",
       "customer_lifetime_value             0\n",
       "response                            0\n",
       "coverage                            0\n",
       "education                           0\n",
       "effective_to_date                   0\n",
       "employmentstatus                    0\n",
       "gender                              0\n",
       "income                              0\n",
       "location_code                       0\n",
       "marital_status                      0\n",
       "monthly_premium_auto                0\n",
       "months_since_last_claim           591\n",
       "months_since_policy_inception       0\n",
       "number_of_open_complaints         591\n",
       "number_of_policies                  0\n",
       "policy_type                         0\n",
       "policy                              0\n",
       "renew_offer_type                    0\n",
       "sales_channel                       0\n",
       "total_claim_amount                  0\n",
       "vehicle_class                     591\n",
       "vehicle_size                      591\n",
       "vehicle_type                     5164\n",
       "dtype: int64"
      ]
     },
     "execution_count": 15,
     "metadata": {},
     "output_type": "execute_result"
    }
   ],
   "source": [
    "df2.isna().sum()"
   ]
  },
  {
   "cell_type": "markdown",
   "id": "2f6e0541",
   "metadata": {},
   "source": [
    "### display unique values in column \"State\" and count them (including NaN-values (dropna=False)"
   ]
  },
  {
   "cell_type": "code",
   "execution_count": 16,
   "id": "65433aec",
   "metadata": {},
   "outputs": [
    {
     "data": {
      "text/plain": [
       "California    3552\n",
       "Oregon        2909\n",
       "Arizona       1937\n",
       "Nevada         993\n",
       "Washington     888\n",
       "NaN            631\n",
       "Name: state, dtype: int64"
      ]
     },
     "execution_count": 16,
     "metadata": {},
     "output_type": "execute_result"
    }
   ],
   "source": [
    "data[\"state\"].value_counts(dropna=False)"
   ]
  },
  {
   "cell_type": "markdown",
   "id": "9ba62cf1",
   "metadata": {},
   "source": [
    "### exchange NaN-values with 'Unknown' (.fillna)"
   ]
  },
  {
   "cell_type": "code",
   "execution_count": 17,
   "id": "8acc967b",
   "metadata": {},
   "outputs": [],
   "source": [
    "data['state'] = data['state'].fillna('Unknown')"
   ]
  },
  {
   "cell_type": "markdown",
   "id": "d12f44b2",
   "metadata": {},
   "source": [
    "### display unique values in column \"State\" and count them (including NaN-values (dropna=False)"
   ]
  },
  {
   "cell_type": "code",
   "execution_count": 18,
   "id": "4214b897",
   "metadata": {},
   "outputs": [
    {
     "data": {
      "text/plain": [
       "California    3552\n",
       "Oregon        2909\n",
       "Arizona       1937\n",
       "Nevada         993\n",
       "Washington     888\n",
       "Unknown        631\n",
       "Name: state, dtype: int64"
      ]
     },
     "execution_count": 18,
     "metadata": {},
     "output_type": "execute_result"
    }
   ],
   "source": [
    "data[\"state\"].value_counts(dropna=False)"
   ]
  },
  {
   "cell_type": "markdown",
   "id": "208613ea",
   "metadata": {},
   "source": [
    "### display unique values in column \"State\" in an array"
   ]
  },
  {
   "cell_type": "code",
   "execution_count": 19,
   "id": "ebdbc050",
   "metadata": {},
   "outputs": [
    {
     "data": {
      "text/plain": [
       "array(['Arizona', 'California', 'Washington', 'Oregon', 'Unknown',\n",
       "       'Nevada'], dtype=object)"
      ]
     },
     "execution_count": 19,
     "metadata": {},
     "output_type": "execute_result"
    }
   ],
   "source": [
    "data['state'].unique()"
   ]
  },
  {
   "cell_type": "markdown",
   "id": "cf448907",
   "metadata": {},
   "source": [
    "### display unique values in column \"Response\" in an array and count"
   ]
  },
  {
   "cell_type": "code",
   "execution_count": 20,
   "id": "829efde5",
   "metadata": {},
   "outputs": [
    {
     "data": {
      "text/plain": [
       "array(['No', 'Yes', nan], dtype=object)"
      ]
     },
     "execution_count": 20,
     "metadata": {},
     "output_type": "execute_result"
    }
   ],
   "source": [
    "# check unique values in column 'Response'\n",
    "data['response'].unique()"
   ]
  },
  {
   "cell_type": "code",
   "execution_count": 21,
   "id": "07380005",
   "metadata": {},
   "outputs": [
    {
     "data": {
      "text/plain": [
       "No     8813\n",
       "Yes    1466\n",
       "NaN     631\n",
       "Name: response, dtype: int64"
      ]
     },
     "execution_count": 21,
     "metadata": {},
     "output_type": "execute_result"
    }
   ],
   "source": [
    "# show values in column 'Response' --> \"dropna=False\" to show NaN value\n",
    "data['response'].value_counts(dropna=False)"
   ]
  },
  {
   "cell_type": "markdown",
   "id": "2997eb3f",
   "metadata": {},
   "source": [
    "### convert NaN-values in the column  'Response' to \"Unknown\""
   ]
  },
  {
   "cell_type": "code",
   "execution_count": 22,
   "id": "dfc6b666",
   "metadata": {},
   "outputs": [],
   "source": [
    "data['response'] = data['response'].fillna('Unknown')"
   ]
  },
  {
   "cell_type": "code",
   "execution_count": 23,
   "id": "d0d5ef92",
   "metadata": {},
   "outputs": [
    {
     "data": {
      "text/plain": [
       "No         8813\n",
       "Yes        1466\n",
       "Unknown     631\n",
       "Name: response, dtype: int64"
      ]
     },
     "execution_count": 23,
     "metadata": {},
     "output_type": "execute_result"
    }
   ],
   "source": [
    "# show values in column 'Response' --> \"dropna=False\" to show NaN value\n",
    "data['response'].value_counts(dropna=False)"
   ]
  },
  {
   "cell_type": "markdown",
   "id": "a8b2163d",
   "metadata": {},
   "source": [
    "### display unique values in column \"Months Since Last Claim\" in an array and count"
   ]
  },
  {
   "cell_type": "code",
   "execution_count": 24,
   "id": "aac6f78d",
   "metadata": {},
   "outputs": [
    {
     "data": {
      "text/plain": [
       "array([ 7.,  3., 34., 10., nan,  2.,  8., 35., 33., 19., 13.,  5., 24.,\n",
       "       25.,  6., 20., 26., 14.,  9., 29., 11.,  1., 18., 16., 30., 12.,\n",
       "        4., 22., 31., 21., 28., 17., 15., 32., 23., 27.,  0.])"
      ]
     },
     "execution_count": 24,
     "metadata": {},
     "output_type": "execute_result"
    }
   ],
   "source": [
    "# show unique values in column 'months_since_last_claim'\n",
    "data['months_since_last_claim'].unique()"
   ]
  },
  {
   "cell_type": "code",
   "execution_count": 25,
   "id": "fedf597c",
   "metadata": {},
   "outputs": [
    {
     "data": {
      "text/plain": [
       "NaN     633\n",
       "3.0     426\n",
       "6.0     394\n",
       "1.0     386\n",
       "7.0     378\n",
       "4.0     373\n",
       "2.0     368\n",
       "5.0     355\n",
       "0.0     354\n",
       "10.0    346\n",
       "16.0    333\n",
       "11.0    331\n",
       "15.0    323\n",
       "13.0    320\n",
       "8.0     315\n",
       "12.0    307\n",
       "17.0    299\n",
       "14.0    299\n",
       "9.0     277\n",
       "19.0    276\n",
       "23.0    276\n",
       "25.0    269\n",
       "21.0    267\n",
       "18.0    257\n",
       "20.0    254\n",
       "22.0    246\n",
       "24.0    237\n",
       "29.0    234\n",
       "28.0    227\n",
       "31.0    221\n",
       "26.0    211\n",
       "27.0    208\n",
       "30.0    201\n",
       "34.0    199\n",
       "33.0    198\n",
       "35.0    157\n",
       "32.0    155\n",
       "Name: months_since_last_claim, dtype: int64"
      ]
     },
     "execution_count": 25,
     "metadata": {},
     "output_type": "execute_result"
    }
   ],
   "source": [
    "# \"dropna=False\" to show NaN value\n",
    "data['months_since_last_claim'].value_counts(dropna=False)"
   ]
  },
  {
   "cell_type": "markdown",
   "id": "15e4a131",
   "metadata": {},
   "source": [
    "### ???can't drop any NaN row"
   ]
  },
  {
   "cell_type": "code",
   "execution_count": 26,
   "id": "8eeac260",
   "metadata": {},
   "outputs": [
    {
     "data": {
      "text/plain": [
       "NaN     633\n",
       "3.0     426\n",
       "6.0     394\n",
       "1.0     386\n",
       "7.0     378\n",
       "4.0     373\n",
       "2.0     368\n",
       "5.0     355\n",
       "0.0     354\n",
       "10.0    346\n",
       "16.0    333\n",
       "11.0    331\n",
       "15.0    323\n",
       "13.0    320\n",
       "8.0     315\n",
       "12.0    307\n",
       "17.0    299\n",
       "14.0    299\n",
       "9.0     277\n",
       "19.0    276\n",
       "23.0    276\n",
       "25.0    269\n",
       "21.0    267\n",
       "18.0    257\n",
       "20.0    254\n",
       "22.0    246\n",
       "24.0    237\n",
       "29.0    234\n",
       "28.0    227\n",
       "31.0    221\n",
       "26.0    211\n",
       "27.0    208\n",
       "30.0    201\n",
       "34.0    199\n",
       "33.0    198\n",
       "35.0    157\n",
       "32.0    155\n",
       "Name: months_since_last_claim, dtype: int64"
      ]
     },
     "execution_count": 26,
     "metadata": {},
     "output_type": "execute_result"
    }
   ],
   "source": [
    "data.dropna(subset = ['months_since_last_claim'])\n",
    "#data = data[data.months_since_last_claim != NaN]\n",
    "data['months_since_last_claim'].value_counts(dropna=False)"
   ]
  },
  {
   "cell_type": "markdown",
   "id": "071be203",
   "metadata": {},
   "source": [
    "#### Drop row that has all NaN values"
   ]
  },
  {
   "cell_type": "code",
   "execution_count": 27,
   "id": "f70ff41c",
   "metadata": {},
   "outputs": [],
   "source": [
    "# data=data.dropna(how='all')"
   ]
  },
  {
   "cell_type": "markdown",
   "id": "ce608824",
   "metadata": {},
   "source": [
    "### Fill NaN-values in column 'Months Since Last Claim' with median-value of the other values "
   ]
  },
  {
   "cell_type": "code",
   "execution_count": 28,
   "id": "032ad3a6",
   "metadata": {},
   "outputs": [],
   "source": [
    "data['months_since_last_claim'] = data['months_since_last_claim'].fillna(data['months_since_last_claim'].median())"
   ]
  },
  {
   "cell_type": "code",
   "execution_count": 29,
   "id": "403070f5",
   "metadata": {},
   "outputs": [
    {
     "data": {
      "text/plain": [
       "array([ 0., nan,  3.,  1.,  2.,  4.,  5.])"
      ]
     },
     "execution_count": 29,
     "metadata": {},
     "output_type": "execute_result"
    }
   ],
   "source": [
    "# show unique values in column 'Number of Open Complaints'\n",
    "data['number_of_open_complaints'].unique()"
   ]
  },
  {
   "cell_type": "code",
   "execution_count": 30,
   "id": "966d6246",
   "metadata": {},
   "outputs": [
    {
     "data": {
      "text/plain": [
       "0.0    8160\n",
       "1.0    1145\n",
       "NaN     633\n",
       "2.0     414\n",
       "3.0     324\n",
       "4.0     166\n",
       "5.0      68\n",
       "Name: number_of_open_complaints, dtype: int64"
      ]
     },
     "execution_count": 30,
     "metadata": {},
     "output_type": "execute_result"
    }
   ],
   "source": [
    "# show values in column 'number_of_open_complaints' --> \"dropna=False\" to show NaN value\n",
    "data['number_of_open_complaints'].value_counts(dropna=False)"
   ]
  },
  {
   "cell_type": "code",
   "execution_count": 31,
   "id": "d149d314",
   "metadata": {},
   "outputs": [
    {
     "data": {
      "text/plain": [
       "0.0"
      ]
     },
     "execution_count": 31,
     "metadata": {},
     "output_type": "execute_result"
    }
   ],
   "source": [
    "data['number_of_open_complaints'].median()"
   ]
  },
  {
   "cell_type": "code",
   "execution_count": 32,
   "id": "7ed33e8a",
   "metadata": {},
   "outputs": [],
   "source": [
    "# deside to give the NaN's the most common value\n",
    "data['number_of_open_complaints'] = data['number_of_open_complaints'].fillna(0.0)"
   ]
  },
  {
   "cell_type": "code",
   "execution_count": 33,
   "id": "ea4662e5",
   "metadata": {},
   "outputs": [
    {
     "data": {
      "text/plain": [
       "0.0    8793\n",
       "1.0    1145\n",
       "2.0     414\n",
       "3.0     324\n",
       "4.0     166\n",
       "5.0      68\n",
       "Name: number_of_open_complaints, dtype: int64"
      ]
     },
     "execution_count": 33,
     "metadata": {},
     "output_type": "execute_result"
    }
   ],
   "source": [
    "# show values in column 'number_of_open_complaints' --> \"dropna=False\" to show NaN value\n",
    "data['number_of_open_complaints'].value_counts(dropna=False)"
   ]
  },
  {
   "cell_type": "code",
   "execution_count": 34,
   "id": "c43fa067",
   "metadata": {},
   "outputs": [
    {
     "data": {
      "text/plain": [
       "array(['Four-Door Car', 'SUV', 'Two-Door Car', 'Sports Car', 'Luxury Car',\n",
       "       'Luxury SUV', nan], dtype=object)"
      ]
     },
     "execution_count": 34,
     "metadata": {},
     "output_type": "execute_result"
    }
   ],
   "source": [
    "# show unique values in column 'vehicle_class'\n",
    "data['vehicle_class'].unique()"
   ]
  },
  {
   "cell_type": "code",
   "execution_count": 35,
   "id": "7723f305",
   "metadata": {},
   "outputs": [
    {
     "data": {
      "text/plain": [
       "Four-Door Car    5212\n",
       "Two-Door Car     2118\n",
       "SUV              2012\n",
       "NaN               622\n",
       "Sports Car        550\n",
       "Luxury SUV        208\n",
       "Luxury Car        188\n",
       "Name: vehicle_class, dtype: int64"
      ]
     },
     "execution_count": 35,
     "metadata": {},
     "output_type": "execute_result"
    }
   ],
   "source": [
    "# show values in column 'Vehicle Class' --> \"dropna=False\" to show NaN value\n",
    "data['vehicle_class'].value_counts(dropna=False)"
   ]
  },
  {
   "cell_type": "code",
   "execution_count": 36,
   "id": "3128af08",
   "metadata": {},
   "outputs": [],
   "source": [
    "# classify NaN's to unknown value\n",
    "data['vehicle_class'] = data['vehicle_class'].fillna('unknown')"
   ]
  },
  {
   "cell_type": "code",
   "execution_count": 37,
   "id": "19f3313d",
   "metadata": {},
   "outputs": [
    {
     "data": {
      "text/plain": [
       "Four-Door Car    5212\n",
       "Two-Door Car     2118\n",
       "SUV              2012\n",
       "unknown           622\n",
       "Sports Car        550\n",
       "Luxury SUV        208\n",
       "Luxury Car        188\n",
       "Name: vehicle_class, dtype: int64"
      ]
     },
     "execution_count": 37,
     "metadata": {},
     "output_type": "execute_result"
    }
   ],
   "source": [
    "# show values in column 'Vehicle Class' --> \"dropna=False\" to show NaN value\n",
    "data['vehicle_class'].value_counts(dropna=False)"
   ]
  },
  {
   "cell_type": "code",
   "execution_count": 38,
   "id": "be9dbe9f",
   "metadata": {},
   "outputs": [
    {
     "data": {
      "text/plain": [
       "array(['Medsize', 'Small', 'Large', nan], dtype=object)"
      ]
     },
     "execution_count": 38,
     "metadata": {},
     "output_type": "execute_result"
    }
   ],
   "source": [
    "# show unique values in column 'Vehicle Size'\n",
    "data['vehicle_size'].unique()"
   ]
  },
  {
   "cell_type": "code",
   "execution_count": 39,
   "id": "12c38bfa",
   "metadata": {},
   "outputs": [
    {
     "data": {
      "text/plain": [
       "Medsize    7251\n",
       "Small      1966\n",
       "Large      1071\n",
       "NaN         622\n",
       "Name: vehicle_size, dtype: int64"
      ]
     },
     "execution_count": 39,
     "metadata": {},
     "output_type": "execute_result"
    }
   ],
   "source": [
    "data['vehicle_size'].value_counts(dropna=False)"
   ]
  },
  {
   "cell_type": "code",
   "execution_count": 40,
   "id": "3d4ec83f",
   "metadata": {},
   "outputs": [],
   "source": [
    "# put NaN's into unknown\n",
    "data['vehicle_size'] = data['vehicle_size'].fillna('unknown')"
   ]
  },
  {
   "cell_type": "code",
   "execution_count": 41,
   "id": "0ee7488a",
   "metadata": {},
   "outputs": [
    {
     "data": {
      "text/plain": [
       "Medsize    7251\n",
       "Small      1966\n",
       "Large      1071\n",
       "unknown     622\n",
       "Name: vehicle_size, dtype: int64"
      ]
     },
     "execution_count": 41,
     "metadata": {},
     "output_type": "execute_result"
    }
   ],
   "source": [
    "data['vehicle_size'].value_counts(dropna=False)"
   ]
  },
  {
   "cell_type": "code",
   "execution_count": 42,
   "id": "4ee9e563",
   "metadata": {},
   "outputs": [
    {
     "data": {
      "text/plain": [
       "array([nan, 'A'], dtype=object)"
      ]
     },
     "execution_count": 42,
     "metadata": {},
     "output_type": "execute_result"
    }
   ],
   "source": [
    "# show values in column 'Vehicle Type' --> \"dropna=False\" to show NaN value\n",
    "data['vehicle_type'].unique()"
   ]
  },
  {
   "cell_type": "code",
   "execution_count": 43,
   "id": "cc58a7fc",
   "metadata": {},
   "outputs": [
    {
     "data": {
      "text/plain": [
       "NaN    5482\n",
       "A      5428\n",
       "Name: vehicle_type, dtype: int64"
      ]
     },
     "execution_count": 43,
     "metadata": {},
     "output_type": "execute_result"
    }
   ],
   "source": [
    "# show values in column 'Vehicle Type' --> \"dropna=False\" to show NaN value\n",
    "data['vehicle_type'].value_counts(dropna=False)"
   ]
  },
  {
   "cell_type": "code",
   "execution_count": 44,
   "id": "853ec64d",
   "metadata": {},
   "outputs": [],
   "source": [
    "# NaN's became 'M' (A=automatic; M=manuell)\n",
    "data['vehicle_type'] = data['vehicle_type'].fillna('M')"
   ]
  },
  {
   "cell_type": "code",
   "execution_count": 45,
   "id": "8ae3a012",
   "metadata": {},
   "outputs": [
    {
     "data": {
      "text/plain": [
       "M    5482\n",
       "A    5428\n",
       "Name: vehicle_type, dtype: int64"
      ]
     },
     "execution_count": 45,
     "metadata": {},
     "output_type": "execute_result"
    }
   ],
   "source": [
    "# show values in column 'Vehicle Type' --> \"dropna=False\" to show NaN value\n",
    "data['vehicle_type'].value_counts(dropna=False)"
   ]
  },
  {
   "cell_type": "markdown",
   "id": "c20f7c52",
   "metadata": {},
   "source": [
    "### use pandas .describe-function to show statistic values...\".T\" transpose column titles to row titles and vice versa"
   ]
  },
  {
   "cell_type": "code",
   "execution_count": 46,
   "id": "dbc83a17",
   "metadata": {},
   "outputs": [
    {
     "data": {
      "text/html": [
       "<div>\n",
       "<style scoped>\n",
       "    .dataframe tbody tr th:only-of-type {\n",
       "        vertical-align: middle;\n",
       "    }\n",
       "\n",
       "    .dataframe tbody tr th {\n",
       "        vertical-align: top;\n",
       "    }\n",
       "\n",
       "    .dataframe thead th {\n",
       "        text-align: right;\n",
       "    }\n",
       "</style>\n",
       "<table border=\"1\" class=\"dataframe\">\n",
       "  <thead>\n",
       "    <tr style=\"text-align: right;\">\n",
       "      <th></th>\n",
       "      <th>count</th>\n",
       "      <th>mean</th>\n",
       "      <th>std</th>\n",
       "      <th>min</th>\n",
       "      <th>25%</th>\n",
       "      <th>50%</th>\n",
       "      <th>75%</th>\n",
       "      <th>max</th>\n",
       "    </tr>\n",
       "  </thead>\n",
       "  <tbody>\n",
       "    <tr>\n",
       "      <th>customer_lifetime_value</th>\n",
       "      <td>10910.0</td>\n",
       "      <td>8018.0</td>\n",
       "      <td>6885.0</td>\n",
       "      <td>1898.0</td>\n",
       "      <td>4014.0</td>\n",
       "      <td>5771.0</td>\n",
       "      <td>8993.0</td>\n",
       "      <td>83325.0</td>\n",
       "    </tr>\n",
       "    <tr>\n",
       "      <th>income</th>\n",
       "      <td>10910.0</td>\n",
       "      <td>37536.0</td>\n",
       "      <td>30359.0</td>\n",
       "      <td>0.0</td>\n",
       "      <td>0.0</td>\n",
       "      <td>33814.0</td>\n",
       "      <td>62251.0</td>\n",
       "      <td>99981.0</td>\n",
       "    </tr>\n",
       "    <tr>\n",
       "      <th>monthly_premium_auto</th>\n",
       "      <td>10910.0</td>\n",
       "      <td>93.0</td>\n",
       "      <td>34.0</td>\n",
       "      <td>61.0</td>\n",
       "      <td>68.0</td>\n",
       "      <td>83.0</td>\n",
       "      <td>109.0</td>\n",
       "      <td>298.0</td>\n",
       "    </tr>\n",
       "    <tr>\n",
       "      <th>months_since_last_claim</th>\n",
       "      <td>10910.0</td>\n",
       "      <td>15.0</td>\n",
       "      <td>10.0</td>\n",
       "      <td>0.0</td>\n",
       "      <td>7.0</td>\n",
       "      <td>14.0</td>\n",
       "      <td>23.0</td>\n",
       "      <td>35.0</td>\n",
       "    </tr>\n",
       "    <tr>\n",
       "      <th>months_since_policy_inception</th>\n",
       "      <td>10910.0</td>\n",
       "      <td>48.0</td>\n",
       "      <td>28.0</td>\n",
       "      <td>0.0</td>\n",
       "      <td>24.0</td>\n",
       "      <td>48.0</td>\n",
       "      <td>71.0</td>\n",
       "      <td>99.0</td>\n",
       "    </tr>\n",
       "    <tr>\n",
       "      <th>number_of_open_complaints</th>\n",
       "      <td>10910.0</td>\n",
       "      <td>0.0</td>\n",
       "      <td>1.0</td>\n",
       "      <td>0.0</td>\n",
       "      <td>0.0</td>\n",
       "      <td>0.0</td>\n",
       "      <td>0.0</td>\n",
       "      <td>5.0</td>\n",
       "    </tr>\n",
       "    <tr>\n",
       "      <th>number_of_policies</th>\n",
       "      <td>10910.0</td>\n",
       "      <td>3.0</td>\n",
       "      <td>2.0</td>\n",
       "      <td>1.0</td>\n",
       "      <td>1.0</td>\n",
       "      <td>2.0</td>\n",
       "      <td>4.0</td>\n",
       "      <td>9.0</td>\n",
       "    </tr>\n",
       "    <tr>\n",
       "      <th>total_claim_amount</th>\n",
       "      <td>10910.0</td>\n",
       "      <td>435.0</td>\n",
       "      <td>292.0</td>\n",
       "      <td>0.0</td>\n",
       "      <td>271.0</td>\n",
       "      <td>383.0</td>\n",
       "      <td>547.0</td>\n",
       "      <td>2893.0</td>\n",
       "    </tr>\n",
       "  </tbody>\n",
       "</table>\n",
       "</div>"
      ],
      "text/plain": [
       "                                 count     mean      std     min     25%  \\\n",
       "customer_lifetime_value        10910.0   8018.0   6885.0  1898.0  4014.0   \n",
       "income                         10910.0  37536.0  30359.0     0.0     0.0   \n",
       "monthly_premium_auto           10910.0     93.0     34.0    61.0    68.0   \n",
       "months_since_last_claim        10910.0     15.0     10.0     0.0     7.0   \n",
       "months_since_policy_inception  10910.0     48.0     28.0     0.0    24.0   \n",
       "number_of_open_complaints      10910.0      0.0      1.0     0.0     0.0   \n",
       "number_of_policies             10910.0      3.0      2.0     1.0     1.0   \n",
       "total_claim_amount             10910.0    435.0    292.0     0.0   271.0   \n",
       "\n",
       "                                   50%      75%      max  \n",
       "customer_lifetime_value         5771.0   8993.0  83325.0  \n",
       "income                         33814.0  62251.0  99981.0  \n",
       "monthly_premium_auto              83.0    109.0    298.0  \n",
       "months_since_last_claim           14.0     23.0     35.0  \n",
       "months_since_policy_inception     48.0     71.0     99.0  \n",
       "number_of_open_complaints          0.0      0.0      5.0  \n",
       "number_of_policies                 2.0      4.0      9.0  \n",
       "total_claim_amount               383.0    547.0   2893.0  "
      ]
     },
     "execution_count": 46,
     "metadata": {},
     "output_type": "execute_result"
    }
   ],
   "source": [
    "round(data.describe(),0).T"
   ]
  },
  {
   "cell_type": "markdown",
   "id": "dbbfaca7",
   "metadata": {},
   "source": [
    "### \"include=[object]\" to display statistic about non-numerical columns"
   ]
  },
  {
   "cell_type": "code",
   "execution_count": 47,
   "id": "9add32db",
   "metadata": {},
   "outputs": [
    {
     "data": {
      "text/html": [
       "<div>\n",
       "<style scoped>\n",
       "    .dataframe tbody tr th:only-of-type {\n",
       "        vertical-align: middle;\n",
       "    }\n",
       "\n",
       "    .dataframe tbody tr th {\n",
       "        vertical-align: top;\n",
       "    }\n",
       "\n",
       "    .dataframe thead th {\n",
       "        text-align: right;\n",
       "    }\n",
       "</style>\n",
       "<table border=\"1\" class=\"dataframe\">\n",
       "  <thead>\n",
       "    <tr style=\"text-align: right;\">\n",
       "      <th></th>\n",
       "      <th>count</th>\n",
       "      <th>unique</th>\n",
       "      <th>top</th>\n",
       "      <th>freq</th>\n",
       "    </tr>\n",
       "  </thead>\n",
       "  <tbody>\n",
       "    <tr>\n",
       "      <th>customer</th>\n",
       "      <td>10910</td>\n",
       "      <td>9134</td>\n",
       "      <td>ID89933</td>\n",
       "      <td>7</td>\n",
       "    </tr>\n",
       "    <tr>\n",
       "      <th>state</th>\n",
       "      <td>10910</td>\n",
       "      <td>6</td>\n",
       "      <td>California</td>\n",
       "      <td>3552</td>\n",
       "    </tr>\n",
       "    <tr>\n",
       "      <th>response</th>\n",
       "      <td>10910</td>\n",
       "      <td>3</td>\n",
       "      <td>No</td>\n",
       "      <td>8813</td>\n",
       "    </tr>\n",
       "    <tr>\n",
       "      <th>coverage</th>\n",
       "      <td>10910</td>\n",
       "      <td>3</td>\n",
       "      <td>Basic</td>\n",
       "      <td>6660</td>\n",
       "    </tr>\n",
       "    <tr>\n",
       "      <th>education</th>\n",
       "      <td>10910</td>\n",
       "      <td>5</td>\n",
       "      <td>Bachelor</td>\n",
       "      <td>3272</td>\n",
       "    </tr>\n",
       "    <tr>\n",
       "      <th>effective_to_date</th>\n",
       "      <td>10910</td>\n",
       "      <td>59</td>\n",
       "      <td>1/10/11</td>\n",
       "      <td>239</td>\n",
       "    </tr>\n",
       "    <tr>\n",
       "      <th>employmentstatus</th>\n",
       "      <td>10910</td>\n",
       "      <td>5</td>\n",
       "      <td>Employed</td>\n",
       "      <td>6789</td>\n",
       "    </tr>\n",
       "    <tr>\n",
       "      <th>gender</th>\n",
       "      <td>10910</td>\n",
       "      <td>2</td>\n",
       "      <td>F</td>\n",
       "      <td>5573</td>\n",
       "    </tr>\n",
       "    <tr>\n",
       "      <th>location_code</th>\n",
       "      <td>10910</td>\n",
       "      <td>3</td>\n",
       "      <td>Suburban</td>\n",
       "      <td>6902</td>\n",
       "    </tr>\n",
       "    <tr>\n",
       "      <th>marital_status</th>\n",
       "      <td>10910</td>\n",
       "      <td>3</td>\n",
       "      <td>Married</td>\n",
       "      <td>6319</td>\n",
       "    </tr>\n",
       "    <tr>\n",
       "      <th>policy_type</th>\n",
       "      <td>10910</td>\n",
       "      <td>3</td>\n",
       "      <td>Personal Auto</td>\n",
       "      <td>8128</td>\n",
       "    </tr>\n",
       "    <tr>\n",
       "      <th>policy</th>\n",
       "      <td>10910</td>\n",
       "      <td>9</td>\n",
       "      <td>Personal L3</td>\n",
       "      <td>4118</td>\n",
       "    </tr>\n",
       "    <tr>\n",
       "      <th>renew_offer_type</th>\n",
       "      <td>10910</td>\n",
       "      <td>4</td>\n",
       "      <td>Offer1</td>\n",
       "      <td>4483</td>\n",
       "    </tr>\n",
       "    <tr>\n",
       "      <th>sales_channel</th>\n",
       "      <td>10910</td>\n",
       "      <td>4</td>\n",
       "      <td>Agent</td>\n",
       "      <td>4121</td>\n",
       "    </tr>\n",
       "    <tr>\n",
       "      <th>vehicle_class</th>\n",
       "      <td>10910</td>\n",
       "      <td>7</td>\n",
       "      <td>Four-Door Car</td>\n",
       "      <td>5212</td>\n",
       "    </tr>\n",
       "    <tr>\n",
       "      <th>vehicle_size</th>\n",
       "      <td>10910</td>\n",
       "      <td>4</td>\n",
       "      <td>Medsize</td>\n",
       "      <td>7251</td>\n",
       "    </tr>\n",
       "    <tr>\n",
       "      <th>vehicle_type</th>\n",
       "      <td>10910</td>\n",
       "      <td>2</td>\n",
       "      <td>M</td>\n",
       "      <td>5482</td>\n",
       "    </tr>\n",
       "  </tbody>\n",
       "</table>\n",
       "</div>"
      ],
      "text/plain": [
       "                   count unique            top  freq\n",
       "customer           10910   9134        ID89933     7\n",
       "state              10910      6     California  3552\n",
       "response           10910      3             No  8813\n",
       "coverage           10910      3          Basic  6660\n",
       "education          10910      5       Bachelor  3272\n",
       "effective_to_date  10910     59        1/10/11   239\n",
       "employmentstatus   10910      5       Employed  6789\n",
       "gender             10910      2              F  5573\n",
       "location_code      10910      3       Suburban  6902\n",
       "marital_status     10910      3        Married  6319\n",
       "policy_type        10910      3  Personal Auto  8128\n",
       "policy             10910      9    Personal L3  4118\n",
       "renew_offer_type   10910      4         Offer1  4483\n",
       "sales_channel      10910      4          Agent  4121\n",
       "vehicle_class      10910      7  Four-Door Car  5212\n",
       "vehicle_size       10910      4        Medsize  7251\n",
       "vehicle_type       10910      2              M  5482"
      ]
     },
     "execution_count": 47,
     "metadata": {},
     "output_type": "execute_result"
    }
   ],
   "source": [
    "data.describe(include=[object]).T"
   ]
  },
  {
   "cell_type": "markdown",
   "id": "5266ed57",
   "metadata": {},
   "source": [
    "### Extract the months from the dataset and store it into a separate column"
   ]
  },
  {
   "cell_type": "code",
   "execution_count": 48,
   "id": "1d0998e3",
   "metadata": {},
   "outputs": [
    {
     "data": {
      "text/plain": [
       "array([2, 1], dtype=int64)"
      ]
     },
     "execution_count": 48,
     "metadata": {},
     "output_type": "execute_result"
    }
   ],
   "source": [
    "# data['Year'] = pd.DatetimeIndex(data['effective_to_date']).year\n",
    "# data['Year'].unique()\n",
    "# data['Day'] = pd.DatetimeIndex(data['effective_to_date']).day\n",
    "# data['Day'].unique()\n",
    "data['month'] =pd.DatetimeIndex(data['effective_to_date']).month\n",
    "data['month'].unique()"
   ]
  },
  {
   "cell_type": "code",
   "execution_count": 49,
   "id": "d421db8f",
   "metadata": {},
   "outputs": [
    {
     "data": {
      "text/html": [
       "<div>\n",
       "<style scoped>\n",
       "    .dataframe tbody tr th:only-of-type {\n",
       "        vertical-align: middle;\n",
       "    }\n",
       "\n",
       "    .dataframe tbody tr th {\n",
       "        vertical-align: top;\n",
       "    }\n",
       "\n",
       "    .dataframe thead th {\n",
       "        text-align: right;\n",
       "    }\n",
       "</style>\n",
       "<table border=\"1\" class=\"dataframe\">\n",
       "  <thead>\n",
       "    <tr style=\"text-align: right;\">\n",
       "      <th></th>\n",
       "      <th>customer</th>\n",
       "      <th>state</th>\n",
       "      <th>customer_lifetime_value</th>\n",
       "      <th>response</th>\n",
       "      <th>coverage</th>\n",
       "      <th>education</th>\n",
       "      <th>effective_to_date</th>\n",
       "      <th>employmentstatus</th>\n",
       "      <th>gender</th>\n",
       "      <th>income</th>\n",
       "      <th>...</th>\n",
       "      <th>number_of_policies</th>\n",
       "      <th>policy_type</th>\n",
       "      <th>policy</th>\n",
       "      <th>renew_offer_type</th>\n",
       "      <th>sales_channel</th>\n",
       "      <th>total_claim_amount</th>\n",
       "      <th>vehicle_class</th>\n",
       "      <th>vehicle_size</th>\n",
       "      <th>vehicle_type</th>\n",
       "      <th>month</th>\n",
       "    </tr>\n",
       "  </thead>\n",
       "  <tbody>\n",
       "    <tr>\n",
       "      <th>0</th>\n",
       "      <td>DK49336</td>\n",
       "      <td>Arizona</td>\n",
       "      <td>4809.21696</td>\n",
       "      <td>No</td>\n",
       "      <td>Basic</td>\n",
       "      <td>College</td>\n",
       "      <td>2/18/11</td>\n",
       "      <td>Employed</td>\n",
       "      <td>M</td>\n",
       "      <td>48029</td>\n",
       "      <td>...</td>\n",
       "      <td>9</td>\n",
       "      <td>Corporate Auto</td>\n",
       "      <td>Corporate L3</td>\n",
       "      <td>Offer3</td>\n",
       "      <td>Agent</td>\n",
       "      <td>292.8</td>\n",
       "      <td>Four-Door Car</td>\n",
       "      <td>Medsize</td>\n",
       "      <td>M</td>\n",
       "      <td>2</td>\n",
       "    </tr>\n",
       "  </tbody>\n",
       "</table>\n",
       "<p>1 rows × 26 columns</p>\n",
       "</div>"
      ],
      "text/plain": [
       "  customer    state  customer_lifetime_value response coverage education  \\\n",
       "0  DK49336  Arizona               4809.21696       No    Basic   College   \n",
       "\n",
       "  effective_to_date employmentstatus gender  income  ... number_of_policies  \\\n",
       "0           2/18/11         Employed      M   48029  ...                  9   \n",
       "\n",
       "      policy_type        policy  renew_offer_type  sales_channel  \\\n",
       "0  Corporate Auto  Corporate L3            Offer3          Agent   \n",
       "\n",
       "   total_claim_amount  vehicle_class vehicle_size vehicle_type month  \n",
       "0               292.8  Four-Door Car      Medsize            M     2  \n",
       "\n",
       "[1 rows x 26 columns]"
      ]
     },
     "execution_count": 49,
     "metadata": {},
     "output_type": "execute_result"
    }
   ],
   "source": [
    "data.head(1)"
   ]
  },
  {
   "cell_type": "code",
   "execution_count": 50,
   "id": "9f996bb2",
   "metadata": {},
   "outputs": [
    {
     "data": {
      "text/plain": [
       "1    5818\n",
       "2    5092\n",
       "Name: month, dtype: int64"
      ]
     },
     "execution_count": 50,
     "metadata": {},
     "output_type": "execute_result"
    }
   ],
   "source": [
    "# show values in column 'month' --> \"dropna=False\" to show NaN value\n",
    "data['month'].value_counts(dropna=False)"
   ]
  },
  {
   "cell_type": "markdown",
   "id": "ba9a7e52",
   "metadata": {},
   "source": [
    "### filter the data to show only the information for the first quarter"
   ]
  },
  {
   "cell_type": "code",
   "execution_count": 51,
   "id": "b6d5ba22",
   "metadata": {},
   "outputs": [
    {
     "data": {
      "text/html": [
       "<div>\n",
       "<style scoped>\n",
       "    .dataframe tbody tr th:only-of-type {\n",
       "        vertical-align: middle;\n",
       "    }\n",
       "\n",
       "    .dataframe tbody tr th {\n",
       "        vertical-align: top;\n",
       "    }\n",
       "\n",
       "    .dataframe thead th {\n",
       "        text-align: right;\n",
       "    }\n",
       "</style>\n",
       "<table border=\"1\" class=\"dataframe\">\n",
       "  <thead>\n",
       "    <tr style=\"text-align: right;\">\n",
       "      <th></th>\n",
       "      <th>customer</th>\n",
       "      <th>state</th>\n",
       "      <th>customer_lifetime_value</th>\n",
       "      <th>response</th>\n",
       "      <th>coverage</th>\n",
       "      <th>education</th>\n",
       "      <th>effective_to_date</th>\n",
       "      <th>employmentstatus</th>\n",
       "      <th>gender</th>\n",
       "      <th>income</th>\n",
       "      <th>...</th>\n",
       "      <th>number_of_policies</th>\n",
       "      <th>policy_type</th>\n",
       "      <th>policy</th>\n",
       "      <th>renew_offer_type</th>\n",
       "      <th>sales_channel</th>\n",
       "      <th>total_claim_amount</th>\n",
       "      <th>vehicle_class</th>\n",
       "      <th>vehicle_size</th>\n",
       "      <th>vehicle_type</th>\n",
       "      <th>month</th>\n",
       "    </tr>\n",
       "  </thead>\n",
       "  <tbody>\n",
       "    <tr>\n",
       "      <th>0</th>\n",
       "      <td>DK49336</td>\n",
       "      <td>Arizona</td>\n",
       "      <td>4809.216960</td>\n",
       "      <td>No</td>\n",
       "      <td>Basic</td>\n",
       "      <td>College</td>\n",
       "      <td>2/18/11</td>\n",
       "      <td>Employed</td>\n",
       "      <td>M</td>\n",
       "      <td>48029</td>\n",
       "      <td>...</td>\n",
       "      <td>9</td>\n",
       "      <td>Corporate Auto</td>\n",
       "      <td>Corporate L3</td>\n",
       "      <td>Offer3</td>\n",
       "      <td>Agent</td>\n",
       "      <td>292.800000</td>\n",
       "      <td>Four-Door Car</td>\n",
       "      <td>Medsize</td>\n",
       "      <td>M</td>\n",
       "      <td>2</td>\n",
       "    </tr>\n",
       "    <tr>\n",
       "      <th>1</th>\n",
       "      <td>KX64629</td>\n",
       "      <td>California</td>\n",
       "      <td>2228.525238</td>\n",
       "      <td>No</td>\n",
       "      <td>Basic</td>\n",
       "      <td>College</td>\n",
       "      <td>1/18/11</td>\n",
       "      <td>Unemployed</td>\n",
       "      <td>F</td>\n",
       "      <td>0</td>\n",
       "      <td>...</td>\n",
       "      <td>1</td>\n",
       "      <td>Personal Auto</td>\n",
       "      <td>Personal L3</td>\n",
       "      <td>Offer4</td>\n",
       "      <td>Call Center</td>\n",
       "      <td>744.924331</td>\n",
       "      <td>Four-Door Car</td>\n",
       "      <td>Medsize</td>\n",
       "      <td>M</td>\n",
       "      <td>1</td>\n",
       "    </tr>\n",
       "    <tr>\n",
       "      <th>2</th>\n",
       "      <td>LZ68649</td>\n",
       "      <td>Washington</td>\n",
       "      <td>14947.917300</td>\n",
       "      <td>No</td>\n",
       "      <td>Basic</td>\n",
       "      <td>Bachelor</td>\n",
       "      <td>2/10/11</td>\n",
       "      <td>Employed</td>\n",
       "      <td>M</td>\n",
       "      <td>22139</td>\n",
       "      <td>...</td>\n",
       "      <td>2</td>\n",
       "      <td>Personal Auto</td>\n",
       "      <td>Personal L3</td>\n",
       "      <td>Offer3</td>\n",
       "      <td>Call Center</td>\n",
       "      <td>480.000000</td>\n",
       "      <td>SUV</td>\n",
       "      <td>Medsize</td>\n",
       "      <td>A</td>\n",
       "      <td>2</td>\n",
       "    </tr>\n",
       "    <tr>\n",
       "      <th>3</th>\n",
       "      <td>XL78013</td>\n",
       "      <td>Oregon</td>\n",
       "      <td>22332.439460</td>\n",
       "      <td>Yes</td>\n",
       "      <td>Extended</td>\n",
       "      <td>College</td>\n",
       "      <td>1/11/11</td>\n",
       "      <td>Employed</td>\n",
       "      <td>M</td>\n",
       "      <td>49078</td>\n",
       "      <td>...</td>\n",
       "      <td>2</td>\n",
       "      <td>Corporate Auto</td>\n",
       "      <td>Corporate L3</td>\n",
       "      <td>Offer2</td>\n",
       "      <td>Branch</td>\n",
       "      <td>484.013411</td>\n",
       "      <td>Four-Door Car</td>\n",
       "      <td>Medsize</td>\n",
       "      <td>A</td>\n",
       "      <td>1</td>\n",
       "    </tr>\n",
       "    <tr>\n",
       "      <th>4</th>\n",
       "      <td>QA50777</td>\n",
       "      <td>Oregon</td>\n",
       "      <td>9025.067525</td>\n",
       "      <td>No</td>\n",
       "      <td>Premium</td>\n",
       "      <td>Bachelor</td>\n",
       "      <td>1/17/11</td>\n",
       "      <td>Medical Leave</td>\n",
       "      <td>F</td>\n",
       "      <td>23675</td>\n",
       "      <td>...</td>\n",
       "      <td>7</td>\n",
       "      <td>Personal Auto</td>\n",
       "      <td>Personal L2</td>\n",
       "      <td>Offer1</td>\n",
       "      <td>Branch</td>\n",
       "      <td>707.925645</td>\n",
       "      <td>Four-Door Car</td>\n",
       "      <td>Medsize</td>\n",
       "      <td>M</td>\n",
       "      <td>1</td>\n",
       "    </tr>\n",
       "    <tr>\n",
       "      <th>...</th>\n",
       "      <td>...</td>\n",
       "      <td>...</td>\n",
       "      <td>...</td>\n",
       "      <td>...</td>\n",
       "      <td>...</td>\n",
       "      <td>...</td>\n",
       "      <td>...</td>\n",
       "      <td>...</td>\n",
       "      <td>...</td>\n",
       "      <td>...</td>\n",
       "      <td>...</td>\n",
       "      <td>...</td>\n",
       "      <td>...</td>\n",
       "      <td>...</td>\n",
       "      <td>...</td>\n",
       "      <td>...</td>\n",
       "      <td>...</td>\n",
       "      <td>...</td>\n",
       "      <td>...</td>\n",
       "      <td>...</td>\n",
       "      <td>...</td>\n",
       "    </tr>\n",
       "    <tr>\n",
       "      <th>10905</th>\n",
       "      <td>FE99816</td>\n",
       "      <td>Nevada</td>\n",
       "      <td>15563.369440</td>\n",
       "      <td>No</td>\n",
       "      <td>Premium</td>\n",
       "      <td>Bachelor</td>\n",
       "      <td>1/19/11</td>\n",
       "      <td>Unemployed</td>\n",
       "      <td>F</td>\n",
       "      <td>0</td>\n",
       "      <td>...</td>\n",
       "      <td>7</td>\n",
       "      <td>Personal Auto</td>\n",
       "      <td>Personal L1</td>\n",
       "      <td>Offer3</td>\n",
       "      <td>Web</td>\n",
       "      <td>1214.400000</td>\n",
       "      <td>Luxury Car</td>\n",
       "      <td>Medsize</td>\n",
       "      <td>A</td>\n",
       "      <td>1</td>\n",
       "    </tr>\n",
       "    <tr>\n",
       "      <th>10906</th>\n",
       "      <td>KX53892</td>\n",
       "      <td>Oregon</td>\n",
       "      <td>5259.444853</td>\n",
       "      <td>No</td>\n",
       "      <td>Basic</td>\n",
       "      <td>College</td>\n",
       "      <td>1/6/11</td>\n",
       "      <td>Employed</td>\n",
       "      <td>F</td>\n",
       "      <td>61146</td>\n",
       "      <td>...</td>\n",
       "      <td>6</td>\n",
       "      <td>Personal Auto</td>\n",
       "      <td>Personal L3</td>\n",
       "      <td>Offer2</td>\n",
       "      <td>Branch</td>\n",
       "      <td>273.018929</td>\n",
       "      <td>Four-Door Car</td>\n",
       "      <td>Medsize</td>\n",
       "      <td>A</td>\n",
       "      <td>1</td>\n",
       "    </tr>\n",
       "    <tr>\n",
       "      <th>10907</th>\n",
       "      <td>TL39050</td>\n",
       "      <td>Arizona</td>\n",
       "      <td>23893.304100</td>\n",
       "      <td>No</td>\n",
       "      <td>Extended</td>\n",
       "      <td>Bachelor</td>\n",
       "      <td>2/6/11</td>\n",
       "      <td>Employed</td>\n",
       "      <td>F</td>\n",
       "      <td>39837</td>\n",
       "      <td>...</td>\n",
       "      <td>2</td>\n",
       "      <td>Corporate Auto</td>\n",
       "      <td>Corporate L3</td>\n",
       "      <td>Offer1</td>\n",
       "      <td>Web</td>\n",
       "      <td>381.306996</td>\n",
       "      <td>Luxury SUV</td>\n",
       "      <td>Medsize</td>\n",
       "      <td>M</td>\n",
       "      <td>2</td>\n",
       "    </tr>\n",
       "    <tr>\n",
       "      <th>10908</th>\n",
       "      <td>WA60547</td>\n",
       "      <td>California</td>\n",
       "      <td>11971.977650</td>\n",
       "      <td>No</td>\n",
       "      <td>Premium</td>\n",
       "      <td>College</td>\n",
       "      <td>2/13/11</td>\n",
       "      <td>Employed</td>\n",
       "      <td>F</td>\n",
       "      <td>64195</td>\n",
       "      <td>...</td>\n",
       "      <td>6</td>\n",
       "      <td>Personal Auto</td>\n",
       "      <td>Personal L1</td>\n",
       "      <td>Offer1</td>\n",
       "      <td>Branch</td>\n",
       "      <td>618.288849</td>\n",
       "      <td>SUV</td>\n",
       "      <td>Medsize</td>\n",
       "      <td>A</td>\n",
       "      <td>2</td>\n",
       "    </tr>\n",
       "    <tr>\n",
       "      <th>10909</th>\n",
       "      <td>IV32877</td>\n",
       "      <td>Unknown</td>\n",
       "      <td>6857.519928</td>\n",
       "      <td>Unknown</td>\n",
       "      <td>Basic</td>\n",
       "      <td>Bachelor</td>\n",
       "      <td>1/8/11</td>\n",
       "      <td>Unemployed</td>\n",
       "      <td>M</td>\n",
       "      <td>0</td>\n",
       "      <td>...</td>\n",
       "      <td>3</td>\n",
       "      <td>Personal Auto</td>\n",
       "      <td>Personal L1</td>\n",
       "      <td>Offer4</td>\n",
       "      <td>Web</td>\n",
       "      <td>1021.719397</td>\n",
       "      <td>SUV</td>\n",
       "      <td>Medsize</td>\n",
       "      <td>M</td>\n",
       "      <td>1</td>\n",
       "    </tr>\n",
       "  </tbody>\n",
       "</table>\n",
       "<p>10910 rows × 26 columns</p>\n",
       "</div>"
      ],
      "text/plain": [
       "      customer       state  customer_lifetime_value response  coverage  \\\n",
       "0      DK49336     Arizona              4809.216960       No     Basic   \n",
       "1      KX64629  California              2228.525238       No     Basic   \n",
       "2      LZ68649  Washington             14947.917300       No     Basic   \n",
       "3      XL78013      Oregon             22332.439460      Yes  Extended   \n",
       "4      QA50777      Oregon              9025.067525       No   Premium   \n",
       "...        ...         ...                      ...      ...       ...   \n",
       "10905  FE99816      Nevada             15563.369440       No   Premium   \n",
       "10906  KX53892      Oregon              5259.444853       No     Basic   \n",
       "10907  TL39050     Arizona             23893.304100       No  Extended   \n",
       "10908  WA60547  California             11971.977650       No   Premium   \n",
       "10909  IV32877     Unknown              6857.519928  Unknown     Basic   \n",
       "\n",
       "      education effective_to_date employmentstatus gender  income  ...  \\\n",
       "0       College           2/18/11         Employed      M   48029  ...   \n",
       "1       College           1/18/11       Unemployed      F       0  ...   \n",
       "2      Bachelor           2/10/11         Employed      M   22139  ...   \n",
       "3       College           1/11/11         Employed      M   49078  ...   \n",
       "4      Bachelor           1/17/11    Medical Leave      F   23675  ...   \n",
       "...         ...               ...              ...    ...     ...  ...   \n",
       "10905  Bachelor           1/19/11       Unemployed      F       0  ...   \n",
       "10906   College            1/6/11         Employed      F   61146  ...   \n",
       "10907  Bachelor            2/6/11         Employed      F   39837  ...   \n",
       "10908   College           2/13/11         Employed      F   64195  ...   \n",
       "10909  Bachelor            1/8/11       Unemployed      M       0  ...   \n",
       "\n",
       "      number_of_policies     policy_type        policy  renew_offer_type  \\\n",
       "0                      9  Corporate Auto  Corporate L3            Offer3   \n",
       "1                      1   Personal Auto   Personal L3            Offer4   \n",
       "2                      2   Personal Auto   Personal L3            Offer3   \n",
       "3                      2  Corporate Auto  Corporate L3            Offer2   \n",
       "4                      7   Personal Auto   Personal L2            Offer1   \n",
       "...                  ...             ...           ...               ...   \n",
       "10905                  7   Personal Auto   Personal L1            Offer3   \n",
       "10906                  6   Personal Auto   Personal L3            Offer2   \n",
       "10907                  2  Corporate Auto  Corporate L3            Offer1   \n",
       "10908                  6   Personal Auto   Personal L1            Offer1   \n",
       "10909                  3   Personal Auto   Personal L1            Offer4   \n",
       "\n",
       "       sales_channel  total_claim_amount  vehicle_class vehicle_size  \\\n",
       "0              Agent          292.800000  Four-Door Car      Medsize   \n",
       "1        Call Center          744.924331  Four-Door Car      Medsize   \n",
       "2        Call Center          480.000000            SUV      Medsize   \n",
       "3             Branch          484.013411  Four-Door Car      Medsize   \n",
       "4             Branch          707.925645  Four-Door Car      Medsize   \n",
       "...              ...                 ...            ...          ...   \n",
       "10905            Web         1214.400000     Luxury Car      Medsize   \n",
       "10906         Branch          273.018929  Four-Door Car      Medsize   \n",
       "10907            Web          381.306996     Luxury SUV      Medsize   \n",
       "10908         Branch          618.288849            SUV      Medsize   \n",
       "10909            Web         1021.719397            SUV      Medsize   \n",
       "\n",
       "      vehicle_type month  \n",
       "0                M     2  \n",
       "1                M     1  \n",
       "2                A     2  \n",
       "3                A     1  \n",
       "4                M     1  \n",
       "...            ...   ...  \n",
       "10905            A     1  \n",
       "10906            A     1  \n",
       "10907            M     2  \n",
       "10908            A     2  \n",
       "10909            M     1  \n",
       "\n",
       "[10910 rows x 26 columns]"
      ]
     },
     "metadata": {},
     "output_type": "display_data"
    }
   ],
   "source": [
    "display(data[data['month']<4])"
   ]
  },
  {
   "cell_type": "code",
   "execution_count": 52,
   "id": "89cec9b0",
   "metadata": {},
   "outputs": [
    {
     "data": {
      "text/plain": [
       "F    5573\n",
       "M    5337\n",
       "Name: gender, dtype: int64"
      ]
     },
     "execution_count": 52,
     "metadata": {},
     "output_type": "execute_result"
    }
   ],
   "source": [
    "# show values in column 'gender' --> \"dropna=False\" to show NaN value\n",
    "data['gender'].value_counts(dropna=False)"
   ]
  },
  {
   "cell_type": "markdown",
   "id": "fbb7b355",
   "metadata": {},
   "source": [
    "# Lab | Customer Analysis Round 3\n",
    "### EDA (Exploratory Data Analysis)"
   ]
  },
  {
   "cell_type": "markdown",
   "id": "14013f55",
   "metadata": {},
   "source": [
    "#### show dataframe info"
   ]
  },
  {
   "cell_type": "code",
   "execution_count": 53,
   "id": "e60cdda0",
   "metadata": {},
   "outputs": [
    {
     "name": "stdout",
     "output_type": "stream",
     "text": [
      "<class 'pandas.core.frame.DataFrame'>\n",
      "RangeIndex: 10910 entries, 0 to 10909\n",
      "Data columns (total 26 columns):\n",
      " #   Column                         Non-Null Count  Dtype  \n",
      "---  ------                         --------------  -----  \n",
      " 0   customer                       10910 non-null  object \n",
      " 1   state                          10910 non-null  object \n",
      " 2   customer_lifetime_value        10910 non-null  float64\n",
      " 3   response                       10910 non-null  object \n",
      " 4   coverage                       10910 non-null  object \n",
      " 5   education                      10910 non-null  object \n",
      " 6   effective_to_date              10910 non-null  object \n",
      " 7   employmentstatus               10910 non-null  object \n",
      " 8   gender                         10910 non-null  object \n",
      " 9   income                         10910 non-null  int64  \n",
      " 10  location_code                  10910 non-null  object \n",
      " 11  marital_status                 10910 non-null  object \n",
      " 12  monthly_premium_auto           10910 non-null  int64  \n",
      " 13  months_since_last_claim        10910 non-null  float64\n",
      " 14  months_since_policy_inception  10910 non-null  int64  \n",
      " 15  number_of_open_complaints      10910 non-null  float64\n",
      " 16  number_of_policies             10910 non-null  int64  \n",
      " 17  policy_type                    10910 non-null  object \n",
      " 18  policy                         10910 non-null  object \n",
      " 19  renew_offer_type               10910 non-null  object \n",
      " 20  sales_channel                  10910 non-null  object \n",
      " 21  total_claim_amount             10910 non-null  float64\n",
      " 22  vehicle_class                  10910 non-null  object \n",
      " 23  vehicle_size                   10910 non-null  object \n",
      " 24  vehicle_type                   10910 non-null  object \n",
      " 25  month                          10910 non-null  int64  \n",
      "dtypes: float64(4), int64(5), object(17)\n",
      "memory usage: 2.2+ MB\n"
     ]
    }
   ],
   "source": [
    "data.info()"
   ]
  },
  {
   "cell_type": "markdown",
   "id": "edacf9bb",
   "metadata": {},
   "source": [
    "### describe dataframe for categorical data"
   ]
  },
  {
   "cell_type": "code",
   "execution_count": 54,
   "id": "f6e25b06",
   "metadata": {},
   "outputs": [
    {
     "data": {
      "text/html": [
       "<div>\n",
       "<style scoped>\n",
       "    .dataframe tbody tr th:only-of-type {\n",
       "        vertical-align: middle;\n",
       "    }\n",
       "\n",
       "    .dataframe tbody tr th {\n",
       "        vertical-align: top;\n",
       "    }\n",
       "\n",
       "    .dataframe thead th {\n",
       "        text-align: right;\n",
       "    }\n",
       "</style>\n",
       "<table border=\"1\" class=\"dataframe\">\n",
       "  <thead>\n",
       "    <tr style=\"text-align: right;\">\n",
       "      <th></th>\n",
       "      <th>count</th>\n",
       "      <th>unique</th>\n",
       "      <th>top</th>\n",
       "      <th>freq</th>\n",
       "    </tr>\n",
       "  </thead>\n",
       "  <tbody>\n",
       "    <tr>\n",
       "      <th>customer</th>\n",
       "      <td>10910</td>\n",
       "      <td>9134</td>\n",
       "      <td>ID89933</td>\n",
       "      <td>7</td>\n",
       "    </tr>\n",
       "    <tr>\n",
       "      <th>state</th>\n",
       "      <td>10910</td>\n",
       "      <td>6</td>\n",
       "      <td>California</td>\n",
       "      <td>3552</td>\n",
       "    </tr>\n",
       "    <tr>\n",
       "      <th>response</th>\n",
       "      <td>10910</td>\n",
       "      <td>3</td>\n",
       "      <td>No</td>\n",
       "      <td>8813</td>\n",
       "    </tr>\n",
       "    <tr>\n",
       "      <th>coverage</th>\n",
       "      <td>10910</td>\n",
       "      <td>3</td>\n",
       "      <td>Basic</td>\n",
       "      <td>6660</td>\n",
       "    </tr>\n",
       "    <tr>\n",
       "      <th>education</th>\n",
       "      <td>10910</td>\n",
       "      <td>5</td>\n",
       "      <td>Bachelor</td>\n",
       "      <td>3272</td>\n",
       "    </tr>\n",
       "    <tr>\n",
       "      <th>effective_to_date</th>\n",
       "      <td>10910</td>\n",
       "      <td>59</td>\n",
       "      <td>1/10/11</td>\n",
       "      <td>239</td>\n",
       "    </tr>\n",
       "    <tr>\n",
       "      <th>employmentstatus</th>\n",
       "      <td>10910</td>\n",
       "      <td>5</td>\n",
       "      <td>Employed</td>\n",
       "      <td>6789</td>\n",
       "    </tr>\n",
       "    <tr>\n",
       "      <th>gender</th>\n",
       "      <td>10910</td>\n",
       "      <td>2</td>\n",
       "      <td>F</td>\n",
       "      <td>5573</td>\n",
       "    </tr>\n",
       "    <tr>\n",
       "      <th>location_code</th>\n",
       "      <td>10910</td>\n",
       "      <td>3</td>\n",
       "      <td>Suburban</td>\n",
       "      <td>6902</td>\n",
       "    </tr>\n",
       "    <tr>\n",
       "      <th>marital_status</th>\n",
       "      <td>10910</td>\n",
       "      <td>3</td>\n",
       "      <td>Married</td>\n",
       "      <td>6319</td>\n",
       "    </tr>\n",
       "    <tr>\n",
       "      <th>policy_type</th>\n",
       "      <td>10910</td>\n",
       "      <td>3</td>\n",
       "      <td>Personal Auto</td>\n",
       "      <td>8128</td>\n",
       "    </tr>\n",
       "    <tr>\n",
       "      <th>policy</th>\n",
       "      <td>10910</td>\n",
       "      <td>9</td>\n",
       "      <td>Personal L3</td>\n",
       "      <td>4118</td>\n",
       "    </tr>\n",
       "    <tr>\n",
       "      <th>renew_offer_type</th>\n",
       "      <td>10910</td>\n",
       "      <td>4</td>\n",
       "      <td>Offer1</td>\n",
       "      <td>4483</td>\n",
       "    </tr>\n",
       "    <tr>\n",
       "      <th>sales_channel</th>\n",
       "      <td>10910</td>\n",
       "      <td>4</td>\n",
       "      <td>Agent</td>\n",
       "      <td>4121</td>\n",
       "    </tr>\n",
       "    <tr>\n",
       "      <th>vehicle_class</th>\n",
       "      <td>10910</td>\n",
       "      <td>7</td>\n",
       "      <td>Four-Door Car</td>\n",
       "      <td>5212</td>\n",
       "    </tr>\n",
       "    <tr>\n",
       "      <th>vehicle_size</th>\n",
       "      <td>10910</td>\n",
       "      <td>4</td>\n",
       "      <td>Medsize</td>\n",
       "      <td>7251</td>\n",
       "    </tr>\n",
       "    <tr>\n",
       "      <th>vehicle_type</th>\n",
       "      <td>10910</td>\n",
       "      <td>2</td>\n",
       "      <td>M</td>\n",
       "      <td>5482</td>\n",
       "    </tr>\n",
       "  </tbody>\n",
       "</table>\n",
       "</div>"
      ],
      "text/plain": [
       "                   count unique            top  freq\n",
       "customer           10910   9134        ID89933     7\n",
       "state              10910      6     California  3552\n",
       "response           10910      3             No  8813\n",
       "coverage           10910      3          Basic  6660\n",
       "education          10910      5       Bachelor  3272\n",
       "effective_to_date  10910     59        1/10/11   239\n",
       "employmentstatus   10910      5       Employed  6789\n",
       "gender             10910      2              F  5573\n",
       "location_code      10910      3       Suburban  6902\n",
       "marital_status     10910      3        Married  6319\n",
       "policy_type        10910      3  Personal Auto  8128\n",
       "policy             10910      9    Personal L3  4118\n",
       "renew_offer_type   10910      4         Offer1  4483\n",
       "sales_channel      10910      4          Agent  4121\n",
       "vehicle_class      10910      7  Four-Door Car  5212\n",
       "vehicle_size       10910      4        Medsize  7251\n",
       "vehicle_type       10910      2              M  5482"
      ]
     },
     "execution_count": 54,
     "metadata": {},
     "output_type": "execute_result"
    }
   ],
   "source": [
    "data.describe(include=[object]).T"
   ]
  },
  {
   "cell_type": "markdown",
   "id": "691840bf",
   "metadata": {},
   "source": [
    "### describe dataframe for numerical data"
   ]
  },
  {
   "cell_type": "code",
   "execution_count": 55,
   "id": "403e439d",
   "metadata": {},
   "outputs": [
    {
     "data": {
      "text/html": [
       "<div>\n",
       "<style scoped>\n",
       "    .dataframe tbody tr th:only-of-type {\n",
       "        vertical-align: middle;\n",
       "    }\n",
       "\n",
       "    .dataframe tbody tr th {\n",
       "        vertical-align: top;\n",
       "    }\n",
       "\n",
       "    .dataframe thead th {\n",
       "        text-align: right;\n",
       "    }\n",
       "</style>\n",
       "<table border=\"1\" class=\"dataframe\">\n",
       "  <thead>\n",
       "    <tr style=\"text-align: right;\">\n",
       "      <th></th>\n",
       "      <th>customer_lifetime_value</th>\n",
       "      <th>income</th>\n",
       "      <th>monthly_premium_auto</th>\n",
       "      <th>months_since_last_claim</th>\n",
       "      <th>months_since_policy_inception</th>\n",
       "      <th>number_of_open_complaints</th>\n",
       "      <th>number_of_policies</th>\n",
       "      <th>total_claim_amount</th>\n",
       "      <th>month</th>\n",
       "    </tr>\n",
       "  </thead>\n",
       "  <tbody>\n",
       "    <tr>\n",
       "      <th>count</th>\n",
       "      <td>10910.000000</td>\n",
       "      <td>10910.000000</td>\n",
       "      <td>10910.000000</td>\n",
       "      <td>10910.000000</td>\n",
       "      <td>10910.000000</td>\n",
       "      <td>10910.000000</td>\n",
       "      <td>10910.000000</td>\n",
       "      <td>10910.000000</td>\n",
       "      <td>10910.000000</td>\n",
       "    </tr>\n",
       "    <tr>\n",
       "      <th>mean</th>\n",
       "      <td>8018.241094</td>\n",
       "      <td>37536.284785</td>\n",
       "      <td>93.196059</td>\n",
       "      <td>15.082401</td>\n",
       "      <td>48.091934</td>\n",
       "      <td>0.361962</td>\n",
       "      <td>2.979193</td>\n",
       "      <td>434.888330</td>\n",
       "      <td>1.466728</td>\n",
       "    </tr>\n",
       "    <tr>\n",
       "      <th>std</th>\n",
       "      <td>6885.081434</td>\n",
       "      <td>30359.195670</td>\n",
       "      <td>34.442532</td>\n",
       "      <td>9.787208</td>\n",
       "      <td>27.940675</td>\n",
       "      <td>0.890134</td>\n",
       "      <td>2.399359</td>\n",
       "      <td>292.180556</td>\n",
       "      <td>0.498915</td>\n",
       "    </tr>\n",
       "    <tr>\n",
       "      <th>min</th>\n",
       "      <td>1898.007675</td>\n",
       "      <td>0.000000</td>\n",
       "      <td>61.000000</td>\n",
       "      <td>0.000000</td>\n",
       "      <td>0.000000</td>\n",
       "      <td>0.000000</td>\n",
       "      <td>1.000000</td>\n",
       "      <td>0.099007</td>\n",
       "      <td>1.000000</td>\n",
       "    </tr>\n",
       "    <tr>\n",
       "      <th>25%</th>\n",
       "      <td>4014.453113</td>\n",
       "      <td>0.000000</td>\n",
       "      <td>68.000000</td>\n",
       "      <td>7.000000</td>\n",
       "      <td>24.000000</td>\n",
       "      <td>0.000000</td>\n",
       "      <td>1.000000</td>\n",
       "      <td>271.082527</td>\n",
       "      <td>1.000000</td>\n",
       "    </tr>\n",
       "    <tr>\n",
       "      <th>50%</th>\n",
       "      <td>5771.147235</td>\n",
       "      <td>33813.500000</td>\n",
       "      <td>83.000000</td>\n",
       "      <td>14.000000</td>\n",
       "      <td>48.000000</td>\n",
       "      <td>0.000000</td>\n",
       "      <td>2.000000</td>\n",
       "      <td>382.564630</td>\n",
       "      <td>1.000000</td>\n",
       "    </tr>\n",
       "    <tr>\n",
       "      <th>75%</th>\n",
       "      <td>8992.779137</td>\n",
       "      <td>62250.750000</td>\n",
       "      <td>109.000000</td>\n",
       "      <td>23.000000</td>\n",
       "      <td>71.000000</td>\n",
       "      <td>0.000000</td>\n",
       "      <td>4.000000</td>\n",
       "      <td>547.200000</td>\n",
       "      <td>2.000000</td>\n",
       "    </tr>\n",
       "    <tr>\n",
       "      <th>max</th>\n",
       "      <td>83325.381190</td>\n",
       "      <td>99981.000000</td>\n",
       "      <td>298.000000</td>\n",
       "      <td>35.000000</td>\n",
       "      <td>99.000000</td>\n",
       "      <td>5.000000</td>\n",
       "      <td>9.000000</td>\n",
       "      <td>2893.239678</td>\n",
       "      <td>2.000000</td>\n",
       "    </tr>\n",
       "  </tbody>\n",
       "</table>\n",
       "</div>"
      ],
      "text/plain": [
       "       customer_lifetime_value        income  monthly_premium_auto  \\\n",
       "count             10910.000000  10910.000000          10910.000000   \n",
       "mean               8018.241094  37536.284785             93.196059   \n",
       "std                6885.081434  30359.195670             34.442532   \n",
       "min                1898.007675      0.000000             61.000000   \n",
       "25%                4014.453113      0.000000             68.000000   \n",
       "50%                5771.147235  33813.500000             83.000000   \n",
       "75%                8992.779137  62250.750000            109.000000   \n",
       "max               83325.381190  99981.000000            298.000000   \n",
       "\n",
       "       months_since_last_claim  months_since_policy_inception  \\\n",
       "count             10910.000000                   10910.000000   \n",
       "mean                 15.082401                      48.091934   \n",
       "std                   9.787208                      27.940675   \n",
       "min                   0.000000                       0.000000   \n",
       "25%                   7.000000                      24.000000   \n",
       "50%                  14.000000                      48.000000   \n",
       "75%                  23.000000                      71.000000   \n",
       "max                  35.000000                      99.000000   \n",
       "\n",
       "       number_of_open_complaints  number_of_policies  total_claim_amount  \\\n",
       "count               10910.000000        10910.000000        10910.000000   \n",
       "mean                    0.361962            2.979193          434.888330   \n",
       "std                     0.890134            2.399359          292.180556   \n",
       "min                     0.000000            1.000000            0.099007   \n",
       "25%                     0.000000            1.000000          271.082527   \n",
       "50%                     0.000000            2.000000          382.564630   \n",
       "75%                     0.000000            4.000000          547.200000   \n",
       "max                     5.000000            9.000000         2893.239678   \n",
       "\n",
       "              month  \n",
       "count  10910.000000  \n",
       "mean       1.466728  \n",
       "std        0.498915  \n",
       "min        1.000000  \n",
       "25%        1.000000  \n",
       "50%        1.000000  \n",
       "75%        2.000000  \n",
       "max        2.000000  "
      ]
     },
     "execution_count": 55,
     "metadata": {},
     "output_type": "execute_result"
    }
   ],
   "source": [
    "data.describe()"
   ]
  },
  {
   "cell_type": "markdown",
   "id": "0efe6655",
   "metadata": {},
   "source": [
    "### Show a plot of the total number of responses."
   ]
  },
  {
   "cell_type": "code",
   "execution_count": 56,
   "id": "f757cfe2",
   "metadata": {},
   "outputs": [
    {
     "data": {
      "text/plain": [
       "<AxesSubplot:>"
      ]
     },
     "execution_count": 56,
     "metadata": {},
     "output_type": "execute_result"
    },
    {
     "data": {
      "image/png": "[encoded data removed]",
      "text/plain": [
       "<Figure size 432x288 with 1 Axes>"
      ]
     },
     "metadata": {
      "needs_background": "light"
     },
     "output_type": "display_data"
    }
   ],
   "source": [
    "data.response.value_counts().plot.bar()"
   ]
  },
  {
   "cell_type": "code",
   "execution_count": 57,
   "id": "1dd11ba7",
   "metadata": {},
   "outputs": [
    {
     "name": "stderr",
     "output_type": "stream",
     "text": [
      "C:\\ProgramData\\Anaconda3\\lib\\site-packages\\seaborn\\_decorators.py:36: FutureWarning: Pass the following variable as a keyword arg: x. From version 0.12, the only valid positional argument will be `data`, and passing other arguments without an explicit keyword will result in an error or misinterpretation.\n",
      "  warnings.warn(\n"
     ]
    },
    {
     "data": {
      "image/png": "[encoded data removed]",
      "text/plain": [
       "<Figure size 288x288 with 1 Axes>"
      ]
     },
     "metadata": {
      "needs_background": "light"
     },
     "output_type": "display_data"
    }
   ],
   "source": [
    "plt.figure(figsize=(4,4))\n",
    "sns.countplot('response', data=data)\n",
    "plt.ylabel('Total number of Response')\n",
    "plt.show()"
   ]
  },
  {
   "cell_type": "code",
   "execution_count": 58,
   "id": "bc684e68",
   "metadata": {},
   "outputs": [
    {
     "name": "stderr",
     "output_type": "stream",
     "text": [
      "C:\\ProgramData\\Anaconda3\\lib\\site-packages\\seaborn\\_decorators.py:36: FutureWarning: Pass the following variable as a keyword arg: x. From version 0.12, the only valid positional argument will be `data`, and passing other arguments without an explicit keyword will result in an error or misinterpretation.\n",
      "  warnings.warn(\n"
     ]
    },
    {
     "data": {
      "text/plain": [
       "<function matplotlib.pyplot.show(close=None, block=None)>"
      ]
     },
     "execution_count": 58,
     "metadata": {},
     "output_type": "execute_result"
    },
    {
     "data": {
      "image/png": "[encoded data removed]",
      "text/plain": [
       "<Figure size 864x288 with 1 Axes>"
      ]
     },
     "metadata": {
      "needs_background": "light"
     },
     "output_type": "display_data"
    }
   ],
   "source": [
    "plt.figure(figsize=(12,4))\n",
    "sns.countplot('response', hue='sales_channel', data=df2) # data don't work\n",
    "plt.ylabel('Response by Sales Channel')\n",
    "plt.show"
   ]
  },
  {
   "cell_type": "markdown",
   "id": "4e7d83a2",
   "metadata": {},
   "source": [
    "### show the percentage distribution"
   ]
  },
  {
   "cell_type": "code",
   "execution_count": 59,
   "id": "a24aee47",
   "metadata": {},
   "outputs": [
    {
     "data": {
      "text/plain": [
       "No         81.0\n",
       "Yes        13.0\n",
       "Unknown     6.0\n",
       "Name: response, dtype: float64"
      ]
     },
     "metadata": {},
     "output_type": "display_data"
    },
    {
     "data": {
      "text/plain": [
       "0"
      ]
     },
     "metadata": {},
     "output_type": "display_data"
    },
    {
     "name": "stdout",
     "output_type": "stream",
     "text": [
      "-----------------------\n"
     ]
    },
    {
     "data": {
      "text/plain": [
       "No         8813\n",
       "Yes        1466\n",
       "Unknown     631\n",
       "Name: response, dtype: int64"
      ]
     },
     "metadata": {},
     "output_type": "display_data"
    },
    {
     "name": "stdout",
     "output_type": "stream",
     "text": [
      "-----------------------\n"
     ]
    },
    {
     "data": {
      "text/plain": [
       "10910"
      ]
     },
     "metadata": {},
     "output_type": "display_data"
    }
   ],
   "source": [
    "response_rate = data.response.value_counts()/len(data['response'])\n",
    "display(round(response_rate*100),0)\n",
    "print(\"-----------------------\")\n",
    "display(data.response.value_counts())\n",
    "print(\"-----------------------\")\n",
    "display(len(data['response']))"
   ]
  },
  {
   "cell_type": "markdown",
   "id": "fa99d79c",
   "metadata": {},
   "source": [
    "### insert a column 'response_rate' (with np.where) where response equels Yes (=1)...(No and Unknown = 0)"
   ]
  },
  {
   "cell_type": "code",
   "execution_count": 60,
   "id": "9dd81388",
   "metadata": {},
   "outputs": [
    {
     "data": {
      "text/plain": [
       "0        0\n",
       "1        0\n",
       "2        0\n",
       "3        1\n",
       "4        0\n",
       "        ..\n",
       "10905    0\n",
       "10906    0\n",
       "10907    0\n",
       "10908    0\n",
       "10909    0\n",
       "Name: response_rate, Length: 10910, dtype: int32"
      ]
     },
     "execution_count": 60,
     "metadata": {},
     "output_type": "execute_result"
    }
   ],
   "source": [
    "data['response_rate'] = np.where(data['response']=='Yes', 1, 0)\n",
    "data['response_rate']"
   ]
  },
  {
   "cell_type": "markdown",
   "id": "d4a1148a",
   "metadata": {},
   "source": [
    "### insert a column 'response_rate2' (with lambda) where response equels Yes (=1)...(No and Unknown = 0)"
   ]
  },
  {
   "cell_type": "code",
   "execution_count": 61,
   "id": "50a6479a",
   "metadata": {},
   "outputs": [],
   "source": [
    "data['response_rate2'] = data['response'].apply(lambda x : 1 if x == 'Yes' else 0)"
   ]
  },
  {
   "cell_type": "code",
   "execution_count": 62,
   "id": "049cf330",
   "metadata": {},
   "outputs": [
    {
     "data": {
      "text/html": [
       "<div>\n",
       "<style scoped>\n",
       "    .dataframe tbody tr th:only-of-type {\n",
       "        vertical-align: middle;\n",
       "    }\n",
       "\n",
       "    .dataframe tbody tr th {\n",
       "        vertical-align: top;\n",
       "    }\n",
       "\n",
       "    .dataframe thead th {\n",
       "        text-align: right;\n",
       "    }\n",
       "</style>\n",
       "<table border=\"1\" class=\"dataframe\">\n",
       "  <thead>\n",
       "    <tr style=\"text-align: right;\">\n",
       "      <th></th>\n",
       "      <th>customer</th>\n",
       "      <th>state</th>\n",
       "      <th>customer_lifetime_value</th>\n",
       "      <th>response</th>\n",
       "      <th>coverage</th>\n",
       "      <th>education</th>\n",
       "      <th>effective_to_date</th>\n",
       "      <th>employmentstatus</th>\n",
       "      <th>gender</th>\n",
       "      <th>income</th>\n",
       "      <th>...</th>\n",
       "      <th>policy</th>\n",
       "      <th>renew_offer_type</th>\n",
       "      <th>sales_channel</th>\n",
       "      <th>total_claim_amount</th>\n",
       "      <th>vehicle_class</th>\n",
       "      <th>vehicle_size</th>\n",
       "      <th>vehicle_type</th>\n",
       "      <th>month</th>\n",
       "      <th>response_rate</th>\n",
       "      <th>response_rate2</th>\n",
       "    </tr>\n",
       "  </thead>\n",
       "  <tbody>\n",
       "    <tr>\n",
       "      <th>0</th>\n",
       "      <td>DK49336</td>\n",
       "      <td>Arizona</td>\n",
       "      <td>4809.216960</td>\n",
       "      <td>No</td>\n",
       "      <td>Basic</td>\n",
       "      <td>College</td>\n",
       "      <td>2/18/11</td>\n",
       "      <td>Employed</td>\n",
       "      <td>M</td>\n",
       "      <td>48029</td>\n",
       "      <td>...</td>\n",
       "      <td>Corporate L3</td>\n",
       "      <td>Offer3</td>\n",
       "      <td>Agent</td>\n",
       "      <td>292.800000</td>\n",
       "      <td>Four-Door Car</td>\n",
       "      <td>Medsize</td>\n",
       "      <td>M</td>\n",
       "      <td>2</td>\n",
       "      <td>0</td>\n",
       "      <td>0</td>\n",
       "    </tr>\n",
       "    <tr>\n",
       "      <th>1</th>\n",
       "      <td>KX64629</td>\n",
       "      <td>California</td>\n",
       "      <td>2228.525238</td>\n",
       "      <td>No</td>\n",
       "      <td>Basic</td>\n",
       "      <td>College</td>\n",
       "      <td>1/18/11</td>\n",
       "      <td>Unemployed</td>\n",
       "      <td>F</td>\n",
       "      <td>0</td>\n",
       "      <td>...</td>\n",
       "      <td>Personal L3</td>\n",
       "      <td>Offer4</td>\n",
       "      <td>Call Center</td>\n",
       "      <td>744.924331</td>\n",
       "      <td>Four-Door Car</td>\n",
       "      <td>Medsize</td>\n",
       "      <td>M</td>\n",
       "      <td>1</td>\n",
       "      <td>0</td>\n",
       "      <td>0</td>\n",
       "    </tr>\n",
       "    <tr>\n",
       "      <th>2</th>\n",
       "      <td>LZ68649</td>\n",
       "      <td>Washington</td>\n",
       "      <td>14947.917300</td>\n",
       "      <td>No</td>\n",
       "      <td>Basic</td>\n",
       "      <td>Bachelor</td>\n",
       "      <td>2/10/11</td>\n",
       "      <td>Employed</td>\n",
       "      <td>M</td>\n",
       "      <td>22139</td>\n",
       "      <td>...</td>\n",
       "      <td>Personal L3</td>\n",
       "      <td>Offer3</td>\n",
       "      <td>Call Center</td>\n",
       "      <td>480.000000</td>\n",
       "      <td>SUV</td>\n",
       "      <td>Medsize</td>\n",
       "      <td>A</td>\n",
       "      <td>2</td>\n",
       "      <td>0</td>\n",
       "      <td>0</td>\n",
       "    </tr>\n",
       "  </tbody>\n",
       "</table>\n",
       "<p>3 rows × 28 columns</p>\n",
       "</div>"
      ],
      "text/plain": [
       "  customer       state  customer_lifetime_value response coverage education  \\\n",
       "0  DK49336     Arizona              4809.216960       No    Basic   College   \n",
       "1  KX64629  California              2228.525238       No    Basic   College   \n",
       "2  LZ68649  Washington             14947.917300       No    Basic  Bachelor   \n",
       "\n",
       "  effective_to_date employmentstatus gender  income  ...        policy  \\\n",
       "0           2/18/11         Employed      M   48029  ...  Corporate L3   \n",
       "1           1/18/11       Unemployed      F       0  ...   Personal L3   \n",
       "2           2/10/11         Employed      M   22139  ...   Personal L3   \n",
       "\n",
       "  renew_offer_type  sales_channel  total_claim_amount  vehicle_class  \\\n",
       "0           Offer3          Agent          292.800000  Four-Door Car   \n",
       "1           Offer4    Call Center          744.924331  Four-Door Car   \n",
       "2           Offer3    Call Center          480.000000            SUV   \n",
       "\n",
       "   vehicle_size  vehicle_type month response_rate response_rate2  \n",
       "0       Medsize             M     2             0              0  \n",
       "1       Medsize             M     1             0              0  \n",
       "2       Medsize             A     2             0              0  \n",
       "\n",
       "[3 rows x 28 columns]"
      ]
     },
     "execution_count": 62,
     "metadata": {},
     "output_type": "execute_result"
    }
   ],
   "source": [
    "data.head(3)"
   ]
  },
  {
   "cell_type": "markdown",
   "id": "7953bb2f",
   "metadata": {},
   "source": [
    "### Show a plot of the response rate by the sales channel."
   ]
  },
  {
   "cell_type": "code",
   "execution_count": 63,
   "id": "779e2893",
   "metadata": {},
   "outputs": [
    {
     "data": {
      "text/plain": [
       "<AxesSubplot:xlabel='sales_channel', ylabel='response_rate'>"
      ]
     },
     "execution_count": 63,
     "metadata": {},
     "output_type": "execute_result"
    },
    {
     "data": {
      "image/png": "[encoded data removed]",
      "text/plain": [
       "<Figure size 288x288 with 1 Axes>"
      ]
     },
     "metadata": {
      "needs_background": "light"
     },
     "output_type": "display_data"
    }
   ],
   "source": [
    "plt.figure(figsize=(4,4))\n",
    "sns.barplot(x=\"sales_channel\", y=\"response_rate\", data=data)"
   ]
  },
  {
   "cell_type": "markdown",
   "id": "06275702",
   "metadata": {},
   "source": [
    "### Show a plot of the response rate by the sales channel. (response_rate2)"
   ]
  },
  {
   "cell_type": "code",
   "execution_count": 64,
   "id": "7536be9d",
   "metadata": {},
   "outputs": [
    {
     "data": {
      "text/plain": [
       "<AxesSubplot:xlabel='sales_channel', ylabel='response_rate2'>"
      ]
     },
     "execution_count": 64,
     "metadata": {},
     "output_type": "execute_result"
    },
    {
     "data": {
      "image/png": "[encoded data removed]",
      "text/plain": [
       "<Figure size 432x288 with 1 Axes>"
      ]
     },
     "metadata": {
      "needs_background": "light"
     },
     "output_type": "display_data"
    }
   ],
   "source": [
    "sns.barplot(x=\"sales_channel\", y=\"response_rate2\", data=data)\n"
   ]
  },
  {
   "cell_type": "markdown",
   "id": "8145ed13",
   "metadata": {},
   "source": [
    "### Show a plot of the response rate by the total claim amount. \n",
    "total claim amount = Gesamtforderungsbetrag"
   ]
  },
  {
   "cell_type": "code",
   "execution_count": 65,
   "id": "bb8420e1",
   "metadata": {},
   "outputs": [
    {
     "name": "stdout",
     "output_type": "stream",
     "text": [
      "CPU times: total: 0 ns\n",
      "Wall time: 0 ns\n"
     ]
    }
   ],
   "source": [
    "%%time \n",
    "#sns.barplot(x=\"total_claim_amount\", y=\"response_rate\", data=data)"
   ]
  },
  {
   "cell_type": "markdown",
   "id": "8bb228cf",
   "metadata": {},
   "source": [
    "not very useful...runs very long!"
   ]
  },
  {
   "cell_type": "markdown",
   "id": "5a0ea8ec",
   "metadata": {},
   "source": [
    "##### sort 'total_claim_amount' by quantiles to reduce number of bars (qcut to 8 bins)--> new column 'quantil_claim_amount'"
   ]
  },
  {
   "cell_type": "code",
   "execution_count": 66,
   "id": "1ba269e4",
   "metadata": {},
   "outputs": [
    {
     "data": {
      "image/png": "[encoded data removed]",
      "text/plain": [
       "<Figure size 576x576 with 1 Axes>"
      ]
     },
     "metadata": {
      "needs_background": "light"
     },
     "output_type": "display_data"
    }
   ],
   "source": [
    "plt.figure(figsize=(8,8))\n",
    "data['quantil_claim_amount'] = pd.qcut(data['total_claim_amount'], 8, labels=False, duplicates ='drop')\n",
    "sns.barplot(data=data, x='quantil_claim_amount', y='response_rate', estimator= np.mean, ci=None)\n",
    "plt.show()"
   ]
  },
  {
   "cell_type": "code",
   "execution_count": 67,
   "id": "9637d962",
   "metadata": {},
   "outputs": [
    {
     "data": {
      "image/png": "[encoded data removed]",
      "text/plain": [
       "<Figure size 432x288 with 1 Axes>"
      ]
     },
     "metadata": {
      "needs_background": "light"
     },
     "output_type": "display_data"
    }
   ],
   "source": [
    "data['total_claim_amount'].hist(bins=200)\n",
    "plt.xlabel('total_claim_amount')\n",
    "plt.ylabel('response_rate')\n",
    "plt.show()"
   ]
  },
  {
   "cell_type": "markdown",
   "id": "a339dccf",
   "metadata": {},
   "source": [
    "### show statistics about total_claim_amount"
   ]
  },
  {
   "cell_type": "code",
   "execution_count": 68,
   "id": "3edb664a",
   "metadata": {},
   "outputs": [
    {
     "data": {
      "text/plain": [
       "count    10910.000000\n",
       "mean       434.888330\n",
       "std        292.180556\n",
       "min          0.099007\n",
       "25%        271.082527\n",
       "50%        382.564630\n",
       "75%        547.200000\n",
       "max       2893.239678\n",
       "Name: total_claim_amount, dtype: float64"
      ]
     },
     "execution_count": 68,
     "metadata": {},
     "output_type": "execute_result"
    }
   ],
   "source": [
    "data['total_claim_amount'].describe()"
   ]
  },
  {
   "cell_type": "markdown",
   "id": "b9bfcf33",
   "metadata": {},
   "source": [
    "### Show a plot of the response rate by income."
   ]
  },
  {
   "cell_type": "code",
   "execution_count": 69,
   "id": "41823f2c",
   "metadata": {},
   "outputs": [
    {
     "data": {
      "image/png": "[encoded data removed]",
      "text/plain": [
       "<Figure size 432x288 with 1 Axes>"
      ]
     },
     "metadata": {
      "needs_background": "light"
     },
     "output_type": "display_data"
    }
   ],
   "source": [
    "data['income'].hist(bins=100)\n",
    "plt.xlabel('income')\n",
    "plt.ylabel('response_rate')\n",
    "plt.show()"
   ]
  },
  {
   "cell_type": "markdown",
   "id": "13ef3d4e",
   "metadata": {},
   "source": [
    "##### sort 'income' by quantiles to reduce number of bars--> new column 'quantil_income'"
   ]
  },
  {
   "cell_type": "code",
   "execution_count": 70,
   "id": "1694ca2e",
   "metadata": {},
   "outputs": [
    {
     "data": {
      "image/png": "[encoded data removed]",
      "text/plain": [
       "<Figure size 576x576 with 1 Axes>"
      ]
     },
     "metadata": {
      "needs_background": "light"
     },
     "output_type": "display_data"
    }
   ],
   "source": [
    "plt.figure(figsize=(8,8))\n",
    "data['quantil_income'] = pd.qcut(data['income'], 10, labels=False, duplicates ='drop')\n",
    "sns.barplot(data=data, x='quantil_income', y='response_rate', estimator= np.mean, ci=None)\n",
    "plt.show()"
   ]
  },
  {
   "cell_type": "markdown",
   "id": "2090cd80",
   "metadata": {},
   "source": [
    "# Lab | Customer Analysis Round 4"
   ]
  },
  {
   "cell_type": "markdown",
   "id": "06d6cc0d",
   "metadata": {},
   "source": [
    "#### Check the data types of the columns."
   ]
  },
  {
   "cell_type": "code",
   "execution_count": 71,
   "id": "39b229c6",
   "metadata": {},
   "outputs": [
    {
     "data": {
      "text/plain": [
       "customer                          object\n",
       "state                             object\n",
       "customer_lifetime_value          float64\n",
       "response                          object\n",
       "coverage                          object\n",
       "education                         object\n",
       "effective_to_date                 object\n",
       "employmentstatus                  object\n",
       "gender                            object\n",
       "income                             int64\n",
       "location_code                     object\n",
       "marital_status                    object\n",
       "monthly_premium_auto               int64\n",
       "months_since_last_claim          float64\n",
       "months_since_policy_inception      int64\n",
       "number_of_open_complaints        float64\n",
       "number_of_policies                 int64\n",
       "policy_type                       object\n",
       "policy                            object\n",
       "renew_offer_type                  object\n",
       "sales_channel                     object\n",
       "total_claim_amount               float64\n",
       "vehicle_class                     object\n",
       "vehicle_size                      object\n",
       "vehicle_type                      object\n",
       "month                              int64\n",
       "response_rate                      int32\n",
       "response_rate2                     int64\n",
       "quantil_claim_amount               int64\n",
       "quantil_income                     int64\n",
       "dtype: object"
      ]
     },
     "execution_count": 71,
     "metadata": {},
     "output_type": "execute_result"
    }
   ],
   "source": [
    "data.dtypes"
   ]
  },
  {
   "cell_type": "markdown",
   "id": "720ab964",
   "metadata": {},
   "source": [
    "#### Get the numeric data into dataframe called numerical"
   ]
  },
  {
   "cell_type": "code",
   "execution_count": 72,
   "id": "9c8654a5",
   "metadata": {},
   "outputs": [
    {
     "data": {
      "text/plain": [
       "['customer_lifetime_value',\n",
       " 'income',\n",
       " 'monthly_premium_auto',\n",
       " 'months_since_last_claim',\n",
       " 'months_since_policy_inception',\n",
       " 'number_of_open_complaints',\n",
       " 'number_of_policies',\n",
       " 'total_claim_amount',\n",
       " 'month',\n",
       " 'response_rate',\n",
       " 'response_rate2',\n",
       " 'quantil_claim_amount',\n",
       " 'quantil_income']"
      ]
     },
     "execution_count": 72,
     "metadata": {},
     "output_type": "execute_result"
    }
   ],
   "source": [
    "numerical = data.select_dtypes(include=['float', 'int']).columns.tolist()\n",
    "numerical"
   ]
  },
  {
   "cell_type": "markdown",
   "id": "4eea19f8",
   "metadata": {},
   "source": [
    "#### Get the categorical columns in a dataframe called categoricals"
   ]
  },
  {
   "cell_type": "code",
   "execution_count": 73,
   "id": "ff70b21b",
   "metadata": {},
   "outputs": [
    {
     "data": {
      "text/plain": [
       "['customer',\n",
       " 'state',\n",
       " 'response',\n",
       " 'coverage',\n",
       " 'education',\n",
       " 'effective_to_date',\n",
       " 'employmentstatus',\n",
       " 'gender',\n",
       " 'location_code',\n",
       " 'marital_status',\n",
       " 'policy_type',\n",
       " 'policy',\n",
       " 'renew_offer_type',\n",
       " 'sales_channel',\n",
       " 'vehicle_class',\n",
       " 'vehicle_size',\n",
       " 'vehicle_type']"
      ]
     },
     "execution_count": 73,
     "metadata": {},
     "output_type": "execute_result"
    }
   ],
   "source": [
    "categoricals = data.select_dtypes(include=['object']).columns.tolist()\n",
    "categoricals"
   ]
  },
  {
   "cell_type": "markdown",
   "id": "6235ff2a",
   "metadata": {},
   "source": [
    "## matplotlib (plt) and seaborn (sns)"
   ]
  },
  {
   "cell_type": "markdown",
   "id": "adb15dca",
   "metadata": {},
   "source": [
    "Now we will try to check the normality of the numerical variables visually\n",
    "Use seaborn library to construct distribution plots (Verteilungsdiagramme) for the numerical variables\n",
    "Use Matplotlib to construct histograms"
   ]
  },
  {
   "cell_type": "code",
   "execution_count": 74,
   "id": "b3612a11",
   "metadata": {},
   "outputs": [],
   "source": [
    "import matplotlib.pyplot as plt\n",
    "import seaborn as sns\n",
    "%matplotlib inline"
   ]
  },
  {
   "cell_type": "markdown",
   "id": "51a68b2d",
   "metadata": {},
   "source": [
    "### show a plot of total number of responses"
   ]
  },
  {
   "cell_type": "code",
   "execution_count": 75,
   "id": "c9c324f7",
   "metadata": {},
   "outputs": [
    {
     "data": {
      "image/png": "[encoded data removed]",
      "text/plain": [
       "<Figure size 288x288 with 1 Axes>"
      ]
     },
     "metadata": {
      "needs_background": "light"
     },
     "output_type": "display_data"
    }
   ],
   "source": [
    "plt.figure(figsize=(4,4))\n",
    "sns.countplot(x='response_rate', data=data)\n",
    "plt.ylabel('Total number of responses')\n",
    "# sns.set(rc={'figure.figsize':(200,200)}) # resize tables dont't work!!!\n",
    "plt.show()"
   ]
  },
  {
   "cell_type": "code",
   "execution_count": 76,
   "id": "b23bd33f",
   "metadata": {},
   "outputs": [
    {
     "data": {
      "image/png": "[encoded data removed]",
      "text/plain": [
       "<Figure size 360x360 with 1 Axes>"
      ]
     },
     "metadata": {
      "needs_background": "light"
     },
     "output_type": "display_data"
    },
    {
     "data": {
      "image/png": "[encoded data removed]",
      "text/plain": [
       "<Figure size 432x288 with 1 Axes>"
      ]
     },
     "metadata": {
      "needs_background": "light"
     },
     "output_type": "display_data"
    },
    {
     "data": {
      "text/plain": [
       "<Figure size 864x288 with 0 Axes>"
      ]
     },
     "metadata": {},
     "output_type": "display_data"
    }
   ],
   "source": [
    "sns.displot(data['customer_lifetime_value'],  kde=True)\n",
    "plt.show()\n",
    "\n",
    "data['customer_lifetime_value'].hist(bins=100)\n",
    "plt.figure(figsize=(12,4))\n",
    "plt.show()\n",
    "\n",
    "# don`t look like normal distribution"
   ]
  },
  {
   "cell_type": "code",
   "execution_count": 77,
   "id": "912e83dc",
   "metadata": {},
   "outputs": [
    {
     "data": {
      "image/png": "[encoded data removed]",
      "text/plain": [
       "<Figure size 360x360 with 1 Axes>"
      ]
     },
     "metadata": {
      "needs_background": "light"
     },
     "output_type": "display_data"
    },
    {
     "data": {
      "image/png": "[encoded data removed]",
      "text/plain": [
       "<Figure size 432x288 with 1 Axes>"
      ]
     },
     "metadata": {
      "needs_background": "light"
     },
     "output_type": "display_data"
    },
    {
     "data": {
      "text/plain": [
       "<Figure size 288x288 with 0 Axes>"
      ]
     },
     "metadata": {},
     "output_type": "display_data"
    }
   ],
   "source": [
    "sns.displot(data['income'],  kde=True)\n",
    "plt.show()\n",
    "\n",
    "data['income'].hist(bins=50)\n",
    "plt.figure(figsize=(4,4))\n",
    "plt.show()\n",
    "\n",
    "# don`t look like normal distribution"
   ]
  },
  {
   "cell_type": "code",
   "execution_count": 78,
   "id": "072bbda3",
   "metadata": {},
   "outputs": [
    {
     "data": {
      "image/png": "[encoded data removed]",
      "text/plain": [
       "<Figure size 360x360 with 1 Axes>"
      ]
     },
     "metadata": {
      "needs_background": "light"
     },
     "output_type": "display_data"
    },
    {
     "data": {
      "image/png": "[encoded data removed]",
      "text/plain": [
       "<Figure size 432x288 with 1 Axes>"
      ]
     },
     "metadata": {
      "needs_background": "light"
     },
     "output_type": "display_data"
    },
    {
     "data": {
      "text/plain": [
       "<Figure size 288x288 with 0 Axes>"
      ]
     },
     "metadata": {},
     "output_type": "display_data"
    }
   ],
   "source": [
    "sns.displot(data['monthly_premium_auto'], kde=True)\n",
    "plt.show()\n",
    "\n",
    "data['monthly_premium_auto'].hist(bins=50)\n",
    "plt.figure(figsize=(4,4))\n",
    "plt.show()\n",
    "\n",
    "# don`t look like normal distribution"
   ]
  },
  {
   "cell_type": "code",
   "execution_count": 79,
   "id": "6cf3c93c",
   "metadata": {},
   "outputs": [
    {
     "data": {
      "image/png": "[encoded data removed]",
      "text/plain": [
       "<Figure size 360x360 with 1 Axes>"
      ]
     },
     "metadata": {
      "needs_background": "light"
     },
     "output_type": "display_data"
    },
    {
     "data": {
      "image/png": "[encoded data removed]",
      "text/plain": [
       "<Figure size 432x288 with 1 Axes>"
      ]
     },
     "metadata": {
      "needs_background": "light"
     },
     "output_type": "display_data"
    },
    {
     "data": {
      "text/plain": [
       "<Figure size 288x288 with 0 Axes>"
      ]
     },
     "metadata": {},
     "output_type": "display_data"
    }
   ],
   "source": [
    "sns.displot(data=data, x=\"months_since_last_claim\", kde=True)\n",
    "plt.show()\n",
    "\n",
    "data['months_since_last_claim'].hist(bins=50)\n",
    "plt.figure(figsize=(4,4))\n",
    "plt.show()\n",
    "\n",
    "# don`t look like normal distribution"
   ]
  },
  {
   "cell_type": "code",
   "execution_count": null,
   "id": "dc21cf20",
   "metadata": {},
   "outputs": [],
   "source": []
  },
  {
   "cell_type": "code",
   "execution_count": 80,
   "id": "2fe76dc6",
   "metadata": {},
   "outputs": [
    {
     "data": {
      "image/png": "[encoded data removed]",
      "text/plain": [
       "<Figure size 360x360 with 1 Axes>"
      ]
     },
     "metadata": {
      "needs_background": "light"
     },
     "output_type": "display_data"
    },
    {
     "data": {
      "image/png": "[encoded data removed]",
      "text/plain": [
       "<Figure size 432x288 with 1 Axes>"
      ]
     },
     "metadata": {
      "needs_background": "light"
     },
     "output_type": "display_data"
    },
    {
     "data": {
      "text/plain": [
       "<Figure size 288x288 with 0 Axes>"
      ]
     },
     "metadata": {},
     "output_type": "display_data"
    }
   ],
   "source": [
    "sns.displot(data=data, x=\"months_since_policy_inception\", kde=True)\n",
    "plt.show()\n",
    "\n",
    "data['months_since_policy_inception'].hist(bins=100)\n",
    "plt.figure(figsize=(4,4))\n",
    "plt.show()\n",
    "\n",
    "# don`t look like normal distribution"
   ]
  },
  {
   "cell_type": "code",
   "execution_count": 81,
   "id": "bca9ecfc",
   "metadata": {},
   "outputs": [
    {
     "data": {
      "image/png": "[encoded data removed]",
      "text/plain": [
       "<Figure size 360x360 with 1 Axes>"
      ]
     },
     "metadata": {
      "needs_background": "light"
     },
     "output_type": "display_data"
    },
    {
     "data": {
      "image/png": "[encoded data removed]",
      "text/plain": [
       "<Figure size 432x288 with 1 Axes>"
      ]
     },
     "metadata": {
      "needs_background": "light"
     },
     "output_type": "display_data"
    },
    {
     "data": {
      "text/plain": [
       "<Figure size 288x288 with 0 Axes>"
      ]
     },
     "metadata": {},
     "output_type": "display_data"
    }
   ],
   "source": [
    "sns.displot(data=data, x=\"number_of_open_complaints\", kde=True)\n",
    "plt.show()\n",
    "\n",
    "data['number_of_open_complaints'].hist(bins=6)\n",
    "plt.figure(figsize=(4,4))\n",
    "plt.show()\n",
    "\n",
    "# don`t look like normal distribution"
   ]
  },
  {
   "cell_type": "code",
   "execution_count": 82,
   "id": "a51abf94",
   "metadata": {},
   "outputs": [
    {
     "data": {
      "image/png": "[encoded data removed]",
      "text/plain": [
       "<Figure size 360x360 with 1 Axes>"
      ]
     },
     "metadata": {
      "needs_background": "light"
     },
     "output_type": "display_data"
    },
    {
     "data": {
      "image/png": "[encoded data removed]",
      "text/plain": [
       "<Figure size 432x288 with 1 Axes>"
      ]
     },
     "metadata": {
      "needs_background": "light"
     },
     "output_type": "display_data"
    },
    {
     "data": {
      "text/plain": [
       "<Figure size 288x288 with 0 Axes>"
      ]
     },
     "metadata": {},
     "output_type": "display_data"
    }
   ],
   "source": [
    "sns.displot(data=data, x=\"number_of_policies\", kde=True)\n",
    "plt.show()\n",
    "\n",
    "data['number_of_policies'].hist(bins=18)\n",
    "plt.figure(figsize=(4,4))\n",
    "plt.show()\n",
    "\n",
    "# don`t look like normal distribution"
   ]
  },
  {
   "cell_type": "code",
   "execution_count": 83,
   "id": "d115a579",
   "metadata": {},
   "outputs": [
    {
     "data": {
      "image/png": "[encoded data removed]",
      "text/plain": [
       "<Figure size 360x360 with 1 Axes>"
      ]
     },
     "metadata": {
      "needs_background": "light"
     },
     "output_type": "display_data"
    },
    {
     "data": {
      "image/png": "[encoded data removed]",
      "text/plain": [
       "<Figure size 432x288 with 1 Axes>"
      ]
     },
     "metadata": {
      "needs_background": "light"
     },
     "output_type": "display_data"
    },
    {
     "data": {
      "text/plain": [
       "<Figure size 288x288 with 0 Axes>"
      ]
     },
     "metadata": {},
     "output_type": "display_data"
    }
   ],
   "source": [
    "sns.displot(data=data, x=\"total_claim_amount\", kde=True)\n",
    "plt.show()\n",
    "\n",
    "data['total_claim_amount'].hist(bins=100)\n",
    "plt.figure(figsize=(4,4))\n",
    "plt.show()\n",
    "\n",
    "# don`t look like normal distribution"
   ]
  },
  {
   "cell_type": "code",
   "execution_count": 84,
   "id": "8d16a52c",
   "metadata": {},
   "outputs": [
    {
     "data": {
      "image/png": "[encoded data removed]",
      "text/plain": [
       "<Figure size 360x360 with 1 Axes>"
      ]
     },
     "metadata": {
      "needs_background": "light"
     },
     "output_type": "display_data"
    },
    {
     "data": {
      "image/png": "[encoded data removed]",
      "text/plain": [
       "<Figure size 432x288 with 1 Axes>"
      ]
     },
     "metadata": {
      "needs_background": "light"
     },
     "output_type": "display_data"
    },
    {
     "data": {
      "text/plain": [
       "<Figure size 288x288 with 0 Axes>"
      ]
     },
     "metadata": {},
     "output_type": "display_data"
    }
   ],
   "source": [
    "sns.displot(data=data, x=\"month\", kde=True)\n",
    "plt.show()\n",
    "\n",
    "data['month'].hist(bins=100)\n",
    "plt.figure(figsize=(4,4))\n",
    "plt.show()\n",
    "\n",
    "# don`t look like normal distribution"
   ]
  },
  {
   "cell_type": "markdown",
   "id": "4e01528b",
   "metadata": {},
   "source": [
    "##### Do the distributions for different numerical variables look like a normal distribution --> see above"
   ]
  },
  {
   "cell_type": "markdown",
   "id": "d113fce4",
   "metadata": {},
   "source": [
    "### For the numerical variables, check the multicollinearity between the features. "
   ]
  },
  {
   "cell_type": "markdown",
   "id": "1ba84931",
   "metadata": {},
   "source": [
    "Multikollinearität (engl. Multicollinearity) liegt vor, wenn mehrere Prädiktoren in einer Regressionsanalyse stark \n",
    "miteinander korrelieren. Man betrachtet bei der Multikollinearität also nicht die Korrelation der Prädiktoren \n",
    "mit dem Kriterium , sondern die Korrelationen der verschiedenen Prädiktoren untereinander."
   ]
  },
  {
   "cell_type": "code",
   "execution_count": 85,
   "id": "ee81be44",
   "metadata": {},
   "outputs": [],
   "source": [
    "numerical = data.select_dtypes(include='number')\n",
    "categorical = data.select_dtypes(include='object')"
   ]
  },
  {
   "cell_type": "markdown",
   "id": "3852f276",
   "metadata": {},
   "source": [
    "### correlation matrix"
   ]
  },
  {
   "cell_type": "code",
   "execution_count": 86,
   "id": "213f764f",
   "metadata": {},
   "outputs": [
    {
     "data": {
      "text/html": [
       "<div>\n",
       "<style scoped>\n",
       "    .dataframe tbody tr th:only-of-type {\n",
       "        vertical-align: middle;\n",
       "    }\n",
       "\n",
       "    .dataframe tbody tr th {\n",
       "        vertical-align: top;\n",
       "    }\n",
       "\n",
       "    .dataframe thead th {\n",
       "        text-align: right;\n",
       "    }\n",
       "</style>\n",
       "<table border=\"1\" class=\"dataframe\">\n",
       "  <thead>\n",
       "    <tr style=\"text-align: right;\">\n",
       "      <th></th>\n",
       "      <th>customer_lifetime_value</th>\n",
       "      <th>income</th>\n",
       "      <th>monthly_premium_auto</th>\n",
       "      <th>months_since_last_claim</th>\n",
       "      <th>months_since_policy_inception</th>\n",
       "      <th>number_of_open_complaints</th>\n",
       "      <th>number_of_policies</th>\n",
       "      <th>total_claim_amount</th>\n",
       "      <th>month</th>\n",
       "      <th>response_rate</th>\n",
       "      <th>response_rate2</th>\n",
       "      <th>quantil_claim_amount</th>\n",
       "      <th>quantil_income</th>\n",
       "    </tr>\n",
       "  </thead>\n",
       "  <tbody>\n",
       "    <tr>\n",
       "      <th>customer_lifetime_value</th>\n",
       "      <td>1.000000</td>\n",
       "      <td>0.028306</td>\n",
       "      <td>0.403069</td>\n",
       "      <td>0.015874</td>\n",
       "      <td>0.016960</td>\n",
       "      <td>-0.030616</td>\n",
       "      <td>0.016024</td>\n",
       "      <td>0.232626</td>\n",
       "      <td>-0.009234</td>\n",
       "      <td>-0.007765</td>\n",
       "      <td>-0.007765</td>\n",
       "      <td>0.187990</td>\n",
       "      <td>0.028158</td>\n",
       "    </tr>\n",
       "    <tr>\n",
       "      <th>income</th>\n",
       "      <td>0.028306</td>\n",
       "      <td>1.000000</td>\n",
       "      <td>-0.009788</td>\n",
       "      <td>-0.022708</td>\n",
       "      <td>-0.005903</td>\n",
       "      <td>0.008425</td>\n",
       "      <td>-0.009960</td>\n",
       "      <td>-0.354141</td>\n",
       "      <td>-0.000443</td>\n",
       "      <td>0.011156</td>\n",
       "      <td>0.011156</td>\n",
       "      <td>-0.386805</td>\n",
       "      <td>0.987544</td>\n",
       "    </tr>\n",
       "    <tr>\n",
       "      <th>monthly_premium_auto</th>\n",
       "      <td>0.403069</td>\n",
       "      <td>-0.009788</td>\n",
       "      <td>1.000000</td>\n",
       "      <td>0.008489</td>\n",
       "      <td>0.018953</td>\n",
       "      <td>-0.010059</td>\n",
       "      <td>-0.020505</td>\n",
       "      <td>0.631799</td>\n",
       "      <td>0.007253</td>\n",
       "      <td>0.013918</td>\n",
       "      <td>0.013918</td>\n",
       "      <td>0.497486</td>\n",
       "      <td>-0.007099</td>\n",
       "    </tr>\n",
       "    <tr>\n",
       "      <th>months_since_last_claim</th>\n",
       "      <td>0.015874</td>\n",
       "      <td>-0.022708</td>\n",
       "      <td>0.008489</td>\n",
       "      <td>1.000000</td>\n",
       "      <td>-0.038157</td>\n",
       "      <td>0.005004</td>\n",
       "      <td>0.006807</td>\n",
       "      <td>0.012340</td>\n",
       "      <td>-0.019666</td>\n",
       "      <td>-0.015016</td>\n",
       "      <td>-0.015016</td>\n",
       "      <td>0.002522</td>\n",
       "      <td>-0.022115</td>\n",
       "    </tr>\n",
       "    <tr>\n",
       "      <th>months_since_policy_inception</th>\n",
       "      <td>0.016960</td>\n",
       "      <td>-0.005903</td>\n",
       "      <td>0.018953</td>\n",
       "      <td>-0.038157</td>\n",
       "      <td>1.000000</td>\n",
       "      <td>0.004165</td>\n",
       "      <td>-0.009123</td>\n",
       "      <td>0.003095</td>\n",
       "      <td>0.015163</td>\n",
       "      <td>-0.004875</td>\n",
       "      <td>-0.004875</td>\n",
       "      <td>-0.007137</td>\n",
       "      <td>-0.004351</td>\n",
       "    </tr>\n",
       "    <tr>\n",
       "      <th>number_of_open_complaints</th>\n",
       "      <td>-0.030616</td>\n",
       "      <td>0.008425</td>\n",
       "      <td>-0.010059</td>\n",
       "      <td>0.005004</td>\n",
       "      <td>0.004165</td>\n",
       "      <td>1.000000</td>\n",
       "      <td>0.001681</td>\n",
       "      <td>-0.012380</td>\n",
       "      <td>-0.005802</td>\n",
       "      <td>-0.004419</td>\n",
       "      <td>-0.004419</td>\n",
       "      <td>-0.018482</td>\n",
       "      <td>0.011618</td>\n",
       "    </tr>\n",
       "    <tr>\n",
       "      <th>number_of_policies</th>\n",
       "      <td>0.016024</td>\n",
       "      <td>-0.009960</td>\n",
       "      <td>-0.020505</td>\n",
       "      <td>0.006807</td>\n",
       "      <td>-0.009123</td>\n",
       "      <td>0.001681</td>\n",
       "      <td>1.000000</td>\n",
       "      <td>-0.008923</td>\n",
       "      <td>0.005127</td>\n",
       "      <td>-0.018650</td>\n",
       "      <td>-0.018650</td>\n",
       "      <td>-0.013968</td>\n",
       "      <td>-0.010338</td>\n",
       "    </tr>\n",
       "    <tr>\n",
       "      <th>total_claim_amount</th>\n",
       "      <td>0.232626</td>\n",
       "      <td>-0.354141</td>\n",
       "      <td>0.631799</td>\n",
       "      <td>0.012340</td>\n",
       "      <td>0.003095</td>\n",
       "      <td>-0.012380</td>\n",
       "      <td>-0.008923</td>\n",
       "      <td>1.000000</td>\n",
       "      <td>0.001425</td>\n",
       "      <td>0.016416</td>\n",
       "      <td>0.016416</td>\n",
       "      <td>0.874713</td>\n",
       "      <td>-0.345068</td>\n",
       "    </tr>\n",
       "    <tr>\n",
       "      <th>month</th>\n",
       "      <td>-0.009234</td>\n",
       "      <td>-0.000443</td>\n",
       "      <td>0.007253</td>\n",
       "      <td>-0.019666</td>\n",
       "      <td>0.015163</td>\n",
       "      <td>-0.005802</td>\n",
       "      <td>0.005127</td>\n",
       "      <td>0.001425</td>\n",
       "      <td>1.000000</td>\n",
       "      <td>-0.032981</td>\n",
       "      <td>-0.032981</td>\n",
       "      <td>0.002944</td>\n",
       "      <td>-0.004723</td>\n",
       "    </tr>\n",
       "    <tr>\n",
       "      <th>response_rate</th>\n",
       "      <td>-0.007765</td>\n",
       "      <td>0.011156</td>\n",
       "      <td>0.013918</td>\n",
       "      <td>-0.015016</td>\n",
       "      <td>-0.004875</td>\n",
       "      <td>-0.004419</td>\n",
       "      <td>-0.018650</td>\n",
       "      <td>0.016416</td>\n",
       "      <td>-0.032981</td>\n",
       "      <td>1.000000</td>\n",
       "      <td>1.000000</td>\n",
       "      <td>0.048081</td>\n",
       "      <td>0.000542</td>\n",
       "    </tr>\n",
       "    <tr>\n",
       "      <th>response_rate2</th>\n",
       "      <td>-0.007765</td>\n",
       "      <td>0.011156</td>\n",
       "      <td>0.013918</td>\n",
       "      <td>-0.015016</td>\n",
       "      <td>-0.004875</td>\n",
       "      <td>-0.004419</td>\n",
       "      <td>-0.018650</td>\n",
       "      <td>0.016416</td>\n",
       "      <td>-0.032981</td>\n",
       "      <td>1.000000</td>\n",
       "      <td>1.000000</td>\n",
       "      <td>0.048081</td>\n",
       "      <td>0.000542</td>\n",
       "    </tr>\n",
       "    <tr>\n",
       "      <th>quantil_claim_amount</th>\n",
       "      <td>0.187990</td>\n",
       "      <td>-0.386805</td>\n",
       "      <td>0.497486</td>\n",
       "      <td>0.002522</td>\n",
       "      <td>-0.007137</td>\n",
       "      <td>-0.018482</td>\n",
       "      <td>-0.013968</td>\n",
       "      <td>0.874713</td>\n",
       "      <td>0.002944</td>\n",
       "      <td>0.048081</td>\n",
       "      <td>0.048081</td>\n",
       "      <td>1.000000</td>\n",
       "      <td>-0.380183</td>\n",
       "    </tr>\n",
       "    <tr>\n",
       "      <th>quantil_income</th>\n",
       "      <td>0.028158</td>\n",
       "      <td>0.987544</td>\n",
       "      <td>-0.007099</td>\n",
       "      <td>-0.022115</td>\n",
       "      <td>-0.004351</td>\n",
       "      <td>0.011618</td>\n",
       "      <td>-0.010338</td>\n",
       "      <td>-0.345068</td>\n",
       "      <td>-0.004723</td>\n",
       "      <td>0.000542</td>\n",
       "      <td>0.000542</td>\n",
       "      <td>-0.380183</td>\n",
       "      <td>1.000000</td>\n",
       "    </tr>\n",
       "  </tbody>\n",
       "</table>\n",
       "</div>"
      ],
      "text/plain": [
       "                               customer_lifetime_value    income  \\\n",
       "customer_lifetime_value                       1.000000  0.028306   \n",
       "income                                        0.028306  1.000000   \n",
       "monthly_premium_auto                          0.403069 -0.009788   \n",
       "months_since_last_claim                       0.015874 -0.022708   \n",
       "months_since_policy_inception                 0.016960 -0.005903   \n",
       "number_of_open_complaints                    -0.030616  0.008425   \n",
       "number_of_policies                            0.016024 -0.009960   \n",
       "total_claim_amount                            0.232626 -0.354141   \n",
       "month                                        -0.009234 -0.000443   \n",
       "response_rate                                -0.007765  0.011156   \n",
       "response_rate2                               -0.007765  0.011156   \n",
       "quantil_claim_amount                          0.187990 -0.386805   \n",
       "quantil_income                                0.028158  0.987544   \n",
       "\n",
       "                               monthly_premium_auto  months_since_last_claim  \\\n",
       "customer_lifetime_value                    0.403069                 0.015874   \n",
       "income                                    -0.009788                -0.022708   \n",
       "monthly_premium_auto                       1.000000                 0.008489   \n",
       "months_since_last_claim                    0.008489                 1.000000   \n",
       "months_since_policy_inception              0.018953                -0.038157   \n",
       "number_of_open_complaints                 -0.010059                 0.005004   \n",
       "number_of_policies                        -0.020505                 0.006807   \n",
       "total_claim_amount                         0.631799                 0.012340   \n",
       "month                                      0.007253                -0.019666   \n",
       "response_rate                              0.013918                -0.015016   \n",
       "response_rate2                             0.013918                -0.015016   \n",
       "quantil_claim_amount                       0.497486                 0.002522   \n",
       "quantil_income                            -0.007099                -0.022115   \n",
       "\n",
       "                               months_since_policy_inception  \\\n",
       "customer_lifetime_value                             0.016960   \n",
       "income                                             -0.005903   \n",
       "monthly_premium_auto                                0.018953   \n",
       "months_since_last_claim                            -0.038157   \n",
       "months_since_policy_inception                       1.000000   \n",
       "number_of_open_complaints                           0.004165   \n",
       "number_of_policies                                 -0.009123   \n",
       "total_claim_amount                                  0.003095   \n",
       "month                                               0.015163   \n",
       "response_rate                                      -0.004875   \n",
       "response_rate2                                     -0.004875   \n",
       "quantil_claim_amount                               -0.007137   \n",
       "quantil_income                                     -0.004351   \n",
       "\n",
       "                               number_of_open_complaints  number_of_policies  \\\n",
       "customer_lifetime_value                        -0.030616            0.016024   \n",
       "income                                          0.008425           -0.009960   \n",
       "monthly_premium_auto                           -0.010059           -0.020505   \n",
       "months_since_last_claim                         0.005004            0.006807   \n",
       "months_since_policy_inception                   0.004165           -0.009123   \n",
       "number_of_open_complaints                       1.000000            0.001681   \n",
       "number_of_policies                              0.001681            1.000000   \n",
       "total_claim_amount                             -0.012380           -0.008923   \n",
       "month                                          -0.005802            0.005127   \n",
       "response_rate                                  -0.004419           -0.018650   \n",
       "response_rate2                                 -0.004419           -0.018650   \n",
       "quantil_claim_amount                           -0.018482           -0.013968   \n",
       "quantil_income                                  0.011618           -0.010338   \n",
       "\n",
       "                               total_claim_amount     month  response_rate  \\\n",
       "customer_lifetime_value                  0.232626 -0.009234      -0.007765   \n",
       "income                                  -0.354141 -0.000443       0.011156   \n",
       "monthly_premium_auto                     0.631799  0.007253       0.013918   \n",
       "months_since_last_claim                  0.012340 -0.019666      -0.015016   \n",
       "months_since_policy_inception            0.003095  0.015163      -0.004875   \n",
       "number_of_open_complaints               -0.012380 -0.005802      -0.004419   \n",
       "number_of_policies                      -0.008923  0.005127      -0.018650   \n",
       "total_claim_amount                       1.000000  0.001425       0.016416   \n",
       "month                                    0.001425  1.000000      -0.032981   \n",
       "response_rate                            0.016416 -0.032981       1.000000   \n",
       "response_rate2                           0.016416 -0.032981       1.000000   \n",
       "quantil_claim_amount                     0.874713  0.002944       0.048081   \n",
       "quantil_income                          -0.345068 -0.004723       0.000542   \n",
       "\n",
       "                               response_rate2  quantil_claim_amount  \\\n",
       "customer_lifetime_value             -0.007765              0.187990   \n",
       "income                               0.011156             -0.386805   \n",
       "monthly_premium_auto                 0.013918              0.497486   \n",
       "months_since_last_claim             -0.015016              0.002522   \n",
       "months_since_policy_inception       -0.004875             -0.007137   \n",
       "number_of_open_complaints           -0.004419             -0.018482   \n",
       "number_of_policies                  -0.018650             -0.013968   \n",
       "total_claim_amount                   0.016416              0.874713   \n",
       "month                               -0.032981              0.002944   \n",
       "response_rate                        1.000000              0.048081   \n",
       "response_rate2                       1.000000              0.048081   \n",
       "quantil_claim_amount                 0.048081              1.000000   \n",
       "quantil_income                       0.000542             -0.380183   \n",
       "\n",
       "                               quantil_income  \n",
       "customer_lifetime_value              0.028158  \n",
       "income                               0.987544  \n",
       "monthly_premium_auto                -0.007099  \n",
       "months_since_last_claim             -0.022115  \n",
       "months_since_policy_inception       -0.004351  \n",
       "number_of_open_complaints            0.011618  \n",
       "number_of_policies                  -0.010338  \n",
       "total_claim_amount                  -0.345068  \n",
       "month                               -0.004723  \n",
       "response_rate                        0.000542  \n",
       "response_rate2                       0.000542  \n",
       "quantil_claim_amount                -0.380183  \n",
       "quantil_income                       1.000000  "
      ]
     },
     "metadata": {},
     "output_type": "display_data"
    }
   ],
   "source": [
    "correlations_matrix = numerical.corr()\n",
    "display(correlations_matrix)"
   ]
  },
  {
   "cell_type": "markdown",
   "id": "1c1a32fc",
   "metadata": {},
   "source": [
    "### seaborn heatmap"
   ]
  },
  {
   "cell_type": "code",
   "execution_count": 87,
   "id": "ec8627f8",
   "metadata": {},
   "outputs": [
    {
     "data": {
      "image/png": "[encoded data removed]",
      "text/plain": [
       "<Figure size 864x864 with 2 Axes>"
      ]
     },
     "metadata": {
      "needs_background": "light"
     },
     "output_type": "display_data"
    }
   ],
   "source": [
    "plt.figure(figsize=(12,12))\n",
    "sns.heatmap(correlations_matrix, annot=True)\n",
    "plt.show()"
   ]
  },
  {
   "cell_type": "code",
   "execution_count": 88,
   "id": "dfe5d148",
   "metadata": {},
   "outputs": [
    {
     "data": {
      "image/png": "[encoded data removed]",
      "text/plain": [
       "<Figure size 550.25x360 with 1 Axes>"
      ]
     },
     "metadata": {
      "needs_background": "light"
     },
     "output_type": "display_data"
    }
   ],
   "source": [
    "sns.displot(numerical, bins=10)\n",
    "plt.show()"
   ]
  },
  {
   "cell_type": "code",
   "execution_count": 89,
   "id": "eeab7a1c",
   "metadata": {},
   "outputs": [],
   "source": [
    "# numerical.hist(bins=50)\n",
    "# plt.show()"
   ]
  },
  {
   "cell_type": "code",
   "execution_count": 90,
   "id": "33fa9322",
   "metadata": {},
   "outputs": [],
   "source": [
    "# Drop one of the two features that show a high correlation between them (greater than 0.9). \n",
    "# If there is no pair of features that have a high correlation, then do not drop any features"
   ]
  },
  {
   "cell_type": "code",
   "execution_count": 91,
   "id": "5926a583",
   "metadata": {},
   "outputs": [],
   "source": [
    "data = data.drop(['response_rate2'], axis=1)\n",
    "data = data.drop(['quantil_claim_amount'], axis=1)\n",
    "data = data.drop(['quantil_income'], axis=1)"
   ]
  },
  {
   "cell_type": "code",
   "execution_count": 92,
   "id": "682f5ea3",
   "metadata": {},
   "outputs": [
    {
     "data": {
      "text/html": [
       "<div>\n",
       "<style scoped>\n",
       "    .dataframe tbody tr th:only-of-type {\n",
       "        vertical-align: middle;\n",
       "    }\n",
       "\n",
       "    .dataframe tbody tr th {\n",
       "        vertical-align: top;\n",
       "    }\n",
       "\n",
       "    .dataframe thead th {\n",
       "        text-align: right;\n",
       "    }\n",
       "</style>\n",
       "<table border=\"1\" class=\"dataframe\">\n",
       "  <thead>\n",
       "    <tr style=\"text-align: right;\">\n",
       "      <th></th>\n",
       "      <th>customer</th>\n",
       "      <th>state</th>\n",
       "      <th>customer_lifetime_value</th>\n",
       "      <th>response</th>\n",
       "      <th>coverage</th>\n",
       "      <th>education</th>\n",
       "      <th>effective_to_date</th>\n",
       "      <th>employmentstatus</th>\n",
       "      <th>gender</th>\n",
       "      <th>income</th>\n",
       "      <th>...</th>\n",
       "      <th>policy_type</th>\n",
       "      <th>policy</th>\n",
       "      <th>renew_offer_type</th>\n",
       "      <th>sales_channel</th>\n",
       "      <th>total_claim_amount</th>\n",
       "      <th>vehicle_class</th>\n",
       "      <th>vehicle_size</th>\n",
       "      <th>vehicle_type</th>\n",
       "      <th>month</th>\n",
       "      <th>response_rate</th>\n",
       "    </tr>\n",
       "  </thead>\n",
       "  <tbody>\n",
       "    <tr>\n",
       "      <th>0</th>\n",
       "      <td>DK49336</td>\n",
       "      <td>Arizona</td>\n",
       "      <td>4809.216960</td>\n",
       "      <td>No</td>\n",
       "      <td>Basic</td>\n",
       "      <td>College</td>\n",
       "      <td>2/18/11</td>\n",
       "      <td>Employed</td>\n",
       "      <td>M</td>\n",
       "      <td>48029</td>\n",
       "      <td>...</td>\n",
       "      <td>Corporate Auto</td>\n",
       "      <td>Corporate L3</td>\n",
       "      <td>Offer3</td>\n",
       "      <td>Agent</td>\n",
       "      <td>292.800000</td>\n",
       "      <td>Four-Door Car</td>\n",
       "      <td>Medsize</td>\n",
       "      <td>M</td>\n",
       "      <td>2</td>\n",
       "      <td>0</td>\n",
       "    </tr>\n",
       "    <tr>\n",
       "      <th>1</th>\n",
       "      <td>KX64629</td>\n",
       "      <td>California</td>\n",
       "      <td>2228.525238</td>\n",
       "      <td>No</td>\n",
       "      <td>Basic</td>\n",
       "      <td>College</td>\n",
       "      <td>1/18/11</td>\n",
       "      <td>Unemployed</td>\n",
       "      <td>F</td>\n",
       "      <td>0</td>\n",
       "      <td>...</td>\n",
       "      <td>Personal Auto</td>\n",
       "      <td>Personal L3</td>\n",
       "      <td>Offer4</td>\n",
       "      <td>Call Center</td>\n",
       "      <td>744.924331</td>\n",
       "      <td>Four-Door Car</td>\n",
       "      <td>Medsize</td>\n",
       "      <td>M</td>\n",
       "      <td>1</td>\n",
       "      <td>0</td>\n",
       "    </tr>\n",
       "    <tr>\n",
       "      <th>2</th>\n",
       "      <td>LZ68649</td>\n",
       "      <td>Washington</td>\n",
       "      <td>14947.917300</td>\n",
       "      <td>No</td>\n",
       "      <td>Basic</td>\n",
       "      <td>Bachelor</td>\n",
       "      <td>2/10/11</td>\n",
       "      <td>Employed</td>\n",
       "      <td>M</td>\n",
       "      <td>22139</td>\n",
       "      <td>...</td>\n",
       "      <td>Personal Auto</td>\n",
       "      <td>Personal L3</td>\n",
       "      <td>Offer3</td>\n",
       "      <td>Call Center</td>\n",
       "      <td>480.000000</td>\n",
       "      <td>SUV</td>\n",
       "      <td>Medsize</td>\n",
       "      <td>A</td>\n",
       "      <td>2</td>\n",
       "      <td>0</td>\n",
       "    </tr>\n",
       "    <tr>\n",
       "      <th>3</th>\n",
       "      <td>XL78013</td>\n",
       "      <td>Oregon</td>\n",
       "      <td>22332.439460</td>\n",
       "      <td>Yes</td>\n",
       "      <td>Extended</td>\n",
       "      <td>College</td>\n",
       "      <td>1/11/11</td>\n",
       "      <td>Employed</td>\n",
       "      <td>M</td>\n",
       "      <td>49078</td>\n",
       "      <td>...</td>\n",
       "      <td>Corporate Auto</td>\n",
       "      <td>Corporate L3</td>\n",
       "      <td>Offer2</td>\n",
       "      <td>Branch</td>\n",
       "      <td>484.013411</td>\n",
       "      <td>Four-Door Car</td>\n",
       "      <td>Medsize</td>\n",
       "      <td>A</td>\n",
       "      <td>1</td>\n",
       "      <td>1</td>\n",
       "    </tr>\n",
       "    <tr>\n",
       "      <th>4</th>\n",
       "      <td>QA50777</td>\n",
       "      <td>Oregon</td>\n",
       "      <td>9025.067525</td>\n",
       "      <td>No</td>\n",
       "      <td>Premium</td>\n",
       "      <td>Bachelor</td>\n",
       "      <td>1/17/11</td>\n",
       "      <td>Medical Leave</td>\n",
       "      <td>F</td>\n",
       "      <td>23675</td>\n",
       "      <td>...</td>\n",
       "      <td>Personal Auto</td>\n",
       "      <td>Personal L2</td>\n",
       "      <td>Offer1</td>\n",
       "      <td>Branch</td>\n",
       "      <td>707.925645</td>\n",
       "      <td>Four-Door Car</td>\n",
       "      <td>Medsize</td>\n",
       "      <td>M</td>\n",
       "      <td>1</td>\n",
       "      <td>0</td>\n",
       "    </tr>\n",
       "  </tbody>\n",
       "</table>\n",
       "<p>5 rows × 27 columns</p>\n",
       "</div>"
      ],
      "text/plain": [
       "  customer       state  customer_lifetime_value response  coverage education  \\\n",
       "0  DK49336     Arizona              4809.216960       No     Basic   College   \n",
       "1  KX64629  California              2228.525238       No     Basic   College   \n",
       "2  LZ68649  Washington             14947.917300       No     Basic  Bachelor   \n",
       "3  XL78013      Oregon             22332.439460      Yes  Extended   College   \n",
       "4  QA50777      Oregon              9025.067525       No   Premium  Bachelor   \n",
       "\n",
       "  effective_to_date employmentstatus gender  income  ...     policy_type  \\\n",
       "0           2/18/11         Employed      M   48029  ...  Corporate Auto   \n",
       "1           1/18/11       Unemployed      F       0  ...   Personal Auto   \n",
       "2           2/10/11         Employed      M   22139  ...   Personal Auto   \n",
       "3           1/11/11         Employed      M   49078  ...  Corporate Auto   \n",
       "4           1/17/11    Medical Leave      F   23675  ...   Personal Auto   \n",
       "\n",
       "         policy  renew_offer_type  sales_channel  total_claim_amount  \\\n",
       "0  Corporate L3            Offer3          Agent          292.800000   \n",
       "1   Personal L3            Offer4    Call Center          744.924331   \n",
       "2   Personal L3            Offer3    Call Center          480.000000   \n",
       "3  Corporate L3            Offer2         Branch          484.013411   \n",
       "4   Personal L2            Offer1         Branch          707.925645   \n",
       "\n",
       "   vehicle_class  vehicle_size vehicle_type month response_rate  \n",
       "0  Four-Door Car       Medsize            M     2             0  \n",
       "1  Four-Door Car       Medsize            M     1             0  \n",
       "2            SUV       Medsize            A     2             0  \n",
       "3  Four-Door Car       Medsize            A     1             1  \n",
       "4  Four-Door Car       Medsize            M     1             0  \n",
       "\n",
       "[5 rows x 27 columns]"
      ]
     },
     "execution_count": 92,
     "metadata": {},
     "output_type": "execute_result"
    }
   ],
   "source": [
    "data.head()"
   ]
  },
  {
   "cell_type": "markdown",
   "id": "0b952f29",
   "metadata": {},
   "source": [
    "# Lab | Customer Analysis Round 5"
   ]
  },
  {
   "cell_type": "markdown",
   "id": "ebfd53cc",
   "metadata": {},
   "source": [
    "### X-y split for 'total_claim_amount'"
   ]
  },
  {
   "cell_type": "code",
   "execution_count": 93,
   "id": "8d213f6f",
   "metadata": {},
   "outputs": [],
   "source": [
    "# define the label\n",
    "y = numerical['total_claim_amount'] \n",
    "# define the features\n",
    "X = numerical.drop(['total_claim_amount'], axis=1) "
   ]
  },
  {
   "cell_type": "code",
   "execution_count": 94,
   "id": "b7ef2101",
   "metadata": {},
   "outputs": [],
   "source": [
    "# Linear Regression Model\n",
    "#lm = linear_model.LinearRegression()\n",
    "#training\n",
    "#lm.fit(X,y) \n",
    "#print(\"b0 = \" , lm.intercept_)\n",
    "#print(\"b1 = \" , lm.coef_)"
   ]
  },
  {
   "cell_type": "markdown",
   "id": "3bb53289",
   "metadata": {},
   "source": [
    "### MinMaxScaler "
   ]
  },
  {
   "cell_type": "code",
   "execution_count": 95,
   "id": "79664ad6",
   "metadata": {},
   "outputs": [],
   "source": [
    "from sklearn.preprocessing import MinMaxScaler \n",
    "\n",
    "y = data['total_claim_amount']\n",
    "X = data.drop(['total_claim_amount'], axis=1)\n",
    "X_numerical = X.select_dtypes(include = np.number) # all numerical values\n",
    "X_categorical = X.select_dtypes(include = object) # all categorical values"
   ]
  },
  {
   "cell_type": "code",
   "execution_count": 96,
   "id": "61070a1f",
   "metadata": {},
   "outputs": [
    {
     "data": {
      "text/html": [
       "<div>\n",
       "<style scoped>\n",
       "    .dataframe tbody tr th:only-of-type {\n",
       "        vertical-align: middle;\n",
       "    }\n",
       "\n",
       "    .dataframe tbody tr th {\n",
       "        vertical-align: top;\n",
       "    }\n",
       "\n",
       "    .dataframe thead th {\n",
       "        text-align: right;\n",
       "    }\n",
       "</style>\n",
       "<table border=\"1\" class=\"dataframe\">\n",
       "  <thead>\n",
       "    <tr style=\"text-align: right;\">\n",
       "      <th></th>\n",
       "      <th>customer_lifetime_value</th>\n",
       "      <th>income</th>\n",
       "      <th>monthly_premium_auto</th>\n",
       "      <th>months_since_last_claim</th>\n",
       "      <th>months_since_policy_inception</th>\n",
       "      <th>number_of_open_complaints</th>\n",
       "      <th>number_of_policies</th>\n",
       "      <th>month</th>\n",
       "      <th>response_rate</th>\n",
       "    </tr>\n",
       "  </thead>\n",
       "  <tbody>\n",
       "    <tr>\n",
       "      <th>0</th>\n",
       "      <td>4809.2</td>\n",
       "      <td>48029</td>\n",
       "      <td>61</td>\n",
       "      <td>7.0</td>\n",
       "      <td>52</td>\n",
       "      <td>0.0</td>\n",
       "      <td>9</td>\n",
       "      <td>2</td>\n",
       "      <td>0</td>\n",
       "    </tr>\n",
       "    <tr>\n",
       "      <th>1</th>\n",
       "      <td>2228.5</td>\n",
       "      <td>0</td>\n",
       "      <td>64</td>\n",
       "      <td>3.0</td>\n",
       "      <td>26</td>\n",
       "      <td>0.0</td>\n",
       "      <td>1</td>\n",
       "      <td>1</td>\n",
       "      <td>0</td>\n",
       "    </tr>\n",
       "    <tr>\n",
       "      <th>2</th>\n",
       "      <td>14947.9</td>\n",
       "      <td>22139</td>\n",
       "      <td>100</td>\n",
       "      <td>34.0</td>\n",
       "      <td>31</td>\n",
       "      <td>0.0</td>\n",
       "      <td>2</td>\n",
       "      <td>2</td>\n",
       "      <td>0</td>\n",
       "    </tr>\n",
       "    <tr>\n",
       "      <th>3</th>\n",
       "      <td>22332.4</td>\n",
       "      <td>49078</td>\n",
       "      <td>97</td>\n",
       "      <td>10.0</td>\n",
       "      <td>3</td>\n",
       "      <td>0.0</td>\n",
       "      <td>2</td>\n",
       "      <td>1</td>\n",
       "      <td>1</td>\n",
       "    </tr>\n",
       "    <tr>\n",
       "      <th>4</th>\n",
       "      <td>9025.1</td>\n",
       "      <td>23675</td>\n",
       "      <td>117</td>\n",
       "      <td>14.0</td>\n",
       "      <td>31</td>\n",
       "      <td>0.0</td>\n",
       "      <td>7</td>\n",
       "      <td>1</td>\n",
       "      <td>0</td>\n",
       "    </tr>\n",
       "    <tr>\n",
       "      <th>...</th>\n",
       "      <td>...</td>\n",
       "      <td>...</td>\n",
       "      <td>...</td>\n",
       "      <td>...</td>\n",
       "      <td>...</td>\n",
       "      <td>...</td>\n",
       "      <td>...</td>\n",
       "      <td>...</td>\n",
       "      <td>...</td>\n",
       "    </tr>\n",
       "    <tr>\n",
       "      <th>10905</th>\n",
       "      <td>15563.4</td>\n",
       "      <td>0</td>\n",
       "      <td>253</td>\n",
       "      <td>14.0</td>\n",
       "      <td>40</td>\n",
       "      <td>0.0</td>\n",
       "      <td>7</td>\n",
       "      <td>1</td>\n",
       "      <td>0</td>\n",
       "    </tr>\n",
       "    <tr>\n",
       "      <th>10906</th>\n",
       "      <td>5259.4</td>\n",
       "      <td>61146</td>\n",
       "      <td>65</td>\n",
       "      <td>7.0</td>\n",
       "      <td>68</td>\n",
       "      <td>0.0</td>\n",
       "      <td>6</td>\n",
       "      <td>1</td>\n",
       "      <td>0</td>\n",
       "    </tr>\n",
       "    <tr>\n",
       "      <th>10907</th>\n",
       "      <td>23893.3</td>\n",
       "      <td>39837</td>\n",
       "      <td>201</td>\n",
       "      <td>11.0</td>\n",
       "      <td>63</td>\n",
       "      <td>0.0</td>\n",
       "      <td>2</td>\n",
       "      <td>2</td>\n",
       "      <td>0</td>\n",
       "    </tr>\n",
       "    <tr>\n",
       "      <th>10908</th>\n",
       "      <td>11972.0</td>\n",
       "      <td>64195</td>\n",
       "      <td>158</td>\n",
       "      <td>0.0</td>\n",
       "      <td>27</td>\n",
       "      <td>4.0</td>\n",
       "      <td>6</td>\n",
       "      <td>2</td>\n",
       "      <td>0</td>\n",
       "    </tr>\n",
       "    <tr>\n",
       "      <th>10909</th>\n",
       "      <td>6857.5</td>\n",
       "      <td>0</td>\n",
       "      <td>101</td>\n",
       "      <td>31.0</td>\n",
       "      <td>1</td>\n",
       "      <td>0.0</td>\n",
       "      <td>3</td>\n",
       "      <td>1</td>\n",
       "      <td>0</td>\n",
       "    </tr>\n",
       "  </tbody>\n",
       "</table>\n",
       "<p>10910 rows × 9 columns</p>\n",
       "</div>"
      ],
      "text/plain": [
       "       customer_lifetime_value  income  monthly_premium_auto  \\\n",
       "0                       4809.2   48029                    61   \n",
       "1                       2228.5       0                    64   \n",
       "2                      14947.9   22139                   100   \n",
       "3                      22332.4   49078                    97   \n",
       "4                       9025.1   23675                   117   \n",
       "...                        ...     ...                   ...   \n",
       "10905                  15563.4       0                   253   \n",
       "10906                   5259.4   61146                    65   \n",
       "10907                  23893.3   39837                   201   \n",
       "10908                  11972.0   64195                   158   \n",
       "10909                   6857.5       0                   101   \n",
       "\n",
       "       months_since_last_claim  months_since_policy_inception  \\\n",
       "0                          7.0                             52   \n",
       "1                          3.0                             26   \n",
       "2                         34.0                             31   \n",
       "3                         10.0                              3   \n",
       "4                         14.0                             31   \n",
       "...                        ...                            ...   \n",
       "10905                     14.0                             40   \n",
       "10906                      7.0                             68   \n",
       "10907                     11.0                             63   \n",
       "10908                      0.0                             27   \n",
       "10909                     31.0                              1   \n",
       "\n",
       "       number_of_open_complaints  number_of_policies  month  response_rate  \n",
       "0                            0.0                   9      2              0  \n",
       "1                            0.0                   1      1              0  \n",
       "2                            0.0                   2      2              0  \n",
       "3                            0.0                   2      1              1  \n",
       "4                            0.0                   7      1              0  \n",
       "...                          ...                 ...    ...            ...  \n",
       "10905                        0.0                   7      1              0  \n",
       "10906                        0.0                   6      1              0  \n",
       "10907                        0.0                   2      2              0  \n",
       "10908                        4.0                   6      2              0  \n",
       "10909                        0.0                   3      1              0  \n",
       "\n",
       "[10910 rows x 9 columns]"
      ]
     },
     "execution_count": 96,
     "metadata": {},
     "output_type": "execute_result"
    }
   ],
   "source": [
    "round(X_numerical, 1)"
   ]
  },
  {
   "cell_type": "markdown",
   "id": "57491029",
   "metadata": {},
   "source": [
    "### Normalize (numerical) (max-value=1; min-value=0) --> MinMaxScaler"
   ]
  },
  {
   "cell_type": "code",
   "execution_count": 97,
   "id": "01f52a9b",
   "metadata": {},
   "outputs": [
    {
     "name": "stdout",
     "output_type": "stream",
     "text": [
      "(10910, 9)\n"
     ]
    }
   ],
   "source": [
    "trainer = MinMaxScaler().fit(X_numerical) \n",
    "X_normalized = trainer.transform(X_numerical) \n",
    "print(X_normalized.shape)\n"
   ]
  },
  {
   "cell_type": "markdown",
   "id": "9c99bcba",
   "metadata": {},
   "source": [
    "### normalized numerical values"
   ]
  },
  {
   "cell_type": "code",
   "execution_count": 98,
   "id": "88d61bf3",
   "metadata": {},
   "outputs": [
    {
     "data": {
      "text/plain": [
       "array([[0.03575222, 0.48038127, 0.        , ..., 1.        , 1.        ,\n",
       "        0.        ],\n",
       "       [0.00405905, 0.        , 0.01265823, ..., 0.        , 0.        ,\n",
       "        0.        ],\n",
       "       [0.16026441, 0.22143207, 0.16455696, ..., 0.125     , 1.        ,\n",
       "        0.        ],\n",
       "       ...,\n",
       "       [0.27012165, 0.3984457 , 0.5907173 , ..., 0.125     , 1.        ,\n",
       "        0.        ],\n",
       "       [0.12371724, 0.64207199, 0.4092827 , ..., 0.625     , 1.        ,\n",
       "        0.        ],\n",
       "       [0.06090719, 0.        , 0.16877637, ..., 0.25      , 0.        ,\n",
       "        0.        ]])"
      ]
     },
     "execution_count": 98,
     "metadata": {},
     "output_type": "execute_result"
    }
   ],
   "source": [
    "X_normalized"
   ]
  },
  {
   "cell_type": "code",
   "execution_count": 99,
   "id": "4c2b22f1",
   "metadata": {},
   "outputs": [
    {
     "data": {
      "text/html": [
       "<div>\n",
       "<style scoped>\n",
       "    .dataframe tbody tr th:only-of-type {\n",
       "        vertical-align: middle;\n",
       "    }\n",
       "\n",
       "    .dataframe tbody tr th {\n",
       "        vertical-align: top;\n",
       "    }\n",
       "\n",
       "    .dataframe thead th {\n",
       "        text-align: right;\n",
       "    }\n",
       "</style>\n",
       "<table border=\"1\" class=\"dataframe\">\n",
       "  <thead>\n",
       "    <tr style=\"text-align: right;\">\n",
       "      <th></th>\n",
       "      <th>customer_lifetime_value</th>\n",
       "      <th>income</th>\n",
       "      <th>monthly_premium_auto</th>\n",
       "      <th>months_since_last_claim</th>\n",
       "      <th>months_since_policy_inception</th>\n",
       "      <th>number_of_open_complaints</th>\n",
       "      <th>number_of_policies</th>\n",
       "      <th>month</th>\n",
       "      <th>response_rate</th>\n",
       "    </tr>\n",
       "  </thead>\n",
       "  <tbody>\n",
       "    <tr>\n",
       "      <th>0</th>\n",
       "      <td>0.035752</td>\n",
       "      <td>0.480381</td>\n",
       "      <td>0.000000</td>\n",
       "      <td>0.200000</td>\n",
       "      <td>0.525253</td>\n",
       "      <td>0.0</td>\n",
       "      <td>1.000</td>\n",
       "      <td>1.0</td>\n",
       "      <td>0.0</td>\n",
       "    </tr>\n",
       "    <tr>\n",
       "      <th>1</th>\n",
       "      <td>0.004059</td>\n",
       "      <td>0.000000</td>\n",
       "      <td>0.012658</td>\n",
       "      <td>0.085714</td>\n",
       "      <td>0.262626</td>\n",
       "      <td>0.0</td>\n",
       "      <td>0.000</td>\n",
       "      <td>0.0</td>\n",
       "      <td>0.0</td>\n",
       "    </tr>\n",
       "    <tr>\n",
       "      <th>2</th>\n",
       "      <td>0.160264</td>\n",
       "      <td>0.221432</td>\n",
       "      <td>0.164557</td>\n",
       "      <td>0.971429</td>\n",
       "      <td>0.313131</td>\n",
       "      <td>0.0</td>\n",
       "      <td>0.125</td>\n",
       "      <td>1.0</td>\n",
       "      <td>0.0</td>\n",
       "    </tr>\n",
       "    <tr>\n",
       "      <th>3</th>\n",
       "      <td>0.250953</td>\n",
       "      <td>0.490873</td>\n",
       "      <td>0.151899</td>\n",
       "      <td>0.285714</td>\n",
       "      <td>0.030303</td>\n",
       "      <td>0.0</td>\n",
       "      <td>0.125</td>\n",
       "      <td>0.0</td>\n",
       "      <td>1.0</td>\n",
       "    </tr>\n",
       "    <tr>\n",
       "      <th>4</th>\n",
       "      <td>0.087527</td>\n",
       "      <td>0.236795</td>\n",
       "      <td>0.236287</td>\n",
       "      <td>0.400000</td>\n",
       "      <td>0.313131</td>\n",
       "      <td>0.0</td>\n",
       "      <td>0.750</td>\n",
       "      <td>0.0</td>\n",
       "      <td>0.0</td>\n",
       "    </tr>\n",
       "    <tr>\n",
       "      <th>...</th>\n",
       "      <td>...</td>\n",
       "      <td>...</td>\n",
       "      <td>...</td>\n",
       "      <td>...</td>\n",
       "      <td>...</td>\n",
       "      <td>...</td>\n",
       "      <td>...</td>\n",
       "      <td>...</td>\n",
       "      <td>...</td>\n",
       "    </tr>\n",
       "    <tr>\n",
       "      <th>10905</th>\n",
       "      <td>0.167823</td>\n",
       "      <td>0.000000</td>\n",
       "      <td>0.810127</td>\n",
       "      <td>0.400000</td>\n",
       "      <td>0.404040</td>\n",
       "      <td>0.0</td>\n",
       "      <td>0.750</td>\n",
       "      <td>0.0</td>\n",
       "      <td>0.0</td>\n",
       "    </tr>\n",
       "    <tr>\n",
       "      <th>10906</th>\n",
       "      <td>0.041281</td>\n",
       "      <td>0.611576</td>\n",
       "      <td>0.016878</td>\n",
       "      <td>0.200000</td>\n",
       "      <td>0.686869</td>\n",
       "      <td>0.0</td>\n",
       "      <td>0.625</td>\n",
       "      <td>0.0</td>\n",
       "      <td>0.0</td>\n",
       "    </tr>\n",
       "    <tr>\n",
       "      <th>10907</th>\n",
       "      <td>0.270122</td>\n",
       "      <td>0.398446</td>\n",
       "      <td>0.590717</td>\n",
       "      <td>0.314286</td>\n",
       "      <td>0.636364</td>\n",
       "      <td>0.0</td>\n",
       "      <td>0.125</td>\n",
       "      <td>1.0</td>\n",
       "      <td>0.0</td>\n",
       "    </tr>\n",
       "    <tr>\n",
       "      <th>10908</th>\n",
       "      <td>0.123717</td>\n",
       "      <td>0.642072</td>\n",
       "      <td>0.409283</td>\n",
       "      <td>0.000000</td>\n",
       "      <td>0.272727</td>\n",
       "      <td>0.8</td>\n",
       "      <td>0.625</td>\n",
       "      <td>1.0</td>\n",
       "      <td>0.0</td>\n",
       "    </tr>\n",
       "    <tr>\n",
       "      <th>10909</th>\n",
       "      <td>0.060907</td>\n",
       "      <td>0.000000</td>\n",
       "      <td>0.168776</td>\n",
       "      <td>0.885714</td>\n",
       "      <td>0.010101</td>\n",
       "      <td>0.0</td>\n",
       "      <td>0.250</td>\n",
       "      <td>0.0</td>\n",
       "      <td>0.0</td>\n",
       "    </tr>\n",
       "  </tbody>\n",
       "</table>\n",
       "<p>10910 rows × 9 columns</p>\n",
       "</div>"
      ],
      "text/plain": [
       "       customer_lifetime_value    income  monthly_premium_auto  \\\n",
       "0                     0.035752  0.480381              0.000000   \n",
       "1                     0.004059  0.000000              0.012658   \n",
       "2                     0.160264  0.221432              0.164557   \n",
       "3                     0.250953  0.490873              0.151899   \n",
       "4                     0.087527  0.236795              0.236287   \n",
       "...                        ...       ...                   ...   \n",
       "10905                 0.167823  0.000000              0.810127   \n",
       "10906                 0.041281  0.611576              0.016878   \n",
       "10907                 0.270122  0.398446              0.590717   \n",
       "10908                 0.123717  0.642072              0.409283   \n",
       "10909                 0.060907  0.000000              0.168776   \n",
       "\n",
       "       months_since_last_claim  months_since_policy_inception  \\\n",
       "0                     0.200000                       0.525253   \n",
       "1                     0.085714                       0.262626   \n",
       "2                     0.971429                       0.313131   \n",
       "3                     0.285714                       0.030303   \n",
       "4                     0.400000                       0.313131   \n",
       "...                        ...                            ...   \n",
       "10905                 0.400000                       0.404040   \n",
       "10906                 0.200000                       0.686869   \n",
       "10907                 0.314286                       0.636364   \n",
       "10908                 0.000000                       0.272727   \n",
       "10909                 0.885714                       0.010101   \n",
       "\n",
       "       number_of_open_complaints  number_of_policies  month  response_rate  \n",
       "0                            0.0               1.000    1.0            0.0  \n",
       "1                            0.0               0.000    0.0            0.0  \n",
       "2                            0.0               0.125    1.0            0.0  \n",
       "3                            0.0               0.125    0.0            1.0  \n",
       "4                            0.0               0.750    0.0            0.0  \n",
       "...                          ...                 ...    ...            ...  \n",
       "10905                        0.0               0.750    0.0            0.0  \n",
       "10906                        0.0               0.625    0.0            0.0  \n",
       "10907                        0.0               0.125    1.0            0.0  \n",
       "10908                        0.8               0.625    1.0            0.0  \n",
       "10909                        0.0               0.250    0.0            0.0  \n",
       "\n",
       "[10910 rows x 9 columns]"
      ]
     },
     "execution_count": 99,
     "metadata": {},
     "output_type": "execute_result"
    }
   ],
   "source": [
    "pd.DataFrame(X_normalized, columns=X_numerical.columns)"
   ]
  },
  {
   "cell_type": "markdown",
   "id": "21dca9c3",
   "metadata": {},
   "source": [
    "### statistics normalized numerical values"
   ]
  },
  {
   "cell_type": "code",
   "execution_count": 100,
   "id": "a3e6a50d",
   "metadata": {},
   "outputs": [
    {
     "data": {
      "text/html": [
       "<div>\n",
       "<style scoped>\n",
       "    .dataframe tbody tr th:only-of-type {\n",
       "        vertical-align: middle;\n",
       "    }\n",
       "\n",
       "    .dataframe tbody tr th {\n",
       "        vertical-align: top;\n",
       "    }\n",
       "\n",
       "    .dataframe thead th {\n",
       "        text-align: right;\n",
       "    }\n",
       "</style>\n",
       "<table border=\"1\" class=\"dataframe\">\n",
       "  <thead>\n",
       "    <tr style=\"text-align: right;\">\n",
       "      <th></th>\n",
       "      <th>count</th>\n",
       "      <th>mean</th>\n",
       "      <th>std</th>\n",
       "      <th>min</th>\n",
       "      <th>25%</th>\n",
       "      <th>50%</th>\n",
       "      <th>75%</th>\n",
       "      <th>max</th>\n",
       "    </tr>\n",
       "  </thead>\n",
       "  <tbody>\n",
       "    <tr>\n",
       "      <th>customer_lifetime_value</th>\n",
       "      <td>10910.0</td>\n",
       "      <td>0.075162</td>\n",
       "      <td>0.084555</td>\n",
       "      <td>0.0</td>\n",
       "      <td>0.025992</td>\n",
       "      <td>0.047566</td>\n",
       "      <td>0.087130</td>\n",
       "      <td>1.0</td>\n",
       "    </tr>\n",
       "    <tr>\n",
       "      <th>income</th>\n",
       "      <td>10910.0</td>\n",
       "      <td>0.375434</td>\n",
       "      <td>0.303650</td>\n",
       "      <td>0.0</td>\n",
       "      <td>0.000000</td>\n",
       "      <td>0.338199</td>\n",
       "      <td>0.622626</td>\n",
       "      <td>1.0</td>\n",
       "    </tr>\n",
       "    <tr>\n",
       "      <th>monthly_premium_auto</th>\n",
       "      <td>10910.0</td>\n",
       "      <td>0.135848</td>\n",
       "      <td>0.145327</td>\n",
       "      <td>0.0</td>\n",
       "      <td>0.029536</td>\n",
       "      <td>0.092827</td>\n",
       "      <td>0.202532</td>\n",
       "      <td>1.0</td>\n",
       "    </tr>\n",
       "    <tr>\n",
       "      <th>months_since_last_claim</th>\n",
       "      <td>10910.0</td>\n",
       "      <td>0.430926</td>\n",
       "      <td>0.279635</td>\n",
       "      <td>0.0</td>\n",
       "      <td>0.200000</td>\n",
       "      <td>0.400000</td>\n",
       "      <td>0.657143</td>\n",
       "      <td>1.0</td>\n",
       "    </tr>\n",
       "    <tr>\n",
       "      <th>months_since_policy_inception</th>\n",
       "      <td>10910.0</td>\n",
       "      <td>0.485777</td>\n",
       "      <td>0.282229</td>\n",
       "      <td>0.0</td>\n",
       "      <td>0.242424</td>\n",
       "      <td>0.484848</td>\n",
       "      <td>0.717172</td>\n",
       "      <td>1.0</td>\n",
       "    </tr>\n",
       "    <tr>\n",
       "      <th>number_of_open_complaints</th>\n",
       "      <td>10910.0</td>\n",
       "      <td>0.072392</td>\n",
       "      <td>0.178027</td>\n",
       "      <td>0.0</td>\n",
       "      <td>0.000000</td>\n",
       "      <td>0.000000</td>\n",
       "      <td>0.000000</td>\n",
       "      <td>1.0</td>\n",
       "    </tr>\n",
       "    <tr>\n",
       "      <th>number_of_policies</th>\n",
       "      <td>10910.0</td>\n",
       "      <td>0.247399</td>\n",
       "      <td>0.299920</td>\n",
       "      <td>0.0</td>\n",
       "      <td>0.000000</td>\n",
       "      <td>0.125000</td>\n",
       "      <td>0.375000</td>\n",
       "      <td>1.0</td>\n",
       "    </tr>\n",
       "    <tr>\n",
       "      <th>month</th>\n",
       "      <td>10910.0</td>\n",
       "      <td>0.466728</td>\n",
       "      <td>0.498915</td>\n",
       "      <td>0.0</td>\n",
       "      <td>0.000000</td>\n",
       "      <td>0.000000</td>\n",
       "      <td>1.000000</td>\n",
       "      <td>1.0</td>\n",
       "    </tr>\n",
       "    <tr>\n",
       "      <th>response_rate</th>\n",
       "      <td>10910.0</td>\n",
       "      <td>0.134372</td>\n",
       "      <td>0.341067</td>\n",
       "      <td>0.0</td>\n",
       "      <td>0.000000</td>\n",
       "      <td>0.000000</td>\n",
       "      <td>0.000000</td>\n",
       "      <td>1.0</td>\n",
       "    </tr>\n",
       "  </tbody>\n",
       "</table>\n",
       "</div>"
      ],
      "text/plain": [
       "                                 count      mean       std  min       25%  \\\n",
       "customer_lifetime_value        10910.0  0.075162  0.084555  0.0  0.025992   \n",
       "income                         10910.0  0.375434  0.303650  0.0  0.000000   \n",
       "monthly_premium_auto           10910.0  0.135848  0.145327  0.0  0.029536   \n",
       "months_since_last_claim        10910.0  0.430926  0.279635  0.0  0.200000   \n",
       "months_since_policy_inception  10910.0  0.485777  0.282229  0.0  0.242424   \n",
       "number_of_open_complaints      10910.0  0.072392  0.178027  0.0  0.000000   \n",
       "number_of_policies             10910.0  0.247399  0.299920  0.0  0.000000   \n",
       "month                          10910.0  0.466728  0.498915  0.0  0.000000   \n",
       "response_rate                  10910.0  0.134372  0.341067  0.0  0.000000   \n",
       "\n",
       "                                    50%       75%  max  \n",
       "customer_lifetime_value        0.047566  0.087130  1.0  \n",
       "income                         0.338199  0.622626  1.0  \n",
       "monthly_premium_auto           0.092827  0.202532  1.0  \n",
       "months_since_last_claim        0.400000  0.657143  1.0  \n",
       "months_since_policy_inception  0.484848  0.717172  1.0  \n",
       "number_of_open_complaints      0.000000  0.000000  1.0  \n",
       "number_of_policies             0.125000  0.375000  1.0  \n",
       "month                          0.000000  1.000000  1.0  \n",
       "response_rate                  0.000000  0.000000  1.0  "
      ]
     },
     "execution_count": 100,
     "metadata": {},
     "output_type": "execute_result"
    }
   ],
   "source": [
    "pd.DataFrame(X_normalized, columns=X_numerical.columns).describe().T"
   ]
  },
  {
   "cell_type": "markdown",
   "id": "1bf32845",
   "metadata": {},
   "source": [
    "https://matplotlib.org/stable/api/_as_gen/matplotlib.pyplot.hist.html"
   ]
  },
  {
   "cell_type": "code",
   "execution_count": 118,
   "id": "223d0f4a",
   "metadata": {},
   "outputs": [
    {
     "data": {
      "image/png": "[encoded data removed]",
      "text/plain": [
       "<Figure size 432x288 with 16 Axes>"
      ]
     },
     "metadata": {
      "needs_background": "light"
     },
     "output_type": "display_data"
    }
   ],
   "source": [
    "numerical.hist(bins=20)\n",
    "plt.show()"
   ]
  },
  {
   "cell_type": "code",
   "execution_count": 102,
   "id": "7d2d0a53",
   "metadata": {},
   "outputs": [],
   "source": [
    "#numeric_cols=['customer_lifetime_value','income','monthly_premium_auto','months_since_last_claim','months_since_policy_inception','number_of_open_complaints','number_of_policies','total_claim_amount','month']\n",
    "#numeric_data_minmax = MinMaxScaler().fit_transform(numerical)\n",
    "#pd.DataFrame(numeric_data_minmax, columns=numeric_cols).hist()\n",
    "#plt.show()\n",
    "# don't work!"
   ]
  },
  {
   "cell_type": "code",
   "execution_count": 103,
   "id": "2dc983eb",
   "metadata": {},
   "outputs": [],
   "source": [
    "from sklearn import linear_model\n",
    "from sklearn.preprocessing import OneHotEncoder\n",
    "from sklearn.compose import make_column_transformer # to be able to transform the columns\n",
    "from seaborn import load_dataset"
   ]
  },
  {
   "cell_type": "code",
   "execution_count": 104,
   "id": "20659fc1",
   "metadata": {},
   "outputs": [],
   "source": [
    "X_numerical = X.select_dtypes(include = np.number) # numerical values\n",
    "X_categorical = X.select_dtypes(include = object) # categorical values"
   ]
  },
  {
   "cell_type": "code",
   "execution_count": 105,
   "id": "d4514053",
   "metadata": {},
   "outputs": [
    {
     "data": {
      "text/html": [
       "<div>\n",
       "<style scoped>\n",
       "    .dataframe tbody tr th:only-of-type {\n",
       "        vertical-align: middle;\n",
       "    }\n",
       "\n",
       "    .dataframe tbody tr th {\n",
       "        vertical-align: top;\n",
       "    }\n",
       "\n",
       "    .dataframe thead th {\n",
       "        text-align: right;\n",
       "    }\n",
       "</style>\n",
       "<table border=\"1\" class=\"dataframe\">\n",
       "  <thead>\n",
       "    <tr style=\"text-align: right;\">\n",
       "      <th></th>\n",
       "      <th>customer_lifetime_value</th>\n",
       "      <th>income</th>\n",
       "      <th>monthly_premium_auto</th>\n",
       "      <th>months_since_last_claim</th>\n",
       "      <th>months_since_policy_inception</th>\n",
       "      <th>number_of_open_complaints</th>\n",
       "      <th>number_of_policies</th>\n",
       "      <th>month</th>\n",
       "      <th>response_rate</th>\n",
       "    </tr>\n",
       "  </thead>\n",
       "  <tbody>\n",
       "    <tr>\n",
       "      <th>0</th>\n",
       "      <td>4809.22</td>\n",
       "      <td>48029</td>\n",
       "      <td>61</td>\n",
       "      <td>7.0</td>\n",
       "      <td>52</td>\n",
       "      <td>0.0</td>\n",
       "      <td>9</td>\n",
       "      <td>2</td>\n",
       "      <td>0</td>\n",
       "    </tr>\n",
       "    <tr>\n",
       "      <th>1</th>\n",
       "      <td>2228.53</td>\n",
       "      <td>0</td>\n",
       "      <td>64</td>\n",
       "      <td>3.0</td>\n",
       "      <td>26</td>\n",
       "      <td>0.0</td>\n",
       "      <td>1</td>\n",
       "      <td>1</td>\n",
       "      <td>0</td>\n",
       "    </tr>\n",
       "    <tr>\n",
       "      <th>2</th>\n",
       "      <td>14947.92</td>\n",
       "      <td>22139</td>\n",
       "      <td>100</td>\n",
       "      <td>34.0</td>\n",
       "      <td>31</td>\n",
       "      <td>0.0</td>\n",
       "      <td>2</td>\n",
       "      <td>2</td>\n",
       "      <td>0</td>\n",
       "    </tr>\n",
       "    <tr>\n",
       "      <th>3</th>\n",
       "      <td>22332.44</td>\n",
       "      <td>49078</td>\n",
       "      <td>97</td>\n",
       "      <td>10.0</td>\n",
       "      <td>3</td>\n",
       "      <td>0.0</td>\n",
       "      <td>2</td>\n",
       "      <td>1</td>\n",
       "      <td>1</td>\n",
       "    </tr>\n",
       "    <tr>\n",
       "      <th>4</th>\n",
       "      <td>9025.07</td>\n",
       "      <td>23675</td>\n",
       "      <td>117</td>\n",
       "      <td>14.0</td>\n",
       "      <td>31</td>\n",
       "      <td>0.0</td>\n",
       "      <td>7</td>\n",
       "      <td>1</td>\n",
       "      <td>0</td>\n",
       "    </tr>\n",
       "    <tr>\n",
       "      <th>...</th>\n",
       "      <td>...</td>\n",
       "      <td>...</td>\n",
       "      <td>...</td>\n",
       "      <td>...</td>\n",
       "      <td>...</td>\n",
       "      <td>...</td>\n",
       "      <td>...</td>\n",
       "      <td>...</td>\n",
       "      <td>...</td>\n",
       "    </tr>\n",
       "    <tr>\n",
       "      <th>10905</th>\n",
       "      <td>15563.37</td>\n",
       "      <td>0</td>\n",
       "      <td>253</td>\n",
       "      <td>14.0</td>\n",
       "      <td>40</td>\n",
       "      <td>0.0</td>\n",
       "      <td>7</td>\n",
       "      <td>1</td>\n",
       "      <td>0</td>\n",
       "    </tr>\n",
       "    <tr>\n",
       "      <th>10906</th>\n",
       "      <td>5259.44</td>\n",
       "      <td>61146</td>\n",
       "      <td>65</td>\n",
       "      <td>7.0</td>\n",
       "      <td>68</td>\n",
       "      <td>0.0</td>\n",
       "      <td>6</td>\n",
       "      <td>1</td>\n",
       "      <td>0</td>\n",
       "    </tr>\n",
       "    <tr>\n",
       "      <th>10907</th>\n",
       "      <td>23893.30</td>\n",
       "      <td>39837</td>\n",
       "      <td>201</td>\n",
       "      <td>11.0</td>\n",
       "      <td>63</td>\n",
       "      <td>0.0</td>\n",
       "      <td>2</td>\n",
       "      <td>2</td>\n",
       "      <td>0</td>\n",
       "    </tr>\n",
       "    <tr>\n",
       "      <th>10908</th>\n",
       "      <td>11971.98</td>\n",
       "      <td>64195</td>\n",
       "      <td>158</td>\n",
       "      <td>0.0</td>\n",
       "      <td>27</td>\n",
       "      <td>4.0</td>\n",
       "      <td>6</td>\n",
       "      <td>2</td>\n",
       "      <td>0</td>\n",
       "    </tr>\n",
       "    <tr>\n",
       "      <th>10909</th>\n",
       "      <td>6857.52</td>\n",
       "      <td>0</td>\n",
       "      <td>101</td>\n",
       "      <td>31.0</td>\n",
       "      <td>1</td>\n",
       "      <td>0.0</td>\n",
       "      <td>3</td>\n",
       "      <td>1</td>\n",
       "      <td>0</td>\n",
       "    </tr>\n",
       "  </tbody>\n",
       "</table>\n",
       "<p>10910 rows × 9 columns</p>\n",
       "</div>"
      ],
      "text/plain": [
       "       customer_lifetime_value  income  monthly_premium_auto  \\\n",
       "0                      4809.22   48029                    61   \n",
       "1                      2228.53       0                    64   \n",
       "2                     14947.92   22139                   100   \n",
       "3                     22332.44   49078                    97   \n",
       "4                      9025.07   23675                   117   \n",
       "...                        ...     ...                   ...   \n",
       "10905                 15563.37       0                   253   \n",
       "10906                  5259.44   61146                    65   \n",
       "10907                 23893.30   39837                   201   \n",
       "10908                 11971.98   64195                   158   \n",
       "10909                  6857.52       0                   101   \n",
       "\n",
       "       months_since_last_claim  months_since_policy_inception  \\\n",
       "0                          7.0                             52   \n",
       "1                          3.0                             26   \n",
       "2                         34.0                             31   \n",
       "3                         10.0                              3   \n",
       "4                         14.0                             31   \n",
       "...                        ...                            ...   \n",
       "10905                     14.0                             40   \n",
       "10906                      7.0                             68   \n",
       "10907                     11.0                             63   \n",
       "10908                      0.0                             27   \n",
       "10909                     31.0                              1   \n",
       "\n",
       "       number_of_open_complaints  number_of_policies  month  response_rate  \n",
       "0                            0.0                   9      2              0  \n",
       "1                            0.0                   1      1              0  \n",
       "2                            0.0                   2      2              0  \n",
       "3                            0.0                   2      1              1  \n",
       "4                            0.0                   7      1              0  \n",
       "...                          ...                 ...    ...            ...  \n",
       "10905                        0.0                   7      1              0  \n",
       "10906                        0.0                   6      1              0  \n",
       "10907                        0.0                   2      2              0  \n",
       "10908                        4.0                   6      2              0  \n",
       "10909                        0.0                   3      1              0  \n",
       "\n",
       "[10910 rows x 9 columns]"
      ]
     },
     "execution_count": 105,
     "metadata": {},
     "output_type": "execute_result"
    }
   ],
   "source": [
    "round(X_numerical, 2)"
   ]
  },
  {
   "cell_type": "markdown",
   "id": "0d992959",
   "metadata": {},
   "source": [
    "#### Normalize (range data from 0-1) and train the scaler with values of X_num--> MinMaxScaler"
   ]
  },
  {
   "cell_type": "code",
   "execution_count": 106,
   "id": "09228358",
   "metadata": {},
   "outputs": [],
   "source": [
    "X_num2 = MinMaxScaler().fit(X_numerical)\n"
   ]
  },
  {
   "cell_type": "code",
   "execution_count": 107,
   "id": "a8dade16",
   "metadata": {},
   "outputs": [
    {
     "name": "stdout",
     "output_type": "stream",
     "text": [
      "(10910, 9)\n"
     ]
    }
   ],
   "source": [
    "x_normalized = X_num2.transform(X_numerical) # storing the transformed data in a variable and transforming it\n",
    "print(x_normalized.shape)\n",
    "x_normalized = pd.DataFrame(x_normalized, columns=X_numerical.columns)"
   ]
  },
  {
   "cell_type": "code",
   "execution_count": 108,
   "id": "f2e02cce",
   "metadata": {},
   "outputs": [
    {
     "data": {
      "text/html": [
       "<div>\n",
       "<style scoped>\n",
       "    .dataframe tbody tr th:only-of-type {\n",
       "        vertical-align: middle;\n",
       "    }\n",
       "\n",
       "    .dataframe tbody tr th {\n",
       "        vertical-align: top;\n",
       "    }\n",
       "\n",
       "    .dataframe thead th {\n",
       "        text-align: right;\n",
       "    }\n",
       "</style>\n",
       "<table border=\"1\" class=\"dataframe\">\n",
       "  <thead>\n",
       "    <tr style=\"text-align: right;\">\n",
       "      <th></th>\n",
       "      <th>count</th>\n",
       "      <th>mean</th>\n",
       "      <th>std</th>\n",
       "      <th>min</th>\n",
       "      <th>25%</th>\n",
       "      <th>50%</th>\n",
       "      <th>75%</th>\n",
       "      <th>max</th>\n",
       "    </tr>\n",
       "  </thead>\n",
       "  <tbody>\n",
       "    <tr>\n",
       "      <th>customer_lifetime_value</th>\n",
       "      <td>10910.0</td>\n",
       "      <td>0.075162</td>\n",
       "      <td>0.084555</td>\n",
       "      <td>0.0</td>\n",
       "      <td>0.025992</td>\n",
       "      <td>0.047566</td>\n",
       "      <td>0.087130</td>\n",
       "      <td>1.0</td>\n",
       "    </tr>\n",
       "    <tr>\n",
       "      <th>income</th>\n",
       "      <td>10910.0</td>\n",
       "      <td>0.375434</td>\n",
       "      <td>0.303650</td>\n",
       "      <td>0.0</td>\n",
       "      <td>0.000000</td>\n",
       "      <td>0.338199</td>\n",
       "      <td>0.622626</td>\n",
       "      <td>1.0</td>\n",
       "    </tr>\n",
       "    <tr>\n",
       "      <th>monthly_premium_auto</th>\n",
       "      <td>10910.0</td>\n",
       "      <td>0.135848</td>\n",
       "      <td>0.145327</td>\n",
       "      <td>0.0</td>\n",
       "      <td>0.029536</td>\n",
       "      <td>0.092827</td>\n",
       "      <td>0.202532</td>\n",
       "      <td>1.0</td>\n",
       "    </tr>\n",
       "    <tr>\n",
       "      <th>months_since_last_claim</th>\n",
       "      <td>10910.0</td>\n",
       "      <td>0.430926</td>\n",
       "      <td>0.279635</td>\n",
       "      <td>0.0</td>\n",
       "      <td>0.200000</td>\n",
       "      <td>0.400000</td>\n",
       "      <td>0.657143</td>\n",
       "      <td>1.0</td>\n",
       "    </tr>\n",
       "    <tr>\n",
       "      <th>months_since_policy_inception</th>\n",
       "      <td>10910.0</td>\n",
       "      <td>0.485777</td>\n",
       "      <td>0.282229</td>\n",
       "      <td>0.0</td>\n",
       "      <td>0.242424</td>\n",
       "      <td>0.484848</td>\n",
       "      <td>0.717172</td>\n",
       "      <td>1.0</td>\n",
       "    </tr>\n",
       "    <tr>\n",
       "      <th>number_of_open_complaints</th>\n",
       "      <td>10910.0</td>\n",
       "      <td>0.072392</td>\n",
       "      <td>0.178027</td>\n",
       "      <td>0.0</td>\n",
       "      <td>0.000000</td>\n",
       "      <td>0.000000</td>\n",
       "      <td>0.000000</td>\n",
       "      <td>1.0</td>\n",
       "    </tr>\n",
       "    <tr>\n",
       "      <th>number_of_policies</th>\n",
       "      <td>10910.0</td>\n",
       "      <td>0.247399</td>\n",
       "      <td>0.299920</td>\n",
       "      <td>0.0</td>\n",
       "      <td>0.000000</td>\n",
       "      <td>0.125000</td>\n",
       "      <td>0.375000</td>\n",
       "      <td>1.0</td>\n",
       "    </tr>\n",
       "    <tr>\n",
       "      <th>month</th>\n",
       "      <td>10910.0</td>\n",
       "      <td>0.466728</td>\n",
       "      <td>0.498915</td>\n",
       "      <td>0.0</td>\n",
       "      <td>0.000000</td>\n",
       "      <td>0.000000</td>\n",
       "      <td>1.000000</td>\n",
       "      <td>1.0</td>\n",
       "    </tr>\n",
       "    <tr>\n",
       "      <th>response_rate</th>\n",
       "      <td>10910.0</td>\n",
       "      <td>0.134372</td>\n",
       "      <td>0.341067</td>\n",
       "      <td>0.0</td>\n",
       "      <td>0.000000</td>\n",
       "      <td>0.000000</td>\n",
       "      <td>0.000000</td>\n",
       "      <td>1.0</td>\n",
       "    </tr>\n",
       "  </tbody>\n",
       "</table>\n",
       "</div>"
      ],
      "text/plain": [
       "                                 count      mean       std  min       25%  \\\n",
       "customer_lifetime_value        10910.0  0.075162  0.084555  0.0  0.025992   \n",
       "income                         10910.0  0.375434  0.303650  0.0  0.000000   \n",
       "monthly_premium_auto           10910.0  0.135848  0.145327  0.0  0.029536   \n",
       "months_since_last_claim        10910.0  0.430926  0.279635  0.0  0.200000   \n",
       "months_since_policy_inception  10910.0  0.485777  0.282229  0.0  0.242424   \n",
       "number_of_open_complaints      10910.0  0.072392  0.178027  0.0  0.000000   \n",
       "number_of_policies             10910.0  0.247399  0.299920  0.0  0.000000   \n",
       "month                          10910.0  0.466728  0.498915  0.0  0.000000   \n",
       "response_rate                  10910.0  0.134372  0.341067  0.0  0.000000   \n",
       "\n",
       "                                    50%       75%  max  \n",
       "customer_lifetime_value        0.047566  0.087130  1.0  \n",
       "income                         0.338199  0.622626  1.0  \n",
       "monthly_premium_auto           0.092827  0.202532  1.0  \n",
       "months_since_last_claim        0.400000  0.657143  1.0  \n",
       "months_since_policy_inception  0.484848  0.717172  1.0  \n",
       "number_of_open_complaints      0.000000  0.000000  1.0  \n",
       "number_of_policies             0.125000  0.375000  1.0  \n",
       "month                          0.000000  1.000000  1.0  \n",
       "response_rate                  0.000000  0.000000  1.0  "
      ]
     },
     "execution_count": 108,
     "metadata": {},
     "output_type": "execute_result"
    }
   ],
   "source": [
    "pd.DataFrame(x_normalized, columns=X_numerical.columns).describe().T"
   ]
  },
  {
   "cell_type": "code",
   "execution_count": 109,
   "id": "10ea5aa1",
   "metadata": {},
   "outputs": [],
   "source": [
    "#numerical.hist(bins=15)\n",
    "#sns.set(rc={'figure.figsize':(20,20)}) # resize tables\n",
    "#plt.show()"
   ]
  },
  {
   "cell_type": "code",
   "execution_count": null,
   "id": "4739f4d8",
   "metadata": {},
   "outputs": [],
   "source": []
  },
  {
   "cell_type": "code",
   "execution_count": null,
   "id": "482f6fc2",
   "metadata": {},
   "outputs": [],
   "source": []
  },
  {
   "cell_type": "code",
   "execution_count": null,
   "id": "6953a041",
   "metadata": {},
   "outputs": [],
   "source": []
  },
  {
   "cell_type": "markdown",
   "id": "3b7165ce",
   "metadata": {},
   "source": [
    "# Lab | Customer Analysis Round 6"
   ]
  },
  {
   "cell_type": "code",
   "execution_count": 110,
   "id": "3ed29a2c",
   "metadata": {},
   "outputs": [
    {
     "data": {
      "text/plain": [
       "Index(['customer', 'state', 'response', 'coverage', 'education',\n",
       "       'effective_to_date', 'employmentstatus', 'gender', 'location_code',\n",
       "       'marital_status', 'policy_type', 'policy', 'renew_offer_type',\n",
       "       'sales_channel', 'vehicle_class', 'vehicle_size', 'vehicle_type'],\n",
       "      dtype='object')"
      ]
     },
     "execution_count": 110,
     "metadata": {},
     "output_type": "execute_result"
    }
   ],
   "source": [
    "X_categorical.columns"
   ]
  },
  {
   "cell_type": "code",
   "execution_count": 111,
   "id": "e65935ae",
   "metadata": {},
   "outputs": [
    {
     "data": {
      "text/html": [
       "<div>\n",
       "<style scoped>\n",
       "    .dataframe tbody tr th:only-of-type {\n",
       "        vertical-align: middle;\n",
       "    }\n",
       "\n",
       "    .dataframe tbody tr th {\n",
       "        vertical-align: top;\n",
       "    }\n",
       "\n",
       "    .dataframe thead th {\n",
       "        text-align: right;\n",
       "    }\n",
       "</style>\n",
       "<table border=\"1\" class=\"dataframe\">\n",
       "  <thead>\n",
       "    <tr style=\"text-align: right;\">\n",
       "      <th></th>\n",
       "      <th>customer</th>\n",
       "      <th>state</th>\n",
       "      <th>response</th>\n",
       "      <th>coverage</th>\n",
       "      <th>education</th>\n",
       "      <th>effective_to_date</th>\n",
       "      <th>employmentstatus</th>\n",
       "      <th>gender</th>\n",
       "      <th>location_code</th>\n",
       "      <th>marital_status</th>\n",
       "      <th>policy_type</th>\n",
       "      <th>policy</th>\n",
       "      <th>renew_offer_type</th>\n",
       "      <th>sales_channel</th>\n",
       "      <th>vehicle_class</th>\n",
       "      <th>vehicle_size</th>\n",
       "      <th>vehicle_type</th>\n",
       "    </tr>\n",
       "  </thead>\n",
       "  <tbody>\n",
       "    <tr>\n",
       "      <th>0</th>\n",
       "      <td>DK49336</td>\n",
       "      <td>Arizona</td>\n",
       "      <td>No</td>\n",
       "      <td>Basic</td>\n",
       "      <td>College</td>\n",
       "      <td>2/18/11</td>\n",
       "      <td>Employed</td>\n",
       "      <td>M</td>\n",
       "      <td>Suburban</td>\n",
       "      <td>Married</td>\n",
       "      <td>Corporate Auto</td>\n",
       "      <td>Corporate L3</td>\n",
       "      <td>Offer3</td>\n",
       "      <td>Agent</td>\n",
       "      <td>Four-Door Car</td>\n",
       "      <td>Medsize</td>\n",
       "      <td>M</td>\n",
       "    </tr>\n",
       "  </tbody>\n",
       "</table>\n",
       "</div>"
      ],
      "text/plain": [
       "  customer    state response coverage education effective_to_date  \\\n",
       "0  DK49336  Arizona       No    Basic   College           2/18/11   \n",
       "\n",
       "  employmentstatus gender location_code marital_status     policy_type  \\\n",
       "0         Employed      M      Suburban        Married  Corporate Auto   \n",
       "\n",
       "         policy renew_offer_type sales_channel  vehicle_class vehicle_size  \\\n",
       "0  Corporate L3           Offer3         Agent  Four-Door Car      Medsize   \n",
       "\n",
       "  vehicle_type  \n",
       "0            M  "
      ]
     },
     "execution_count": 111,
     "metadata": {},
     "output_type": "execute_result"
    }
   ],
   "source": [
    "X_categorical.head(1)"
   ]
  },
  {
   "cell_type": "code",
   "execution_count": 112,
   "id": "7ac79270",
   "metadata": {},
   "outputs": [],
   "source": [
    "X_categorical = X_categorical.drop(['customer'], axis = 1)"
   ]
  },
  {
   "cell_type": "code",
   "execution_count": 113,
   "id": "02d41744",
   "metadata": {},
   "outputs": [],
   "source": [
    "X_categorical = X_categorical.drop(['effective_to_date'], axis = 1)"
   ]
  },
  {
   "cell_type": "code",
   "execution_count": 143,
   "id": "8ff584f9",
   "metadata": {},
   "outputs": [],
   "source": [
    "# pd.DataFrame(X_categorical)"
   ]
  },
  {
   "cell_type": "markdown",
   "id": "297e3d28",
   "metadata": {},
   "source": [
    "### One Hot/Label Encoding (categorical)."
   ]
  },
  {
   "cell_type": "code",
   "execution_count": 115,
   "id": "57fb796b",
   "metadata": {},
   "outputs": [
    {
     "data": {
      "text/html": [
       "<div>\n",
       "<style scoped>\n",
       "    .dataframe tbody tr th:only-of-type {\n",
       "        vertical-align: middle;\n",
       "    }\n",
       "\n",
       "    .dataframe tbody tr th {\n",
       "        vertical-align: top;\n",
       "    }\n",
       "\n",
       "    .dataframe thead th {\n",
       "        text-align: right;\n",
       "    }\n",
       "</style>\n",
       "<table border=\"1\" class=\"dataframe\">\n",
       "  <thead>\n",
       "    <tr style=\"text-align: right;\">\n",
       "      <th></th>\n",
       "      <th>state_California</th>\n",
       "      <th>state_Nevada</th>\n",
       "      <th>state_Oregon</th>\n",
       "      <th>state_Unknown</th>\n",
       "      <th>state_Washington</th>\n",
       "      <th>response_Unknown</th>\n",
       "      <th>response_Yes</th>\n",
       "      <th>coverage_Extended</th>\n",
       "      <th>coverage_Premium</th>\n",
       "      <th>education_College</th>\n",
       "      <th>...</th>\n",
       "      <th>vehicle_class_Luxury Car</th>\n",
       "      <th>vehicle_class_Luxury SUV</th>\n",
       "      <th>vehicle_class_SUV</th>\n",
       "      <th>vehicle_class_Sports Car</th>\n",
       "      <th>vehicle_class_Two-Door Car</th>\n",
       "      <th>vehicle_class_unknown</th>\n",
       "      <th>vehicle_size_Medsize</th>\n",
       "      <th>vehicle_size_Small</th>\n",
       "      <th>vehicle_size_unknown</th>\n",
       "      <th>vehicle_type_M</th>\n",
       "    </tr>\n",
       "  </thead>\n",
       "  <tbody>\n",
       "    <tr>\n",
       "      <th>0</th>\n",
       "      <td>0.0</td>\n",
       "      <td>0.0</td>\n",
       "      <td>0.0</td>\n",
       "      <td>0.0</td>\n",
       "      <td>0.0</td>\n",
       "      <td>0.0</td>\n",
       "      <td>0.0</td>\n",
       "      <td>0.0</td>\n",
       "      <td>0.0</td>\n",
       "      <td>1.0</td>\n",
       "      <td>...</td>\n",
       "      <td>0.0</td>\n",
       "      <td>0.0</td>\n",
       "      <td>0.0</td>\n",
       "      <td>0.0</td>\n",
       "      <td>0.0</td>\n",
       "      <td>0.0</td>\n",
       "      <td>1.0</td>\n",
       "      <td>0.0</td>\n",
       "      <td>0.0</td>\n",
       "      <td>1.0</td>\n",
       "    </tr>\n",
       "    <tr>\n",
       "      <th>1</th>\n",
       "      <td>1.0</td>\n",
       "      <td>0.0</td>\n",
       "      <td>0.0</td>\n",
       "      <td>0.0</td>\n",
       "      <td>0.0</td>\n",
       "      <td>0.0</td>\n",
       "      <td>0.0</td>\n",
       "      <td>0.0</td>\n",
       "      <td>0.0</td>\n",
       "      <td>1.0</td>\n",
       "      <td>...</td>\n",
       "      <td>0.0</td>\n",
       "      <td>0.0</td>\n",
       "      <td>0.0</td>\n",
       "      <td>0.0</td>\n",
       "      <td>0.0</td>\n",
       "      <td>0.0</td>\n",
       "      <td>1.0</td>\n",
       "      <td>0.0</td>\n",
       "      <td>0.0</td>\n",
       "      <td>1.0</td>\n",
       "    </tr>\n",
       "    <tr>\n",
       "      <th>2</th>\n",
       "      <td>0.0</td>\n",
       "      <td>0.0</td>\n",
       "      <td>0.0</td>\n",
       "      <td>0.0</td>\n",
       "      <td>1.0</td>\n",
       "      <td>0.0</td>\n",
       "      <td>0.0</td>\n",
       "      <td>0.0</td>\n",
       "      <td>0.0</td>\n",
       "      <td>0.0</td>\n",
       "      <td>...</td>\n",
       "      <td>0.0</td>\n",
       "      <td>0.0</td>\n",
       "      <td>1.0</td>\n",
       "      <td>0.0</td>\n",
       "      <td>0.0</td>\n",
       "      <td>0.0</td>\n",
       "      <td>1.0</td>\n",
       "      <td>0.0</td>\n",
       "      <td>0.0</td>\n",
       "      <td>0.0</td>\n",
       "    </tr>\n",
       "    <tr>\n",
       "      <th>3</th>\n",
       "      <td>0.0</td>\n",
       "      <td>0.0</td>\n",
       "      <td>1.0</td>\n",
       "      <td>0.0</td>\n",
       "      <td>0.0</td>\n",
       "      <td>0.0</td>\n",
       "      <td>1.0</td>\n",
       "      <td>1.0</td>\n",
       "      <td>0.0</td>\n",
       "      <td>1.0</td>\n",
       "      <td>...</td>\n",
       "      <td>0.0</td>\n",
       "      <td>0.0</td>\n",
       "      <td>0.0</td>\n",
       "      <td>0.0</td>\n",
       "      <td>0.0</td>\n",
       "      <td>0.0</td>\n",
       "      <td>1.0</td>\n",
       "      <td>0.0</td>\n",
       "      <td>0.0</td>\n",
       "      <td>0.0</td>\n",
       "    </tr>\n",
       "    <tr>\n",
       "      <th>4</th>\n",
       "      <td>0.0</td>\n",
       "      <td>0.0</td>\n",
       "      <td>1.0</td>\n",
       "      <td>0.0</td>\n",
       "      <td>0.0</td>\n",
       "      <td>0.0</td>\n",
       "      <td>0.0</td>\n",
       "      <td>0.0</td>\n",
       "      <td>1.0</td>\n",
       "      <td>0.0</td>\n",
       "      <td>...</td>\n",
       "      <td>0.0</td>\n",
       "      <td>0.0</td>\n",
       "      <td>0.0</td>\n",
       "      <td>0.0</td>\n",
       "      <td>0.0</td>\n",
       "      <td>0.0</td>\n",
       "      <td>1.0</td>\n",
       "      <td>0.0</td>\n",
       "      <td>0.0</td>\n",
       "      <td>1.0</td>\n",
       "    </tr>\n",
       "  </tbody>\n",
       "</table>\n",
       "<p>5 rows × 48 columns</p>\n",
       "</div>"
      ],
      "text/plain": [
       "   state_California  state_Nevada  state_Oregon  state_Unknown  \\\n",
       "0               0.0           0.0           0.0            0.0   \n",
       "1               1.0           0.0           0.0            0.0   \n",
       "2               0.0           0.0           0.0            0.0   \n",
       "3               0.0           0.0           1.0            0.0   \n",
       "4               0.0           0.0           1.0            0.0   \n",
       "\n",
       "   state_Washington  response_Unknown  response_Yes  coverage_Extended  \\\n",
       "0               0.0               0.0           0.0                0.0   \n",
       "1               0.0               0.0           0.0                0.0   \n",
       "2               1.0               0.0           0.0                0.0   \n",
       "3               0.0               0.0           1.0                1.0   \n",
       "4               0.0               0.0           0.0                0.0   \n",
       "\n",
       "   coverage_Premium  education_College  ...  vehicle_class_Luxury Car  \\\n",
       "0               0.0                1.0  ...                       0.0   \n",
       "1               0.0                1.0  ...                       0.0   \n",
       "2               0.0                0.0  ...                       0.0   \n",
       "3               0.0                1.0  ...                       0.0   \n",
       "4               1.0                0.0  ...                       0.0   \n",
       "\n",
       "   vehicle_class_Luxury SUV  vehicle_class_SUV  vehicle_class_Sports Car  \\\n",
       "0                       0.0                0.0                       0.0   \n",
       "1                       0.0                0.0                       0.0   \n",
       "2                       0.0                1.0                       0.0   \n",
       "3                       0.0                0.0                       0.0   \n",
       "4                       0.0                0.0                       0.0   \n",
       "\n",
       "   vehicle_class_Two-Door Car  vehicle_class_unknown  vehicle_size_Medsize  \\\n",
       "0                         0.0                    0.0                   1.0   \n",
       "1                         0.0                    0.0                   1.0   \n",
       "2                         0.0                    0.0                   1.0   \n",
       "3                         0.0                    0.0                   1.0   \n",
       "4                         0.0                    0.0                   1.0   \n",
       "\n",
       "   vehicle_size_Small  vehicle_size_unknown  vehicle_type_M  \n",
       "0                 0.0                   0.0             1.0  \n",
       "1                 0.0                   0.0             1.0  \n",
       "2                 0.0                   0.0             0.0  \n",
       "3                 0.0                   0.0             0.0  \n",
       "4                 0.0                   0.0             1.0  \n",
       "\n",
       "[5 rows x 48 columns]"
      ]
     },
     "metadata": {},
     "output_type": "display_data"
    },
    {
     "name": "stdout",
     "output_type": "stream",
     "text": [
      "------------------------\n"
     ]
    },
    {
     "data": {
      "text/plain": [
       "(10910, 48)"
      ]
     },
     "metadata": {},
     "output_type": "display_data"
    }
   ],
   "source": [
    "encoder = OneHotEncoder(drop='first').fit(X_categorical) \n",
    "cols = encoder.get_feature_names_out(input_features=X_categorical.columns)\n",
    "X_cat_encode = pd.DataFrame(encoder.transform(X_categorical).toarray(),columns=cols)\n",
    "display(X_cat_encode.head())\n",
    "print(\"------------------------\")\n",
    "display(X_cat_encode.shape)"
   ]
  },
  {
   "cell_type": "markdown",
   "id": "27e48d3f",
   "metadata": {},
   "source": [
    "### concatinate normalized and encoded dataframes"
   ]
  },
  {
   "cell_type": "code",
   "execution_count": 144,
   "id": "e1a68907",
   "metadata": {},
   "outputs": [],
   "source": [
    "X = pd.concat([x_normalized, X_cat_encode], axis=1)\n",
    "#display(X)\n",
    "#print(\"--------------------------------\")\n",
    "#display(X.dtypes)"
   ]
  },
  {
   "cell_type": "markdown",
   "id": "3cbd9390",
   "metadata": {},
   "source": [
    "### Train-test split\n",
    "##### Das Train-Test-Split-Verfahren besteht aus zufälligen Teilen eines Datensatzes. Ein Teil wird verwendet, um das Machine Learning-Modell zu trainieren, der andere Teil, um das Modell zu validieren. Im Allgemeinen reservieren wir 70 % bis 80 % der Daten im Datensatz für das Training."
   ]
  },
  {
   "cell_type": "code",
   "execution_count": 174,
   "id": "60716201",
   "metadata": {},
   "outputs": [],
   "source": [
    "from sklearn.model_selection import train_test_split\n",
    "import matplotlib\n",
    "X_train, X_test, y_train, y_test = train_test_split(X, y, test_size=0.30, random_state=34) #exclude random_state"
   ]
  },
  {
   "cell_type": "code",
   "execution_count": 175,
   "id": "79e3bf45",
   "metadata": {},
   "outputs": [
    {
     "name": "stdout",
     "output_type": "stream",
     "text": [
      "(7637, 57)\n",
      "(3273, 57)\n",
      "(7637,)\n",
      "(3273,)\n"
     ]
    }
   ],
   "source": [
    "print(X_train.shape)\n",
    "print(X_test.shape)\n",
    "print(y_train.shape)\n",
    "print(y_test.shape)"
   ]
  },
  {
   "cell_type": "code",
   "execution_count": 176,
   "id": "a3f22a0e",
   "metadata": {},
   "outputs": [],
   "source": [
    "# X_train.head()"
   ]
  },
  {
   "cell_type": "code",
   "execution_count": 177,
   "id": "b3ca967e",
   "metadata": {},
   "outputs": [
    {
     "data": {
      "text/plain": [
       "8037    336.000000\n",
       "4058    302.400000\n",
       "6062    768.000000\n",
       "2082    309.424708\n",
       "147     257.248789\n",
       "Name: total_claim_amount, dtype: float64"
      ]
     },
     "execution_count": 177,
     "metadata": {},
     "output_type": "execute_result"
    }
   ],
   "source": [
    "y_train.head()"
   ]
  },
  {
   "cell_type": "markdown",
   "id": "4cc568b4",
   "metadata": {},
   "source": [
    "### Linear regression\n",
    "##### Linear regression analysis is used to predict the value of a variable based on the value of another variable. The variable you want to predict is called the dependent variable. The variable you are using to predict the other variable's value is called the independent variable."
   ]
  },
  {
   "cell_type": "code",
   "execution_count": 178,
   "id": "bfdd53ce",
   "metadata": {},
   "outputs": [
    {
     "data": {
      "text/plain": [
       "LinearRegression()"
      ]
     },
     "execution_count": 178,
     "metadata": {},
     "output_type": "execute_result"
    }
   ],
   "source": [
    "lm = linear_model.LinearRegression()\n",
    "lm.fit(X_train,y_train)"
   ]
  },
  {
   "cell_type": "code",
   "execution_count": 179,
   "id": "c56a6799",
   "metadata": {},
   "outputs": [
    {
     "data": {
      "text/plain": [
       "580        33.192803\n",
       "5145      344.693511\n",
       "7813     1178.950186\n",
       "1798      415.850776\n",
       "10021     451.200000\n",
       "Name: total_claim_amount, dtype: float64"
      ]
     },
     "execution_count": 179,
     "metadata": {},
     "output_type": "execute_result"
    }
   ],
   "source": [
    "y_test[:5]"
   ]
  },
  {
   "cell_type": "markdown",
   "id": "3c161536",
   "metadata": {},
   "source": [
    "### R2\n",
    "##### gibt an, wie viel Streuung in den Daten durch ein vorliegendes lineares Regressionsmodell „erklärt“ werden kann."
   ]
  },
  {
   "cell_type": "code",
   "execution_count": 180,
   "id": "d313e1f9",
   "metadata": {},
   "outputs": [
    {
     "data": {
      "text/plain": [
       "0.7709074960777585"
      ]
     },
     "execution_count": 180,
     "metadata": {},
     "output_type": "execute_result"
    }
   ],
   "source": [
    "from sklearn.metrics import r2_score\n",
    "predictions = lm.predict(X_train)\n",
    "r2_score(y_train, predictions)"
   ]
  },
  {
   "cell_type": "code",
   "execution_count": 181,
   "id": "87893d64",
   "metadata": {},
   "outputs": [
    {
     "data": {
      "text/plain": [
       "0.7691609516760542"
      ]
     },
     "execution_count": 181,
     "metadata": {},
     "output_type": "execute_result"
    }
   ],
   "source": [
    "predictions_test = lm.predict(X_test)\n",
    "r2_score(y_test, predictions_test)"
   ]
  },
  {
   "cell_type": "code",
   "execution_count": 182,
   "id": "43441118",
   "metadata": {},
   "outputs": [
    {
     "data": {
      "text/plain": [
       "580        33.192803\n",
       "5145      344.693511\n",
       "7813     1178.950186\n",
       "1798      415.850776\n",
       "10021     451.200000\n",
       "Name: total_claim_amount, dtype: float64"
      ]
     },
     "execution_count": 182,
     "metadata": {},
     "output_type": "execute_result"
    }
   ],
   "source": [
    "y_test[:5]"
   ]
  },
  {
   "cell_type": "code",
   "execution_count": 183,
   "id": "fdc4bbb8",
   "metadata": {},
   "outputs": [
    {
     "data": {
      "text/plain": [
       "array([-49.4220834 , 280.41653965, 783.02701881, 390.7495309 ,\n",
       "       518.35623691])"
      ]
     },
     "execution_count": 183,
     "metadata": {},
     "output_type": "execute_result"
    }
   ],
   "source": [
    "predictions_test[:5]"
   ]
  },
  {
   "cell_type": "markdown",
   "id": "5cc72520",
   "metadata": {},
   "source": [
    "### MSE\n",
    "##### Der Mean Squared Error, kurz MSE, ist definiert als der erwartete quadratische Abstand des Schätzwerts. Er wird auch als die Metrik definiert, die die Qualität des Prognosemodells oder Prädiktors bewertet."
   ]
  },
  {
   "cell_type": "code",
   "execution_count": 184,
   "id": "9ff0abcc",
   "metadata": {},
   "outputs": [
    {
     "data": {
      "text/plain": [
       "20564.91562557181"
      ]
     },
     "execution_count": 184,
     "metadata": {},
     "output_type": "execute_result"
    }
   ],
   "source": [
    "from sklearn.metrics import mean_squared_error\n",
    "mse=mean_squared_error(y_test,predictions_test)\n",
    "mse"
   ]
  },
  {
   "cell_type": "markdown",
   "id": "d583862a",
   "metadata": {},
   "source": [
    "### RMSE\n",
    "##### Maß für die Genauigkeit der Regression. Er ist definiert als Quadratwurzel des erwartungstreuen Schätzers für die unbekannte Varianz der Störgrößen (englisch root mean squared error, kurz RMSE)"
   ]
  },
  {
   "cell_type": "code",
   "execution_count": 185,
   "id": "bc3081e4",
   "metadata": {},
   "outputs": [
    {
     "data": {
      "text/plain": [
       "143.40472665003693"
      ]
     },
     "execution_count": 185,
     "metadata": {},
     "output_type": "execute_result"
    }
   ],
   "source": [
    "rmse = np.sqrt(mean_squared_error(y_test,predictions_test))\n",
    "rmse"
   ]
  },
  {
   "cell_type": "code",
   "execution_count": 186,
   "id": "ebb84028",
   "metadata": {},
   "outputs": [
    {
     "data": {
      "text/plain": [
       "435.50866372746793"
      ]
     },
     "execution_count": 186,
     "metadata": {},
     "output_type": "execute_result"
    }
   ],
   "source": [
    "y_test.mean()"
   ]
  },
  {
   "cell_type": "markdown",
   "id": "9508e12d",
   "metadata": {},
   "source": [
    "### MAE\n",
    "##### Mean Absolute Error (MAE): der Durchschnitt der Abweichungen aller einzelnen Punkte vom Modell."
   ]
  },
  {
   "cell_type": "code",
   "execution_count": 187,
   "id": "bdfe2896",
   "metadata": {},
   "outputs": [
    {
     "name": "stdout",
     "output_type": "stream",
     "text": [
      "96.73583957984007\n"
     ]
    }
   ],
   "source": [
    "from sklearn.metrics import mean_absolute_error, r2_score\n",
    "mae = mean_absolute_error(y_test, predictions_test)\n",
    "print(mae)"
   ]
  },
  {
   "cell_type": "markdown",
   "id": "43f612fe",
   "metadata": {},
   "source": [
    "# Lab | Customer Analysis Round 7"
   ]
  },
  {
   "cell_type": "code",
   "execution_count": 189,
   "id": "138592c1",
   "metadata": {},
   "outputs": [],
   "source": [
    "#### test_size=0.30, random_state=34, StandardScaler:\n",
    "####    r2_score(y_train, predictions)=0.7708459603075914\n",
    "####    r2_score(y_test, predictions_test)=0.7691177665820166\n",
    "####    MSE: 20568.762885477005\n",
    "####    RMSE: 143.41814001540044\n",
    "####    MAE: 96.73437102062329\n",
    "\n",
    "#### test_size=0.30, random_state=34, MinMaxScaler:\n",
    "####    r2_score(y_train, predictions)=0.7709074960777585\n",
    "####    r2_score(y_test, predictions_test)=0.7691609516760542\n",
    "####    MSE: 20564.91562557181\n",
    "####    RMSE: 143.40472665003693\n",
    "####    MAE: 96.73583957984007\n",
    "\n",
    "#### test_size=0.25, random_state=34, MinMaxScaler:\n",
    "####    r2_score(y_train, predictions)=0.7727492378756562\n",
    "####    r2_score(y_test, predictions_test)=0.7637368415933571\n",
    "####    MSE: 20175.962624390737\n",
    "####    RMSE: 142.04211567134143\n",
    "####    MAE: 96.43386102819369\n",
    "\n",
    "#### test_size=0.20, random_state=34, MinMaxScaler:\n",
    "####    r2_score(y_train, predictions)=0.7697085979498753\n",
    "####    r2_score(y_test, predictions_test)=0.7739156358111379\n",
    "####    MSE: 20090.382979544924\n",
    "####    RMSE: 141.74054811360412\n",
    "####    MAE: 96.20965359529227\n",
    "\n",
    "#### test_size=0.15, random_state=34, MinMaxScaler:\n",
    "####    r2_score(y_train, predictions)=0.7700380254771444\n",
    "####    r2_score(y_test, predictions_test)=0.7752859644851957\n",
    "####    MSE: 18652.636777006977\n",
    "####    RMSE: 136.57465642280408\n",
    "####    MAE: 95.00189717819451\n",
    "\n",
    "# as smaller the test-size as smaller is the mae (smaller is better)\n"
   ]
  },
  {
   "cell_type": "markdown",
   "id": "b5c6df4d",
   "metadata": {},
   "source": [
    "### StandardScaler"
   ]
  },
  {
   "cell_type": "code",
   "execution_count": 195,
   "id": "0fea2281",
   "metadata": {},
   "outputs": [
    {
     "name": "stdout",
     "output_type": "stream",
     "text": [
      "(10910, 9)\n"
     ]
    }
   ],
   "source": [
    "from sklearn.preprocessing import StandardScaler\n",
    "\n",
    "standard_transformer = StandardScaler().fit(X_numerical) # train the scaler with the values from X_numerical\n",
    "x_standardized2 = standard_transformer.transform(X_numerical) \n",
    "print(x_standardized2.shape)\n",
    "x_standardized2 = pd.DataFrame(x_standardized2, columns=X_numerical.columns)"
   ]
  },
  {
   "cell_type": "code",
   "execution_count": 194,
   "id": "de4d8730",
   "metadata": {},
   "outputs": [],
   "source": [
    "# pd.DataFrame(x_standardized, columns=X_numerical.columns).describe().T"
   ]
  },
  {
   "cell_type": "code",
   "execution_count": 196,
   "id": "e55eadc6",
   "metadata": {},
   "outputs": [],
   "source": [
    "X = pd.concat([x_standardized2, X_cat_encode], axis=1)\n",
    "#display(X)\n",
    "#print(\"--------------------------------\")\n",
    "#display(X.dtypes)"
   ]
  },
  {
   "cell_type": "code",
   "execution_count": 197,
   "id": "2b2b5e9f",
   "metadata": {},
   "outputs": [],
   "source": [
    "from sklearn.model_selection import train_test_split\n",
    "import matplotlib\n",
    "X_train, X_test, y_train, y_test = train_test_split(X, y, test_size=0.30, random_state=34) #exclude random_state"
   ]
  },
  {
   "cell_type": "code",
   "execution_count": 198,
   "id": "ef8b874c",
   "metadata": {},
   "outputs": [
    {
     "name": "stdout",
     "output_type": "stream",
     "text": [
      "(7637, 57)\n",
      "(3273, 57)\n",
      "(7637,)\n",
      "(3273,)\n"
     ]
    }
   ],
   "source": [
    "print(X_train.shape)\n",
    "print(X_test.shape)\n",
    "print(y_train.shape)\n",
    "print(y_test.shape)"
   ]
  },
  {
   "cell_type": "code",
   "execution_count": 199,
   "id": "b5be0e95",
   "metadata": {},
   "outputs": [
    {
     "data": {
      "text/plain": [
       "LinearRegression()"
      ]
     },
     "execution_count": 199,
     "metadata": {},
     "output_type": "execute_result"
    }
   ],
   "source": [
    "lm = linear_model.LinearRegression()\n",
    "lm.fit(X_train,y_train)"
   ]
  },
  {
   "cell_type": "code",
   "execution_count": 200,
   "id": "845c9aa5",
   "metadata": {},
   "outputs": [
    {
     "data": {
      "text/plain": [
       "580        33.192803\n",
       "5145      344.693511\n",
       "7813     1178.950186\n",
       "1798      415.850776\n",
       "10021     451.200000\n",
       "Name: total_claim_amount, dtype: float64"
      ]
     },
     "execution_count": 200,
     "metadata": {},
     "output_type": "execute_result"
    }
   ],
   "source": [
    "y_test[:5]"
   ]
  },
  {
   "cell_type": "code",
   "execution_count": 201,
   "id": "3932a8d8",
   "metadata": {},
   "outputs": [
    {
     "data": {
      "text/plain": [
       "array([-49.4220834 , 280.41653965, 783.02701881, 390.7495309 ,\n",
       "       518.35623691])"
      ]
     },
     "execution_count": 201,
     "metadata": {},
     "output_type": "execute_result"
    }
   ],
   "source": [
    "predictions_test[:5]"
   ]
  },
  {
   "cell_type": "code",
   "execution_count": 202,
   "id": "fc4eb8d0",
   "metadata": {},
   "outputs": [
    {
     "data": {
      "text/plain": [
       "0.7708459603075914"
      ]
     },
     "execution_count": 202,
     "metadata": {},
     "output_type": "execute_result"
    }
   ],
   "source": [
    "predictions = lm.predict(X_train)\n",
    "r2_score(y_train, predictions) "
   ]
  },
  {
   "cell_type": "code",
   "execution_count": 203,
   "id": "cb903133",
   "metadata": {},
   "outputs": [
    {
     "data": {
      "text/plain": [
       "0.7691177665820166"
      ]
     },
     "execution_count": 203,
     "metadata": {},
     "output_type": "execute_result"
    }
   ],
   "source": [
    "predictions_test = lm.predict(X_test)\n",
    "r2_score(y_test, predictions_test)"
   ]
  },
  {
   "cell_type": "code",
   "execution_count": 204,
   "id": "434cba7f",
   "metadata": {},
   "outputs": [
    {
     "data": {
      "text/plain": [
       "20568.762885477005"
      ]
     },
     "execution_count": 204,
     "metadata": {},
     "output_type": "execute_result"
    }
   ],
   "source": [
    "from sklearn.metrics import mean_squared_error\n",
    "mse=mean_squared_error(y_test,predictions_test)\n",
    "mse"
   ]
  },
  {
   "cell_type": "code",
   "execution_count": 205,
   "id": "d20bd212",
   "metadata": {},
   "outputs": [
    {
     "data": {
      "text/plain": [
       "143.41814001540044"
      ]
     },
     "execution_count": 205,
     "metadata": {},
     "output_type": "execute_result"
    }
   ],
   "source": [
    "rmse = np.sqrt(mean_squared_error(y_test,predictions_test))\n",
    "rmse"
   ]
  },
  {
   "cell_type": "code",
   "execution_count": 206,
   "id": "5fc9c7b9",
   "metadata": {},
   "outputs": [
    {
     "name": "stdout",
     "output_type": "stream",
     "text": [
      "96.73437102062329\n"
     ]
    }
   ],
   "source": [
    "from sklearn.metrics import mean_absolute_error, r2_score\n",
    "mae = mean_absolute_error(y_test, predictions_test)\n",
    "print(mae)"
   ]
  },
  {
   "cell_type": "code",
   "execution_count": null,
   "id": "5f0a3407",
   "metadata": {},
   "outputs": [],
   "source": []
  }
 ],
 "metadata": {
  "kernelspec": {
   "display_name": "Python 3 (ipykernel)",
   "language": "python",
   "name": "python3"
  },
  "language_info": {
   "codemirror_mode": {
    "name": "ipython",
    "version": 3
   },
   "file_extension": ".py",
   "mimetype": "text/x-python",
   "name": "python",
   "nbconvert_exporter": "python",
   "pygments_lexer": "ipython3",
   "version": "3.9.12"
  }
 },
 "nbformat": 4,
 "nbformat_minor": 5
}
